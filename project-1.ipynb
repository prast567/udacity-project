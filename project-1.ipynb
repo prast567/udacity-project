{
 "cells": [
  {
   "cell_type": "markdown",
   "metadata": {},
   "source": [
    "# PROJECT: WRITE A DATA SCIENCE BLOG POST\n",
    "\n",
    "The current project at Udacity is about analyzing AirBnB data for Seattle and writing a blog article based on my analysis. In the following I describe my approach to the task."
   ]
  },
  {
   "cell_type": "markdown",
   "metadata": {},
   "source": [
    "## Approach\n",
    "\n",
    "1. *Gathering* the data as a basis for our analysis\n",
    "2. Visual and programmatic *Assessment* of the dataset to get an overview\n",
    "3. Data *Cleaning and preparation* to prepare the existing data for later processing \n",
    "   - Delete missing or unnecessary information\n",
    "   - Change data types\n",
    "   - Imputing missing values\n",
    "4. *Analysis* to find out trends and correlations. Also predicting an model by machine learning\n",
    "5. *Conclusion*"
   ]
  },
  {
   "cell_type": "code",
   "execution_count": 1,
   "metadata": {},
   "outputs": [],
   "source": [
    "# Import necessary packages\n",
    "\n",
    "import numpy as np\n",
    "import pandas as pd\n",
    "\n",
    "## Plotting packages\n",
    "import matplotlib.pyplot as plt\n",
    "import seaborn as sns\n",
    "%matplotlib inline\n",
    "\n",
    "## Machine learning packages\n",
    "from sklearn.linear_model import LinearRegression\n",
    "from sklearn.model_selection import train_test_split\n",
    "from sklearn.metrics import r2_score, mean_squared_error"
   ]
  },
  {
   "cell_type": "markdown",
   "metadata": {},
   "source": [
    "## Gathering Data"
   ]
  },
  {
   "cell_type": "code",
   "execution_count": 2,
   "metadata": {},
   "outputs": [
    {
     "data": {
      "text/html": [
       "<div>\n",
       "<style scoped>\n",
       "    .dataframe tbody tr th:only-of-type {\n",
       "        vertical-align: middle;\n",
       "    }\n",
       "\n",
       "    .dataframe tbody tr th {\n",
       "        vertical-align: top;\n",
       "    }\n",
       "\n",
       "    .dataframe thead th {\n",
       "        text-align: right;\n",
       "    }\n",
       "</style>\n",
       "<table border=\"1\" class=\"dataframe\">\n",
       "  <thead>\n",
       "    <tr style=\"text-align: right;\">\n",
       "      <th></th>\n",
       "      <th>id</th>\n",
       "      <th>listing_url</th>\n",
       "      <th>scrape_id</th>\n",
       "      <th>last_scraped</th>\n",
       "      <th>name</th>\n",
       "      <th>summary</th>\n",
       "      <th>space</th>\n",
       "      <th>description</th>\n",
       "      <th>experiences_offered</th>\n",
       "      <th>neighborhood_overview</th>\n",
       "      <th>...</th>\n",
       "      <th>review_scores_value</th>\n",
       "      <th>requires_license</th>\n",
       "      <th>license</th>\n",
       "      <th>jurisdiction_names</th>\n",
       "      <th>instant_bookable</th>\n",
       "      <th>cancellation_policy</th>\n",
       "      <th>require_guest_profile_picture</th>\n",
       "      <th>require_guest_phone_verification</th>\n",
       "      <th>calculated_host_listings_count</th>\n",
       "      <th>reviews_per_month</th>\n",
       "    </tr>\n",
       "  </thead>\n",
       "  <tbody>\n",
       "    <tr>\n",
       "      <th>0</th>\n",
       "      <td>241032</td>\n",
       "      <td>https://www.airbnb.com/rooms/241032</td>\n",
       "      <td>20160104002432</td>\n",
       "      <td>2016-01-04</td>\n",
       "      <td>Stylish Queen Anne Apartment</td>\n",
       "      <td>NaN</td>\n",
       "      <td>Make your self at home in this charming one-be...</td>\n",
       "      <td>Make your self at home in this charming one-be...</td>\n",
       "      <td>none</td>\n",
       "      <td>NaN</td>\n",
       "      <td>...</td>\n",
       "      <td>10.0</td>\n",
       "      <td>f</td>\n",
       "      <td>NaN</td>\n",
       "      <td>WASHINGTON</td>\n",
       "      <td>f</td>\n",
       "      <td>moderate</td>\n",
       "      <td>f</td>\n",
       "      <td>f</td>\n",
       "      <td>2</td>\n",
       "      <td>4.07</td>\n",
       "    </tr>\n",
       "    <tr>\n",
       "      <th>1</th>\n",
       "      <td>953595</td>\n",
       "      <td>https://www.airbnb.com/rooms/953595</td>\n",
       "      <td>20160104002432</td>\n",
       "      <td>2016-01-04</td>\n",
       "      <td>Bright &amp; Airy Queen Anne Apartment</td>\n",
       "      <td>Chemically sensitive? We've removed the irrita...</td>\n",
       "      <td>Beautiful, hypoallergenic apartment in an extr...</td>\n",
       "      <td>Chemically sensitive? We've removed the irrita...</td>\n",
       "      <td>none</td>\n",
       "      <td>Queen Anne is a wonderful, truly functional vi...</td>\n",
       "      <td>...</td>\n",
       "      <td>10.0</td>\n",
       "      <td>f</td>\n",
       "      <td>NaN</td>\n",
       "      <td>WASHINGTON</td>\n",
       "      <td>f</td>\n",
       "      <td>strict</td>\n",
       "      <td>t</td>\n",
       "      <td>t</td>\n",
       "      <td>6</td>\n",
       "      <td>1.48</td>\n",
       "    </tr>\n",
       "    <tr>\n",
       "      <th>2</th>\n",
       "      <td>3308979</td>\n",
       "      <td>https://www.airbnb.com/rooms/3308979</td>\n",
       "      <td>20160104002432</td>\n",
       "      <td>2016-01-04</td>\n",
       "      <td>New Modern House-Amazing water view</td>\n",
       "      <td>New modern house built in 2013.  Spectacular s...</td>\n",
       "      <td>Our house is modern, light and fresh with a wa...</td>\n",
       "      <td>New modern house built in 2013.  Spectacular s...</td>\n",
       "      <td>none</td>\n",
       "      <td>Upper Queen Anne is a charming neighborhood fu...</td>\n",
       "      <td>...</td>\n",
       "      <td>10.0</td>\n",
       "      <td>f</td>\n",
       "      <td>NaN</td>\n",
       "      <td>WASHINGTON</td>\n",
       "      <td>f</td>\n",
       "      <td>strict</td>\n",
       "      <td>f</td>\n",
       "      <td>f</td>\n",
       "      <td>2</td>\n",
       "      <td>1.15</td>\n",
       "    </tr>\n",
       "    <tr>\n",
       "      <th>3</th>\n",
       "      <td>7421966</td>\n",
       "      <td>https://www.airbnb.com/rooms/7421966</td>\n",
       "      <td>20160104002432</td>\n",
       "      <td>2016-01-04</td>\n",
       "      <td>Queen Anne Chateau</td>\n",
       "      <td>A charming apartment that sits atop Queen Anne...</td>\n",
       "      <td>NaN</td>\n",
       "      <td>A charming apartment that sits atop Queen Anne...</td>\n",
       "      <td>none</td>\n",
       "      <td>NaN</td>\n",
       "      <td>...</td>\n",
       "      <td>NaN</td>\n",
       "      <td>f</td>\n",
       "      <td>NaN</td>\n",
       "      <td>WASHINGTON</td>\n",
       "      <td>f</td>\n",
       "      <td>flexible</td>\n",
       "      <td>f</td>\n",
       "      <td>f</td>\n",
       "      <td>1</td>\n",
       "      <td>NaN</td>\n",
       "    </tr>\n",
       "    <tr>\n",
       "      <th>4</th>\n",
       "      <td>278830</td>\n",
       "      <td>https://www.airbnb.com/rooms/278830</td>\n",
       "      <td>20160104002432</td>\n",
       "      <td>2016-01-04</td>\n",
       "      <td>Charming craftsman 3 bdm house</td>\n",
       "      <td>Cozy family craftman house in beautiful neighb...</td>\n",
       "      <td>Cozy family craftman house in beautiful neighb...</td>\n",
       "      <td>Cozy family craftman house in beautiful neighb...</td>\n",
       "      <td>none</td>\n",
       "      <td>We are in the beautiful neighborhood of Queen ...</td>\n",
       "      <td>...</td>\n",
       "      <td>9.0</td>\n",
       "      <td>f</td>\n",
       "      <td>NaN</td>\n",
       "      <td>WASHINGTON</td>\n",
       "      <td>f</td>\n",
       "      <td>strict</td>\n",
       "      <td>f</td>\n",
       "      <td>f</td>\n",
       "      <td>1</td>\n",
       "      <td>0.89</td>\n",
       "    </tr>\n",
       "  </tbody>\n",
       "</table>\n",
       "<p>5 rows × 92 columns</p>\n",
       "</div>"
      ],
      "text/plain": [
       "        id                           listing_url       scrape_id last_scraped  \\\n",
       "0   241032   https://www.airbnb.com/rooms/241032  20160104002432   2016-01-04   \n",
       "1   953595   https://www.airbnb.com/rooms/953595  20160104002432   2016-01-04   \n",
       "2  3308979  https://www.airbnb.com/rooms/3308979  20160104002432   2016-01-04   \n",
       "3  7421966  https://www.airbnb.com/rooms/7421966  20160104002432   2016-01-04   \n",
       "4   278830   https://www.airbnb.com/rooms/278830  20160104002432   2016-01-04   \n",
       "\n",
       "                                  name  \\\n",
       "0         Stylish Queen Anne Apartment   \n",
       "1   Bright & Airy Queen Anne Apartment   \n",
       "2  New Modern House-Amazing water view   \n",
       "3                   Queen Anne Chateau   \n",
       "4       Charming craftsman 3 bdm house   \n",
       "\n",
       "                                             summary  \\\n",
       "0                                                NaN   \n",
       "1  Chemically sensitive? We've removed the irrita...   \n",
       "2  New modern house built in 2013.  Spectacular s...   \n",
       "3  A charming apartment that sits atop Queen Anne...   \n",
       "4  Cozy family craftman house in beautiful neighb...   \n",
       "\n",
       "                                               space  \\\n",
       "0  Make your self at home in this charming one-be...   \n",
       "1  Beautiful, hypoallergenic apartment in an extr...   \n",
       "2  Our house is modern, light and fresh with a wa...   \n",
       "3                                                NaN   \n",
       "4  Cozy family craftman house in beautiful neighb...   \n",
       "\n",
       "                                         description experiences_offered  \\\n",
       "0  Make your self at home in this charming one-be...                none   \n",
       "1  Chemically sensitive? We've removed the irrita...                none   \n",
       "2  New modern house built in 2013.  Spectacular s...                none   \n",
       "3  A charming apartment that sits atop Queen Anne...                none   \n",
       "4  Cozy family craftman house in beautiful neighb...                none   \n",
       "\n",
       "                               neighborhood_overview  ... review_scores_value  \\\n",
       "0                                                NaN  ...                10.0   \n",
       "1  Queen Anne is a wonderful, truly functional vi...  ...                10.0   \n",
       "2  Upper Queen Anne is a charming neighborhood fu...  ...                10.0   \n",
       "3                                                NaN  ...                 NaN   \n",
       "4  We are in the beautiful neighborhood of Queen ...  ...                 9.0   \n",
       "\n",
       "  requires_license license jurisdiction_names instant_bookable  \\\n",
       "0                f     NaN         WASHINGTON                f   \n",
       "1                f     NaN         WASHINGTON                f   \n",
       "2                f     NaN         WASHINGTON                f   \n",
       "3                f     NaN         WASHINGTON                f   \n",
       "4                f     NaN         WASHINGTON                f   \n",
       "\n",
       "  cancellation_policy  require_guest_profile_picture  \\\n",
       "0            moderate                              f   \n",
       "1              strict                              t   \n",
       "2              strict                              f   \n",
       "3            flexible                              f   \n",
       "4              strict                              f   \n",
       "\n",
       "  require_guest_phone_verification calculated_host_listings_count  \\\n",
       "0                                f                              2   \n",
       "1                                t                              6   \n",
       "2                                f                              2   \n",
       "3                                f                              1   \n",
       "4                                f                              1   \n",
       "\n",
       "  reviews_per_month  \n",
       "0              4.07  \n",
       "1              1.48  \n",
       "2              1.15  \n",
       "3               NaN  \n",
       "4              0.89  \n",
       "\n",
       "[5 rows x 92 columns]"
      ]
     },
     "execution_count": 2,
     "metadata": {},
     "output_type": "execute_result"
    }
   ],
   "source": [
    "# Read listings dataset\n",
    "df_listings = pd.read_csv('listings.csv')\n",
    "df_listings.head()"
   ]
  },
  {
   "cell_type": "code",
   "execution_count": 3,
   "metadata": {},
   "outputs": [
    {
     "data": {
      "text/plain": [
       "(3818, 92)"
      ]
     },
     "execution_count": 3,
     "metadata": {},
     "output_type": "execute_result"
    }
   ],
   "source": [
    "# Shape of listings DataFrame\n",
    "df_listings.shape"
   ]
  },
  {
   "cell_type": "code",
   "execution_count": 4,
   "metadata": {},
   "outputs": [
    {
     "name": "stdout",
     "output_type": "stream",
     "text": [
      "The dataset \"listings.csv\" contains information about 3818 listings saved in 92 variables by 2751 hosts.\n"
     ]
    }
   ],
   "source": [
    "print('The dataset \"listings.csv\" contains information about %d listings saved in %d variables by %d hosts.' % (df_listings.shape[0], df_listings.shape[1], len(df_listings['host_id'].unique())))"
   ]
  },
  {
   "cell_type": "code",
   "execution_count": 5,
   "metadata": {},
   "outputs": [
    {
     "data": {
      "text/html": [
       "<div>\n",
       "<style scoped>\n",
       "    .dataframe tbody tr th:only-of-type {\n",
       "        vertical-align: middle;\n",
       "    }\n",
       "\n",
       "    .dataframe tbody tr th {\n",
       "        vertical-align: top;\n",
       "    }\n",
       "\n",
       "    .dataframe thead th {\n",
       "        text-align: right;\n",
       "    }\n",
       "</style>\n",
       "<table border=\"1\" class=\"dataframe\">\n",
       "  <thead>\n",
       "    <tr style=\"text-align: right;\">\n",
       "      <th></th>\n",
       "      <th>listing_id</th>\n",
       "      <th>date</th>\n",
       "      <th>available</th>\n",
       "      <th>price</th>\n",
       "    </tr>\n",
       "  </thead>\n",
       "  <tbody>\n",
       "    <tr>\n",
       "      <th>0</th>\n",
       "      <td>241032</td>\n",
       "      <td>2016-01-04</td>\n",
       "      <td>t</td>\n",
       "      <td>$85.00</td>\n",
       "    </tr>\n",
       "    <tr>\n",
       "      <th>1</th>\n",
       "      <td>241032</td>\n",
       "      <td>2016-01-05</td>\n",
       "      <td>t</td>\n",
       "      <td>$85.00</td>\n",
       "    </tr>\n",
       "    <tr>\n",
       "      <th>2</th>\n",
       "      <td>241032</td>\n",
       "      <td>2016-01-06</td>\n",
       "      <td>f</td>\n",
       "      <td>NaN</td>\n",
       "    </tr>\n",
       "    <tr>\n",
       "      <th>3</th>\n",
       "      <td>241032</td>\n",
       "      <td>2016-01-07</td>\n",
       "      <td>f</td>\n",
       "      <td>NaN</td>\n",
       "    </tr>\n",
       "    <tr>\n",
       "      <th>4</th>\n",
       "      <td>241032</td>\n",
       "      <td>2016-01-08</td>\n",
       "      <td>f</td>\n",
       "      <td>NaN</td>\n",
       "    </tr>\n",
       "  </tbody>\n",
       "</table>\n",
       "</div>"
      ],
      "text/plain": [
       "   listing_id        date available   price\n",
       "0      241032  2016-01-04         t  $85.00\n",
       "1      241032  2016-01-05         t  $85.00\n",
       "2      241032  2016-01-06         f     NaN\n",
       "3      241032  2016-01-07         f     NaN\n",
       "4      241032  2016-01-08         f     NaN"
      ]
     },
     "execution_count": 5,
     "metadata": {},
     "output_type": "execute_result"
    }
   ],
   "source": [
    "# Read calendar dataset\n",
    "df_calendar = pd.read_csv('calendar.csv')\n",
    "df_calendar.head()"
   ]
  },
  {
   "cell_type": "code",
   "execution_count": 6,
   "metadata": {},
   "outputs": [
    {
     "name": "stdout",
     "output_type": "stream",
     "text": [
      "The dataset \"calendar.csv\" contains information about 3818 unique listings from 2016-01-04 to 2017-01-02.\n"
     ]
    }
   ],
   "source": [
    "print('The dataset \"calendar.csv\" contains information about %d unique listings from %s to %s.' % (df_calendar['listing_id'].nunique(), df_calendar['date'].min(), df_calendar['date'].max()))"
   ]
  },
  {
   "cell_type": "code",
   "execution_count": 7,
   "metadata": {},
   "outputs": [
    {
     "data": {
      "text/html": [
       "<div>\n",
       "<style scoped>\n",
       "    .dataframe tbody tr th:only-of-type {\n",
       "        vertical-align: middle;\n",
       "    }\n",
       "\n",
       "    .dataframe tbody tr th {\n",
       "        vertical-align: top;\n",
       "    }\n",
       "\n",
       "    .dataframe thead th {\n",
       "        text-align: right;\n",
       "    }\n",
       "</style>\n",
       "<table border=\"1\" class=\"dataframe\">\n",
       "  <thead>\n",
       "    <tr style=\"text-align: right;\">\n",
       "      <th></th>\n",
       "      <th>listing_id</th>\n",
       "      <th>id</th>\n",
       "      <th>date</th>\n",
       "      <th>reviewer_id</th>\n",
       "      <th>reviewer_name</th>\n",
       "      <th>comments</th>\n",
       "    </tr>\n",
       "  </thead>\n",
       "  <tbody>\n",
       "    <tr>\n",
       "      <th>0</th>\n",
       "      <td>7202016</td>\n",
       "      <td>38917982</td>\n",
       "      <td>2015-07-19</td>\n",
       "      <td>28943674</td>\n",
       "      <td>Bianca</td>\n",
       "      <td>Cute and cozy place. Perfect location to every...</td>\n",
       "    </tr>\n",
       "    <tr>\n",
       "      <th>1</th>\n",
       "      <td>7202016</td>\n",
       "      <td>39087409</td>\n",
       "      <td>2015-07-20</td>\n",
       "      <td>32440555</td>\n",
       "      <td>Frank</td>\n",
       "      <td>Kelly has a great room in a very central locat...</td>\n",
       "    </tr>\n",
       "    <tr>\n",
       "      <th>2</th>\n",
       "      <td>7202016</td>\n",
       "      <td>39820030</td>\n",
       "      <td>2015-07-26</td>\n",
       "      <td>37722850</td>\n",
       "      <td>Ian</td>\n",
       "      <td>Very spacious apartment, and in a great neighb...</td>\n",
       "    </tr>\n",
       "    <tr>\n",
       "      <th>3</th>\n",
       "      <td>7202016</td>\n",
       "      <td>40813543</td>\n",
       "      <td>2015-08-02</td>\n",
       "      <td>33671805</td>\n",
       "      <td>George</td>\n",
       "      <td>Close to Seattle Center and all it has to offe...</td>\n",
       "    </tr>\n",
       "    <tr>\n",
       "      <th>4</th>\n",
       "      <td>7202016</td>\n",
       "      <td>41986501</td>\n",
       "      <td>2015-08-10</td>\n",
       "      <td>34959538</td>\n",
       "      <td>Ming</td>\n",
       "      <td>Kelly was a great host and very accommodating ...</td>\n",
       "    </tr>\n",
       "  </tbody>\n",
       "</table>\n",
       "</div>"
      ],
      "text/plain": [
       "   listing_id        id        date  reviewer_id reviewer_name  \\\n",
       "0     7202016  38917982  2015-07-19     28943674        Bianca   \n",
       "1     7202016  39087409  2015-07-20     32440555         Frank   \n",
       "2     7202016  39820030  2015-07-26     37722850           Ian   \n",
       "3     7202016  40813543  2015-08-02     33671805        George   \n",
       "4     7202016  41986501  2015-08-10     34959538          Ming   \n",
       "\n",
       "                                            comments  \n",
       "0  Cute and cozy place. Perfect location to every...  \n",
       "1  Kelly has a great room in a very central locat...  \n",
       "2  Very spacious apartment, and in a great neighb...  \n",
       "3  Close to Seattle Center and all it has to offe...  \n",
       "4  Kelly was a great host and very accommodating ...  "
      ]
     },
     "execution_count": 7,
     "metadata": {},
     "output_type": "execute_result"
    }
   ],
   "source": [
    "# Read reviews.csv dataset\n",
    "df_reviews = pd.read_csv('reviews.csv')\n",
    "df_reviews.head()"
   ]
  },
  {
   "cell_type": "code",
   "execution_count": 8,
   "metadata": {},
   "outputs": [
    {
     "name": "stdout",
     "output_type": "stream",
     "text": [
      "The dataset \"reviews.csv\" contains information about 3191 unique listings by 75730 unique reviewers.\n"
     ]
    }
   ],
   "source": [
    "print('The dataset \"reviews.csv\" contains information about %d unique listings by %d unique reviewers.' % (df_reviews['listing_id'].nunique(), df_reviews['reviewer_id'].nunique()))"
   ]
  },
  {
   "cell_type": "markdown",
   "metadata": {},
   "source": [
    "## Assessing Data"
   ]
  },
  {
   "cell_type": "markdown",
   "metadata": {},
   "source": [
    "### `df_listings`"
   ]
  },
  {
   "cell_type": "code",
   "execution_count": 9,
   "metadata": {},
   "outputs": [
    {
     "name": "stdout",
     "output_type": "stream",
     "text": [
      "<class 'pandas.core.frame.DataFrame'>\n",
      "RangeIndex: 3818 entries, 0 to 3817\n",
      "Data columns (total 92 columns):\n",
      " #   Column                            Non-Null Count  Dtype  \n",
      "---  ------                            --------------  -----  \n",
      " 0   id                                3818 non-null   int64  \n",
      " 1   listing_url                       3818 non-null   object \n",
      " 2   scrape_id                         3818 non-null   int64  \n",
      " 3   last_scraped                      3818 non-null   object \n",
      " 4   name                              3818 non-null   object \n",
      " 5   summary                           3641 non-null   object \n",
      " 6   space                             3249 non-null   object \n",
      " 7   description                       3818 non-null   object \n",
      " 8   experiences_offered               3818 non-null   object \n",
      " 9   neighborhood_overview             2786 non-null   object \n",
      " 10  notes                             2212 non-null   object \n",
      " 11  transit                           2884 non-null   object \n",
      " 12  thumbnail_url                     3498 non-null   object \n",
      " 13  medium_url                        3498 non-null   object \n",
      " 14  picture_url                       3818 non-null   object \n",
      " 15  xl_picture_url                    3498 non-null   object \n",
      " 16  host_id                           3818 non-null   int64  \n",
      " 17  host_url                          3818 non-null   object \n",
      " 18  host_name                         3816 non-null   object \n",
      " 19  host_since                        3816 non-null   object \n",
      " 20  host_location                     3810 non-null   object \n",
      " 21  host_about                        2959 non-null   object \n",
      " 22  host_response_time                3295 non-null   object \n",
      " 23  host_response_rate                3295 non-null   object \n",
      " 24  host_acceptance_rate              3045 non-null   object \n",
      " 25  host_is_superhost                 3816 non-null   object \n",
      " 26  host_thumbnail_url                3816 non-null   object \n",
      " 27  host_picture_url                  3816 non-null   object \n",
      " 28  host_neighbourhood                3518 non-null   object \n",
      " 29  host_listings_count               3816 non-null   float64\n",
      " 30  host_total_listings_count         3816 non-null   float64\n",
      " 31  host_verifications                3818 non-null   object \n",
      " 32  host_has_profile_pic              3816 non-null   object \n",
      " 33  host_identity_verified            3816 non-null   object \n",
      " 34  street                            3818 non-null   object \n",
      " 35  neighbourhood                     3402 non-null   object \n",
      " 36  neighbourhood_cleansed            3818 non-null   object \n",
      " 37  neighbourhood_group_cleansed      3818 non-null   object \n",
      " 38  city                              3818 non-null   object \n",
      " 39  state                             3818 non-null   object \n",
      " 40  zipcode                           3811 non-null   object \n",
      " 41  market                            3818 non-null   object \n",
      " 42  smart_location                    3818 non-null   object \n",
      " 43  country_code                      3818 non-null   object \n",
      " 44  country                           3818 non-null   object \n",
      " 45  latitude                          3818 non-null   float64\n",
      " 46  longitude                         3818 non-null   float64\n",
      " 47  is_location_exact                 3818 non-null   object \n",
      " 48  property_type                     3817 non-null   object \n",
      " 49  room_type                         3818 non-null   object \n",
      " 50  accommodates                      3818 non-null   int64  \n",
      " 51  bathrooms                         3802 non-null   float64\n",
      " 52  bedrooms                          3812 non-null   float64\n",
      " 53  beds                              3817 non-null   float64\n",
      " 54  bed_type                          3818 non-null   object \n",
      " 55  amenities                         3818 non-null   object \n",
      " 56  square_feet                       97 non-null     float64\n",
      " 57  price                             3818 non-null   object \n",
      " 58  weekly_price                      2009 non-null   object \n",
      " 59  monthly_price                     1517 non-null   object \n",
      " 60  security_deposit                  1866 non-null   object \n",
      " 61  cleaning_fee                      2788 non-null   object \n",
      " 62  guests_included                   3818 non-null   int64  \n",
      " 63  extra_people                      3818 non-null   object \n",
      " 64  minimum_nights                    3818 non-null   int64  \n",
      " 65  maximum_nights                    3818 non-null   int64  \n",
      " 66  calendar_updated                  3818 non-null   object \n",
      " 67  has_availability                  3818 non-null   object \n",
      " 68  availability_30                   3818 non-null   int64  \n",
      " 69  availability_60                   3818 non-null   int64  \n",
      " 70  availability_90                   3818 non-null   int64  \n",
      " 71  availability_365                  3818 non-null   int64  \n",
      " 72  calendar_last_scraped             3818 non-null   object \n",
      " 73  number_of_reviews                 3818 non-null   int64  \n",
      " 74  first_review                      3191 non-null   object \n",
      " 75  last_review                       3191 non-null   object \n",
      " 76  review_scores_rating              3171 non-null   float64\n",
      " 77  review_scores_accuracy            3160 non-null   float64\n",
      " 78  review_scores_cleanliness         3165 non-null   float64\n",
      " 79  review_scores_checkin             3160 non-null   float64\n",
      " 80  review_scores_communication       3167 non-null   float64\n",
      " 81  review_scores_location            3163 non-null   float64\n",
      " 82  review_scores_value               3162 non-null   float64\n",
      " 83  requires_license                  3818 non-null   object \n",
      " 84  license                           0 non-null      float64\n",
      " 85  jurisdiction_names                3818 non-null   object \n",
      " 86  instant_bookable                  3818 non-null   object \n",
      " 87  cancellation_policy               3818 non-null   object \n",
      " 88  require_guest_profile_picture     3818 non-null   object \n",
      " 89  require_guest_phone_verification  3818 non-null   object \n",
      " 90  calculated_host_listings_count    3818 non-null   int64  \n",
      " 91  reviews_per_month                 3191 non-null   float64\n",
      "dtypes: float64(17), int64(13), object(62)\n",
      "memory usage: 2.7+ MB\n"
     ]
    }
   ],
   "source": [
    "df_listings.info()"
   ]
  },
  {
   "cell_type": "code",
   "execution_count": 10,
   "metadata": {},
   "outputs": [
    {
     "data": {
      "text/html": [
       "<div>\n",
       "<style scoped>\n",
       "    .dataframe tbody tr th:only-of-type {\n",
       "        vertical-align: middle;\n",
       "    }\n",
       "\n",
       "    .dataframe tbody tr th {\n",
       "        vertical-align: top;\n",
       "    }\n",
       "\n",
       "    .dataframe thead th {\n",
       "        text-align: right;\n",
       "    }\n",
       "</style>\n",
       "<table border=\"1\" class=\"dataframe\">\n",
       "  <thead>\n",
       "    <tr style=\"text-align: right;\">\n",
       "      <th></th>\n",
       "      <th>id</th>\n",
       "      <th>listing_url</th>\n",
       "      <th>scrape_id</th>\n",
       "      <th>last_scraped</th>\n",
       "      <th>name</th>\n",
       "      <th>summary</th>\n",
       "      <th>space</th>\n",
       "      <th>description</th>\n",
       "      <th>experiences_offered</th>\n",
       "      <th>neighborhood_overview</th>\n",
       "      <th>...</th>\n",
       "      <th>review_scores_value</th>\n",
       "      <th>requires_license</th>\n",
       "      <th>license</th>\n",
       "      <th>jurisdiction_names</th>\n",
       "      <th>instant_bookable</th>\n",
       "      <th>cancellation_policy</th>\n",
       "      <th>require_guest_profile_picture</th>\n",
       "      <th>require_guest_phone_verification</th>\n",
       "      <th>calculated_host_listings_count</th>\n",
       "      <th>reviews_per_month</th>\n",
       "    </tr>\n",
       "  </thead>\n",
       "  <tbody>\n",
       "  </tbody>\n",
       "</table>\n",
       "<p>0 rows × 92 columns</p>\n",
       "</div>"
      ],
      "text/plain": [
       "Empty DataFrame\n",
       "Columns: [id, listing_url, scrape_id, last_scraped, name, summary, space, description, experiences_offered, neighborhood_overview, notes, transit, thumbnail_url, medium_url, picture_url, xl_picture_url, host_id, host_url, host_name, host_since, host_location, host_about, host_response_time, host_response_rate, host_acceptance_rate, host_is_superhost, host_thumbnail_url, host_picture_url, host_neighbourhood, host_listings_count, host_total_listings_count, host_verifications, host_has_profile_pic, host_identity_verified, street, neighbourhood, neighbourhood_cleansed, neighbourhood_group_cleansed, city, state, zipcode, market, smart_location, country_code, country, latitude, longitude, is_location_exact, property_type, room_type, accommodates, bathrooms, bedrooms, beds, bed_type, amenities, square_feet, price, weekly_price, monthly_price, security_deposit, cleaning_fee, guests_included, extra_people, minimum_nights, maximum_nights, calendar_updated, has_availability, availability_30, availability_60, availability_90, availability_365, calendar_last_scraped, number_of_reviews, first_review, last_review, review_scores_rating, review_scores_accuracy, review_scores_cleanliness, review_scores_checkin, review_scores_communication, review_scores_location, review_scores_value, requires_license, license, jurisdiction_names, instant_bookable, cancellation_policy, require_guest_profile_picture, require_guest_phone_verification, calculated_host_listings_count, reviews_per_month]\n",
       "Index: []\n",
       "\n",
       "[0 rows x 92 columns]"
      ]
     },
     "execution_count": 10,
     "metadata": {},
     "output_type": "execute_result"
    }
   ],
   "source": [
    "# Look for duplicated values\n",
    "df_listings[df_listings.duplicated()]"
   ]
  },
  {
   "cell_type": "code",
   "execution_count": 11,
   "metadata": {},
   "outputs": [
    {
     "data": {
      "text/plain": [
       "license             1.000000\n",
       "square_feet         0.974594\n",
       "monthly_price       0.602672\n",
       "security_deposit    0.511262\n",
       "weekly_price        0.473808\n",
       "                      ...   \n",
       "room_type           0.000000\n",
       "accommodates        0.000000\n",
       "bed_type            0.000000\n",
       "amenities           0.000000\n",
       "longitude           0.000000\n",
       "Length: 92, dtype: float64"
      ]
     },
     "execution_count": 11,
     "metadata": {},
     "output_type": "execute_result"
    }
   ],
   "source": [
    "# Missing values in %\n",
    "df_listings.isnull().mean().sort_values(ascending=False)"
   ]
  },
  {
   "cell_type": "code",
   "execution_count": 12,
   "metadata": {},
   "outputs": [
    {
     "name": "stdout",
     "output_type": "stream",
     "text": [
      "The dataset \"listings.csv\" has 29819 missing values in 45 column/s.\n"
     ]
    }
   ],
   "source": [
    "print('The dataset \"listings.csv\" has %d missing values in %d column/s.' % (df_listings.isnull().sum().sum(), df_listings.columns[df_listings.isnull().any()].shape[0]))"
   ]
  },
  {
   "cell_type": "code",
   "execution_count": 13,
   "metadata": {},
   "outputs": [
    {
     "data": {
      "text/html": [
       "<div>\n",
       "<style scoped>\n",
       "    .dataframe tbody tr th:only-of-type {\n",
       "        vertical-align: middle;\n",
       "    }\n",
       "\n",
       "    .dataframe tbody tr th {\n",
       "        vertical-align: top;\n",
       "    }\n",
       "\n",
       "    .dataframe thead th {\n",
       "        text-align: right;\n",
       "    }\n",
       "</style>\n",
       "<table border=\"1\" class=\"dataframe\">\n",
       "  <thead>\n",
       "    <tr style=\"text-align: right;\">\n",
       "      <th></th>\n",
       "      <th>id</th>\n",
       "      <th>scrape_id</th>\n",
       "      <th>host_id</th>\n",
       "      <th>host_listings_count</th>\n",
       "      <th>host_total_listings_count</th>\n",
       "      <th>latitude</th>\n",
       "      <th>longitude</th>\n",
       "      <th>accommodates</th>\n",
       "      <th>bathrooms</th>\n",
       "      <th>bedrooms</th>\n",
       "      <th>...</th>\n",
       "      <th>review_scores_rating</th>\n",
       "      <th>review_scores_accuracy</th>\n",
       "      <th>review_scores_cleanliness</th>\n",
       "      <th>review_scores_checkin</th>\n",
       "      <th>review_scores_communication</th>\n",
       "      <th>review_scores_location</th>\n",
       "      <th>review_scores_value</th>\n",
       "      <th>license</th>\n",
       "      <th>calculated_host_listings_count</th>\n",
       "      <th>reviews_per_month</th>\n",
       "    </tr>\n",
       "  </thead>\n",
       "  <tbody>\n",
       "    <tr>\n",
       "      <th>count</th>\n",
       "      <td>3.818000e+03</td>\n",
       "      <td>3.818000e+03</td>\n",
       "      <td>3.818000e+03</td>\n",
       "      <td>3816.000000</td>\n",
       "      <td>3816.000000</td>\n",
       "      <td>3818.000000</td>\n",
       "      <td>3818.000000</td>\n",
       "      <td>3818.000000</td>\n",
       "      <td>3802.000000</td>\n",
       "      <td>3812.000000</td>\n",
       "      <td>...</td>\n",
       "      <td>3171.000000</td>\n",
       "      <td>3160.000000</td>\n",
       "      <td>3165.000000</td>\n",
       "      <td>3160.000000</td>\n",
       "      <td>3167.000000</td>\n",
       "      <td>3163.000000</td>\n",
       "      <td>3162.000000</td>\n",
       "      <td>0.0</td>\n",
       "      <td>3818.000000</td>\n",
       "      <td>3191.000000</td>\n",
       "    </tr>\n",
       "    <tr>\n",
       "      <th>mean</th>\n",
       "      <td>5.550111e+06</td>\n",
       "      <td>2.016010e+13</td>\n",
       "      <td>1.578556e+07</td>\n",
       "      <td>7.157757</td>\n",
       "      <td>7.157757</td>\n",
       "      <td>47.628961</td>\n",
       "      <td>-122.333103</td>\n",
       "      <td>3.349398</td>\n",
       "      <td>1.259469</td>\n",
       "      <td>1.307712</td>\n",
       "      <td>...</td>\n",
       "      <td>94.539262</td>\n",
       "      <td>9.636392</td>\n",
       "      <td>9.556398</td>\n",
       "      <td>9.786709</td>\n",
       "      <td>9.809599</td>\n",
       "      <td>9.608916</td>\n",
       "      <td>9.452245</td>\n",
       "      <td>NaN</td>\n",
       "      <td>2.946307</td>\n",
       "      <td>2.078919</td>\n",
       "    </tr>\n",
       "    <tr>\n",
       "      <th>std</th>\n",
       "      <td>2.962660e+06</td>\n",
       "      <td>0.000000e+00</td>\n",
       "      <td>1.458382e+07</td>\n",
       "      <td>28.628149</td>\n",
       "      <td>28.628149</td>\n",
       "      <td>0.043052</td>\n",
       "      <td>0.031745</td>\n",
       "      <td>1.977599</td>\n",
       "      <td>0.590369</td>\n",
       "      <td>0.883395</td>\n",
       "      <td>...</td>\n",
       "      <td>6.606083</td>\n",
       "      <td>0.698031</td>\n",
       "      <td>0.797274</td>\n",
       "      <td>0.595499</td>\n",
       "      <td>0.568211</td>\n",
       "      <td>0.629053</td>\n",
       "      <td>0.750259</td>\n",
       "      <td>NaN</td>\n",
       "      <td>5.893029</td>\n",
       "      <td>1.822348</td>\n",
       "    </tr>\n",
       "    <tr>\n",
       "      <th>min</th>\n",
       "      <td>3.335000e+03</td>\n",
       "      <td>2.016010e+13</td>\n",
       "      <td>4.193000e+03</td>\n",
       "      <td>1.000000</td>\n",
       "      <td>1.000000</td>\n",
       "      <td>47.505088</td>\n",
       "      <td>-122.417219</td>\n",
       "      <td>1.000000</td>\n",
       "      <td>0.000000</td>\n",
       "      <td>0.000000</td>\n",
       "      <td>...</td>\n",
       "      <td>20.000000</td>\n",
       "      <td>2.000000</td>\n",
       "      <td>3.000000</td>\n",
       "      <td>2.000000</td>\n",
       "      <td>2.000000</td>\n",
       "      <td>4.000000</td>\n",
       "      <td>2.000000</td>\n",
       "      <td>NaN</td>\n",
       "      <td>1.000000</td>\n",
       "      <td>0.020000</td>\n",
       "    </tr>\n",
       "    <tr>\n",
       "      <th>25%</th>\n",
       "      <td>3.258256e+06</td>\n",
       "      <td>2.016010e+13</td>\n",
       "      <td>3.275204e+06</td>\n",
       "      <td>1.000000</td>\n",
       "      <td>1.000000</td>\n",
       "      <td>47.609418</td>\n",
       "      <td>-122.354320</td>\n",
       "      <td>2.000000</td>\n",
       "      <td>1.000000</td>\n",
       "      <td>1.000000</td>\n",
       "      <td>...</td>\n",
       "      <td>93.000000</td>\n",
       "      <td>9.000000</td>\n",
       "      <td>9.000000</td>\n",
       "      <td>10.000000</td>\n",
       "      <td>10.000000</td>\n",
       "      <td>9.000000</td>\n",
       "      <td>9.000000</td>\n",
       "      <td>NaN</td>\n",
       "      <td>1.000000</td>\n",
       "      <td>0.695000</td>\n",
       "    </tr>\n",
       "    <tr>\n",
       "      <th>50%</th>\n",
       "      <td>6.118244e+06</td>\n",
       "      <td>2.016010e+13</td>\n",
       "      <td>1.055814e+07</td>\n",
       "      <td>1.000000</td>\n",
       "      <td>1.000000</td>\n",
       "      <td>47.623601</td>\n",
       "      <td>-122.328874</td>\n",
       "      <td>3.000000</td>\n",
       "      <td>1.000000</td>\n",
       "      <td>1.000000</td>\n",
       "      <td>...</td>\n",
       "      <td>96.000000</td>\n",
       "      <td>10.000000</td>\n",
       "      <td>10.000000</td>\n",
       "      <td>10.000000</td>\n",
       "      <td>10.000000</td>\n",
       "      <td>10.000000</td>\n",
       "      <td>10.000000</td>\n",
       "      <td>NaN</td>\n",
       "      <td>1.000000</td>\n",
       "      <td>1.540000</td>\n",
       "    </tr>\n",
       "    <tr>\n",
       "      <th>75%</th>\n",
       "      <td>8.035127e+06</td>\n",
       "      <td>2.016010e+13</td>\n",
       "      <td>2.590309e+07</td>\n",
       "      <td>3.000000</td>\n",
       "      <td>3.000000</td>\n",
       "      <td>47.662694</td>\n",
       "      <td>-122.310800</td>\n",
       "      <td>4.000000</td>\n",
       "      <td>1.000000</td>\n",
       "      <td>2.000000</td>\n",
       "      <td>...</td>\n",
       "      <td>99.000000</td>\n",
       "      <td>10.000000</td>\n",
       "      <td>10.000000</td>\n",
       "      <td>10.000000</td>\n",
       "      <td>10.000000</td>\n",
       "      <td>10.000000</td>\n",
       "      <td>10.000000</td>\n",
       "      <td>NaN</td>\n",
       "      <td>2.000000</td>\n",
       "      <td>3.000000</td>\n",
       "    </tr>\n",
       "    <tr>\n",
       "      <th>max</th>\n",
       "      <td>1.034016e+07</td>\n",
       "      <td>2.016010e+13</td>\n",
       "      <td>5.320861e+07</td>\n",
       "      <td>502.000000</td>\n",
       "      <td>502.000000</td>\n",
       "      <td>47.733358</td>\n",
       "      <td>-122.240607</td>\n",
       "      <td>16.000000</td>\n",
       "      <td>8.000000</td>\n",
       "      <td>7.000000</td>\n",
       "      <td>...</td>\n",
       "      <td>100.000000</td>\n",
       "      <td>10.000000</td>\n",
       "      <td>10.000000</td>\n",
       "      <td>10.000000</td>\n",
       "      <td>10.000000</td>\n",
       "      <td>10.000000</td>\n",
       "      <td>10.000000</td>\n",
       "      <td>NaN</td>\n",
       "      <td>37.000000</td>\n",
       "      <td>12.150000</td>\n",
       "    </tr>\n",
       "  </tbody>\n",
       "</table>\n",
       "<p>8 rows × 30 columns</p>\n",
       "</div>"
      ],
      "text/plain": [
       "                 id     scrape_id       host_id  host_listings_count  \\\n",
       "count  3.818000e+03  3.818000e+03  3.818000e+03          3816.000000   \n",
       "mean   5.550111e+06  2.016010e+13  1.578556e+07             7.157757   \n",
       "std    2.962660e+06  0.000000e+00  1.458382e+07            28.628149   \n",
       "min    3.335000e+03  2.016010e+13  4.193000e+03             1.000000   \n",
       "25%    3.258256e+06  2.016010e+13  3.275204e+06             1.000000   \n",
       "50%    6.118244e+06  2.016010e+13  1.055814e+07             1.000000   \n",
       "75%    8.035127e+06  2.016010e+13  2.590309e+07             3.000000   \n",
       "max    1.034016e+07  2.016010e+13  5.320861e+07           502.000000   \n",
       "\n",
       "       host_total_listings_count     latitude    longitude  accommodates  \\\n",
       "count                3816.000000  3818.000000  3818.000000   3818.000000   \n",
       "mean                    7.157757    47.628961  -122.333103      3.349398   \n",
       "std                    28.628149     0.043052     0.031745      1.977599   \n",
       "min                     1.000000    47.505088  -122.417219      1.000000   \n",
       "25%                     1.000000    47.609418  -122.354320      2.000000   \n",
       "50%                     1.000000    47.623601  -122.328874      3.000000   \n",
       "75%                     3.000000    47.662694  -122.310800      4.000000   \n",
       "max                   502.000000    47.733358  -122.240607     16.000000   \n",
       "\n",
       "         bathrooms     bedrooms  ...  review_scores_rating  \\\n",
       "count  3802.000000  3812.000000  ...           3171.000000   \n",
       "mean      1.259469     1.307712  ...             94.539262   \n",
       "std       0.590369     0.883395  ...              6.606083   \n",
       "min       0.000000     0.000000  ...             20.000000   \n",
       "25%       1.000000     1.000000  ...             93.000000   \n",
       "50%       1.000000     1.000000  ...             96.000000   \n",
       "75%       1.000000     2.000000  ...             99.000000   \n",
       "max       8.000000     7.000000  ...            100.000000   \n",
       "\n",
       "       review_scores_accuracy  review_scores_cleanliness  \\\n",
       "count             3160.000000                3165.000000   \n",
       "mean                 9.636392                   9.556398   \n",
       "std                  0.698031                   0.797274   \n",
       "min                  2.000000                   3.000000   \n",
       "25%                  9.000000                   9.000000   \n",
       "50%                 10.000000                  10.000000   \n",
       "75%                 10.000000                  10.000000   \n",
       "max                 10.000000                  10.000000   \n",
       "\n",
       "       review_scores_checkin  review_scores_communication  \\\n",
       "count            3160.000000                  3167.000000   \n",
       "mean                9.786709                     9.809599   \n",
       "std                 0.595499                     0.568211   \n",
       "min                 2.000000                     2.000000   \n",
       "25%                10.000000                    10.000000   \n",
       "50%                10.000000                    10.000000   \n",
       "75%                10.000000                    10.000000   \n",
       "max                10.000000                    10.000000   \n",
       "\n",
       "       review_scores_location  review_scores_value  license  \\\n",
       "count             3163.000000          3162.000000      0.0   \n",
       "mean                 9.608916             9.452245      NaN   \n",
       "std                  0.629053             0.750259      NaN   \n",
       "min                  4.000000             2.000000      NaN   \n",
       "25%                  9.000000             9.000000      NaN   \n",
       "50%                 10.000000            10.000000      NaN   \n",
       "75%                 10.000000            10.000000      NaN   \n",
       "max                 10.000000            10.000000      NaN   \n",
       "\n",
       "       calculated_host_listings_count  reviews_per_month  \n",
       "count                     3818.000000        3191.000000  \n",
       "mean                         2.946307           2.078919  \n",
       "std                          5.893029           1.822348  \n",
       "min                          1.000000           0.020000  \n",
       "25%                          1.000000           0.695000  \n",
       "50%                          1.000000           1.540000  \n",
       "75%                          2.000000           3.000000  \n",
       "max                         37.000000          12.150000  \n",
       "\n",
       "[8 rows x 30 columns]"
      ]
     },
     "execution_count": 13,
     "metadata": {},
     "output_type": "execute_result"
    }
   ],
   "source": [
    "df_listings.describe()"
   ]
  },
  {
   "cell_type": "markdown",
   "metadata": {},
   "source": [
    "### `df_calendar`"
   ]
  },
  {
   "cell_type": "code",
   "execution_count": 14,
   "metadata": {},
   "outputs": [
    {
     "name": "stdout",
     "output_type": "stream",
     "text": [
      "<class 'pandas.core.frame.DataFrame'>\n",
      "RangeIndex: 1393570 entries, 0 to 1393569\n",
      "Data columns (total 4 columns):\n",
      " #   Column      Non-Null Count    Dtype \n",
      "---  ------      --------------    ----- \n",
      " 0   listing_id  1393570 non-null  int64 \n",
      " 1   date        1393570 non-null  object\n",
      " 2   available   1393570 non-null  object\n",
      " 3   price       934542 non-null   object\n",
      "dtypes: int64(1), object(3)\n",
      "memory usage: 42.5+ MB\n"
     ]
    }
   ],
   "source": [
    "df_calendar.info()"
   ]
  },
  {
   "cell_type": "code",
   "execution_count": 15,
   "metadata": {},
   "outputs": [
    {
     "data": {
      "text/html": [
       "<div>\n",
       "<style scoped>\n",
       "    .dataframe tbody tr th:only-of-type {\n",
       "        vertical-align: middle;\n",
       "    }\n",
       "\n",
       "    .dataframe tbody tr th {\n",
       "        vertical-align: top;\n",
       "    }\n",
       "\n",
       "    .dataframe thead th {\n",
       "        text-align: right;\n",
       "    }\n",
       "</style>\n",
       "<table border=\"1\" class=\"dataframe\">\n",
       "  <thead>\n",
       "    <tr style=\"text-align: right;\">\n",
       "      <th></th>\n",
       "      <th>listing_id</th>\n",
       "      <th>date</th>\n",
       "      <th>available</th>\n",
       "      <th>price</th>\n",
       "    </tr>\n",
       "  </thead>\n",
       "  <tbody>\n",
       "  </tbody>\n",
       "</table>\n",
       "</div>"
      ],
      "text/plain": [
       "Empty DataFrame\n",
       "Columns: [listing_id, date, available, price]\n",
       "Index: []"
      ]
     },
     "execution_count": 15,
     "metadata": {},
     "output_type": "execute_result"
    }
   ],
   "source": [
    "# Look for duplicates\n",
    "df_calendar[df_calendar.duplicated()]"
   ]
  },
  {
   "cell_type": "code",
   "execution_count": 16,
   "metadata": {},
   "outputs": [
    {
     "data": {
      "text/plain": [
       "price         0.32939\n",
       "listing_id    0.00000\n",
       "date          0.00000\n",
       "available     0.00000\n",
       "dtype: float64"
      ]
     },
     "execution_count": 16,
     "metadata": {},
     "output_type": "execute_result"
    }
   ],
   "source": [
    "# Missing values in %\n",
    "df_calendar.isnull().mean().sort_values(ascending=False)"
   ]
  },
  {
   "cell_type": "code",
   "execution_count": 17,
   "metadata": {},
   "outputs": [
    {
     "name": "stdout",
     "output_type": "stream",
     "text": [
      "The dataset \"calendar.csv\" has 459028 missing values in 1 column/s.\n"
     ]
    }
   ],
   "source": [
    "print('The dataset \"calendar.csv\" has %d missing values in %d column/s.' % (df_calendar.isnull().sum().sum(), df_calendar.columns[df_calendar.isnull().any()].shape[0]))"
   ]
  },
  {
   "cell_type": "code",
   "execution_count": 18,
   "metadata": {},
   "outputs": [
    {
     "data": {
      "text/html": [
       "<div>\n",
       "<style scoped>\n",
       "    .dataframe tbody tr th:only-of-type {\n",
       "        vertical-align: middle;\n",
       "    }\n",
       "\n",
       "    .dataframe tbody tr th {\n",
       "        vertical-align: top;\n",
       "    }\n",
       "\n",
       "    .dataframe thead th {\n",
       "        text-align: right;\n",
       "    }\n",
       "</style>\n",
       "<table border=\"1\" class=\"dataframe\">\n",
       "  <thead>\n",
       "    <tr style=\"text-align: right;\">\n",
       "      <th></th>\n",
       "      <th>listing_id</th>\n",
       "    </tr>\n",
       "  </thead>\n",
       "  <tbody>\n",
       "    <tr>\n",
       "      <th>count</th>\n",
       "      <td>1.393570e+06</td>\n",
       "    </tr>\n",
       "    <tr>\n",
       "      <th>mean</th>\n",
       "      <td>5.550111e+06</td>\n",
       "    </tr>\n",
       "    <tr>\n",
       "      <th>std</th>\n",
       "      <td>2.962274e+06</td>\n",
       "    </tr>\n",
       "    <tr>\n",
       "      <th>min</th>\n",
       "      <td>3.335000e+03</td>\n",
       "    </tr>\n",
       "    <tr>\n",
       "      <th>25%</th>\n",
       "      <td>3.258213e+06</td>\n",
       "    </tr>\n",
       "    <tr>\n",
       "      <th>50%</th>\n",
       "      <td>6.118244e+06</td>\n",
       "    </tr>\n",
       "    <tr>\n",
       "      <th>75%</th>\n",
       "      <td>8.035212e+06</td>\n",
       "    </tr>\n",
       "    <tr>\n",
       "      <th>max</th>\n",
       "      <td>1.034016e+07</td>\n",
       "    </tr>\n",
       "  </tbody>\n",
       "</table>\n",
       "</div>"
      ],
      "text/plain": [
       "         listing_id\n",
       "count  1.393570e+06\n",
       "mean   5.550111e+06\n",
       "std    2.962274e+06\n",
       "min    3.335000e+03\n",
       "25%    3.258213e+06\n",
       "50%    6.118244e+06\n",
       "75%    8.035212e+06\n",
       "max    1.034016e+07"
      ]
     },
     "execution_count": 18,
     "metadata": {},
     "output_type": "execute_result"
    }
   ],
   "source": [
    "df_calendar.describe()"
   ]
  },
  {
   "cell_type": "markdown",
   "metadata": {},
   "source": [
    "### Issues"
   ]
  },
  {
   "cell_type": "markdown",
   "metadata": {},
   "source": [
    "**Quality**\n",
    "- Several columns with missing values"
   ]
  },
  {
   "cell_type": "markdown",
   "metadata": {},
   "source": [
    "**Tidyness**\n",
    "- Listings and calendar are in two tables, only one is necessary\n",
    "- Several superfluous columns\n",
    "- The file format of various columns is not correct\n",
    "  - Boolean values must be reformatted\n",
    "  - Date are not date formats"
   ]
  },
  {
   "cell_type": "markdown",
   "metadata": {},
   "source": [
    "## Cleaning & Data Preparation"
   ]
  },
  {
   "cell_type": "code",
   "execution_count": 19,
   "metadata": {},
   "outputs": [],
   "source": [
    "# Copy dataframes to not change original ones\n",
    "listings_clean = df_listings.copy()\n",
    "calendar_clean = df_calendar.copy()"
   ]
  },
  {
   "cell_type": "markdown",
   "metadata": {},
   "source": [
    "### Merge datasets"
   ]
  },
  {
   "cell_type": "markdown",
   "metadata": {},
   "source": [
    "**Define** <br>\n",
    "The two DataFrames `df_listings` and `df_calendar` are merged into one using the listings ID."
   ]
  },
  {
   "cell_type": "markdown",
   "metadata": {},
   "source": [
    "**Code**"
   ]
  },
  {
   "cell_type": "code",
   "execution_count": 20,
   "metadata": {},
   "outputs": [],
   "source": [
    "# Rename id column for merging\n",
    "listings_clean = listings_clean.rename(index=str, columns={\"id\": \"listing_id\"})"
   ]
  },
  {
   "cell_type": "code",
   "execution_count": 21,
   "metadata": {},
   "outputs": [],
   "source": [
    "df_clean = pd.merge(calendar_clean, listings_clean, on = 'listing_id')"
   ]
  },
  {
   "cell_type": "markdown",
   "metadata": {},
   "source": [
    "**Test**"
   ]
  },
  {
   "cell_type": "code",
   "execution_count": 22,
   "metadata": {},
   "outputs": [
    {
     "name": "stdout",
     "output_type": "stream",
     "text": [
      "<class 'pandas.core.frame.DataFrame'>\n",
      "Int64Index: 1393570 entries, 0 to 1393569\n",
      "Data columns (total 95 columns):\n",
      " #   Column                            Non-Null Count    Dtype  \n",
      "---  ------                            --------------    -----  \n",
      " 0   listing_id                        1393570 non-null  int64  \n",
      " 1   date                              1393570 non-null  object \n",
      " 2   available                         1393570 non-null  object \n",
      " 3   price_x                           934542 non-null   object \n",
      " 4   listing_url                       1393570 non-null  object \n",
      " 5   scrape_id                         1393570 non-null  int64  \n",
      " 6   last_scraped                      1393570 non-null  object \n",
      " 7   name                              1393570 non-null  object \n",
      " 8   summary                           1328965 non-null  object \n",
      " 9   space                             1185885 non-null  object \n",
      " 10  description                       1393570 non-null  object \n",
      " 11  experiences_offered               1393570 non-null  object \n",
      " 12  neighborhood_overview             1016890 non-null  object \n",
      " 13  notes                             807380 non-null   object \n",
      " 14  transit                           1052660 non-null  object \n",
      " 15  thumbnail_url                     1276770 non-null  object \n",
      " 16  medium_url                        1276770 non-null  object \n",
      " 17  picture_url                       1393570 non-null  object \n",
      " 18  xl_picture_url                    1276770 non-null  object \n",
      " 19  host_id                           1393570 non-null  int64  \n",
      " 20  host_url                          1393570 non-null  object \n",
      " 21  host_name                         1392840 non-null  object \n",
      " 22  host_since                        1392840 non-null  object \n",
      " 23  host_location                     1390650 non-null  object \n",
      " 24  host_about                        1080035 non-null  object \n",
      " 25  host_response_time                1202675 non-null  object \n",
      " 26  host_response_rate                1202675 non-null  object \n",
      " 27  host_acceptance_rate              1111425 non-null  object \n",
      " 28  host_is_superhost                 1392840 non-null  object \n",
      " 29  host_thumbnail_url                1392840 non-null  object \n",
      " 30  host_picture_url                  1392840 non-null  object \n",
      " 31  host_neighbourhood                1284070 non-null  object \n",
      " 32  host_listings_count               1392840 non-null  float64\n",
      " 33  host_total_listings_count         1392840 non-null  float64\n",
      " 34  host_verifications                1393570 non-null  object \n",
      " 35  host_has_profile_pic              1392840 non-null  object \n",
      " 36  host_identity_verified            1392840 non-null  object \n",
      " 37  street                            1393570 non-null  object \n",
      " 38  neighbourhood                     1241730 non-null  object \n",
      " 39  neighbourhood_cleansed            1393570 non-null  object \n",
      " 40  neighbourhood_group_cleansed      1393570 non-null  object \n",
      " 41  city                              1393570 non-null  object \n",
      " 42  state                             1393570 non-null  object \n",
      " 43  zipcode                           1391015 non-null  object \n",
      " 44  market                            1393570 non-null  object \n",
      " 45  smart_location                    1393570 non-null  object \n",
      " 46  country_code                      1393570 non-null  object \n",
      " 47  country                           1393570 non-null  object \n",
      " 48  latitude                          1393570 non-null  float64\n",
      " 49  longitude                         1393570 non-null  float64\n",
      " 50  is_location_exact                 1393570 non-null  object \n",
      " 51  property_type                     1393205 non-null  object \n",
      " 52  room_type                         1393570 non-null  object \n",
      " 53  accommodates                      1393570 non-null  int64  \n",
      " 54  bathrooms                         1387730 non-null  float64\n",
      " 55  bedrooms                          1391380 non-null  float64\n",
      " 56  beds                              1393205 non-null  float64\n",
      " 57  bed_type                          1393570 non-null  object \n",
      " 58  amenities                         1393570 non-null  object \n",
      " 59  square_feet                       35405 non-null    float64\n",
      " 60  price_y                           1393570 non-null  object \n",
      " 61  weekly_price                      733285 non-null   object \n",
      " 62  monthly_price                     553705 non-null   object \n",
      " 63  security_deposit                  681090 non-null   object \n",
      " 64  cleaning_fee                      1017620 non-null  object \n",
      " 65  guests_included                   1393570 non-null  int64  \n",
      " 66  extra_people                      1393570 non-null  object \n",
      " 67  minimum_nights                    1393570 non-null  int64  \n",
      " 68  maximum_nights                    1393570 non-null  int64  \n",
      " 69  calendar_updated                  1393570 non-null  object \n",
      " 70  has_availability                  1393570 non-null  object \n",
      " 71  availability_30                   1393570 non-null  int64  \n",
      " 72  availability_60                   1393570 non-null  int64  \n",
      " 73  availability_90                   1393570 non-null  int64  \n",
      " 74  availability_365                  1393570 non-null  int64  \n",
      " 75  calendar_last_scraped             1393570 non-null  object \n",
      " 76  number_of_reviews                 1393570 non-null  int64  \n",
      " 77  first_review                      1164715 non-null  object \n",
      " 78  last_review                       1164715 non-null  object \n",
      " 79  review_scores_rating              1157415 non-null  float64\n",
      " 80  review_scores_accuracy            1153400 non-null  float64\n",
      " 81  review_scores_cleanliness         1155225 non-null  float64\n",
      " 82  review_scores_checkin             1153400 non-null  float64\n",
      " 83  review_scores_communication       1155955 non-null  float64\n",
      " 84  review_scores_location            1154495 non-null  float64\n",
      " 85  review_scores_value               1154130 non-null  float64\n",
      " 86  requires_license                  1393570 non-null  object \n",
      " 87  license                           0 non-null        float64\n",
      " 88  jurisdiction_names                1393570 non-null  object \n",
      " 89  instant_bookable                  1393570 non-null  object \n",
      " 90  cancellation_policy               1393570 non-null  object \n",
      " 91  require_guest_profile_picture     1393570 non-null  object \n",
      " 92  require_guest_phone_verification  1393570 non-null  object \n",
      " 93  calculated_host_listings_count    1393570 non-null  int64  \n",
      " 94  reviews_per_month                 1164715 non-null  float64\n",
      "dtypes: float64(17), int64(13), object(65)\n",
      "memory usage: 1020.7+ MB\n"
     ]
    }
   ],
   "source": [
    "df_clean.info()"
   ]
  },
  {
   "cell_type": "markdown",
   "metadata": {},
   "source": [
    "### Drop unnecessary columns"
   ]
  },
  {
   "cell_type": "markdown",
   "metadata": {},
   "source": [
    "**Define** <br>\n",
    "Many columns contain values that are not necessary for our further analysis because they do not contain relevant information. What remains is a data set with relevant columns."
   ]
  },
  {
   "cell_type": "markdown",
   "metadata": {},
   "source": [
    "**Code**"
   ]
  },
  {
   "cell_type": "code",
   "execution_count": 23,
   "metadata": {},
   "outputs": [],
   "source": [
    "df_clean = df_clean[['listing_id', 'price_x', 'host_response_rate', 'host_response_time', 'host_is_superhost', 'host_listings_count', 'zipcode', 'property_type','room_type', 'accommodates', 'bathrooms', 'bedrooms', 'beds', 'number_of_reviews', 'review_scores_rating', 'cancellation_policy', 'reviews_per_month']]"
   ]
  },
  {
   "cell_type": "markdown",
   "metadata": {},
   "source": [
    "**Test**"
   ]
  },
  {
   "cell_type": "code",
   "execution_count": 24,
   "metadata": {},
   "outputs": [
    {
     "name": "stdout",
     "output_type": "stream",
     "text": [
      "<class 'pandas.core.frame.DataFrame'>\n",
      "Int64Index: 1393570 entries, 0 to 1393569\n",
      "Data columns (total 17 columns):\n",
      " #   Column                Non-Null Count    Dtype  \n",
      "---  ------                --------------    -----  \n",
      " 0   listing_id            1393570 non-null  int64  \n",
      " 1   price_x               934542 non-null   object \n",
      " 2   host_response_rate    1202675 non-null  object \n",
      " 3   host_response_time    1202675 non-null  object \n",
      " 4   host_is_superhost     1392840 non-null  object \n",
      " 5   host_listings_count   1392840 non-null  float64\n",
      " 6   zipcode               1391015 non-null  object \n",
      " 7   property_type         1393205 non-null  object \n",
      " 8   room_type             1393570 non-null  object \n",
      " 9   accommodates          1393570 non-null  int64  \n",
      " 10  bathrooms             1387730 non-null  float64\n",
      " 11  bedrooms              1391380 non-null  float64\n",
      " 12  beds                  1393205 non-null  float64\n",
      " 13  number_of_reviews     1393570 non-null  int64  \n",
      " 14  review_scores_rating  1157415 non-null  float64\n",
      " 15  cancellation_policy   1393570 non-null  object \n",
      " 16  reviews_per_month     1164715 non-null  float64\n",
      "dtypes: float64(6), int64(3), object(8)\n",
      "memory usage: 191.4+ MB\n"
     ]
    }
   ],
   "source": [
    "df_clean.info()"
   ]
  },
  {
   "cell_type": "code",
   "execution_count": 25,
   "metadata": {},
   "outputs": [
    {
     "data": {
      "text/plain": [
       "listing_id              3818\n",
       "price_x                  669\n",
       "host_response_rate        45\n",
       "host_response_time         4\n",
       "host_is_superhost          2\n",
       "host_listings_count       27\n",
       "zipcode                   28\n",
       "property_type             16\n",
       "room_type                  3\n",
       "accommodates              15\n",
       "bathrooms                 12\n",
       "bedrooms                   8\n",
       "beds                      11\n",
       "number_of_reviews        195\n",
       "review_scores_rating      42\n",
       "cancellation_policy        3\n",
       "reviews_per_month        654\n",
       "dtype: int64"
      ]
     },
     "execution_count": 25,
     "metadata": {},
     "output_type": "execute_result"
    }
   ],
   "source": [
    "df_clean.nunique()"
   ]
  },
  {
   "cell_type": "markdown",
   "metadata": {},
   "source": [
    "### Convert columns to correct format"
   ]
  },
  {
   "cell_type": "markdown",
   "metadata": {},
   "source": [
    "**Define** <br>\n",
    "Some columns are not available in a format that can be used later. `price_x` and `host_response_rate` are numeric values, but stored as strings. The corresponding columns are reformatted"
   ]
  },
  {
   "cell_type": "markdown",
   "metadata": {},
   "source": [
    "**Code**"
   ]
  },
  {
   "cell_type": "code",
   "execution_count": 26,
   "metadata": {},
   "outputs": [],
   "source": [
    "# Date to datetime\n",
    "#date_col = ['date', 'host_since']\n",
    "\n",
    "#for col in date_col:\n",
    "#    df_clean[col] = pd.to_datetime(df_clean[col])"
   ]
  },
  {
   "cell_type": "code",
   "execution_count": 27,
   "metadata": {},
   "outputs": [
    {
     "name": "stderr",
     "output_type": "stream",
     "text": [
      "/tmp/ipykernel_3759/1775123509.py:2: FutureWarning: The default value of regex will change from True to False in a future version.\n",
      "  df_clean.price_x = df_clean.price_x.str.replace('[$, ]', '').astype(float)\n"
     ]
    }
   ],
   "source": [
    "# `price_x` and `host_response_rate` col to float\n",
    "df_clean.price_x = df_clean.price_x.str.replace('[$, ]', '').astype(float)\n",
    "df_clean.host_response_rate = df_clean.host_response_rate.str.replace('%', '').astype(float)/100\n"
   ]
  },
  {
   "cell_type": "code",
   "execution_count": 28,
   "metadata": {},
   "outputs": [],
   "source": [
    "# Define fuction to convert response_time to int \n",
    "def response_time_calc(var):\n",
    "    if var == 'within an hour':\n",
    "        var = '1'\n",
    "    elif var == 'within a few hours':\n",
    "        var = '3'\n",
    "    elif var == 'within a day':\n",
    "        var = '24'\n",
    "    elif var == 'a few days or more':\n",
    "        var = '48'\n",
    "    else:\n",
    "        var = '96'\n",
    "        \n",
    "    return int(var)\n",
    "\n",
    "# `host_response_time` to var\n",
    "df_clean.host_response_time = df_clean.host_response_time.apply(response_time_calc)"
   ]
  },
  {
   "cell_type": "markdown",
   "metadata": {},
   "source": [
    "**Test**"
   ]
  },
  {
   "cell_type": "code",
   "execution_count": 29,
   "metadata": {},
   "outputs": [
    {
     "name": "stdout",
     "output_type": "stream",
     "text": [
      "<class 'pandas.core.frame.DataFrame'>\n",
      "Int64Index: 1393570 entries, 0 to 1393569\n",
      "Data columns (total 17 columns):\n",
      " #   Column                Non-Null Count    Dtype  \n",
      "---  ------                --------------    -----  \n",
      " 0   listing_id            1393570 non-null  int64  \n",
      " 1   price_x               934542 non-null   float64\n",
      " 2   host_response_rate    1202675 non-null  float64\n",
      " 3   host_response_time    1393570 non-null  int64  \n",
      " 4   host_is_superhost     1392840 non-null  object \n",
      " 5   host_listings_count   1392840 non-null  float64\n",
      " 6   zipcode               1391015 non-null  object \n",
      " 7   property_type         1393205 non-null  object \n",
      " 8   room_type             1393570 non-null  object \n",
      " 9   accommodates          1393570 non-null  int64  \n",
      " 10  bathrooms             1387730 non-null  float64\n",
      " 11  bedrooms              1391380 non-null  float64\n",
      " 12  beds                  1393205 non-null  float64\n",
      " 13  number_of_reviews     1393570 non-null  int64  \n",
      " 14  review_scores_rating  1157415 non-null  float64\n",
      " 15  cancellation_policy   1393570 non-null  object \n",
      " 16  reviews_per_month     1164715 non-null  float64\n",
      "dtypes: float64(8), int64(4), object(5)\n",
      "memory usage: 191.4+ MB\n"
     ]
    }
   ],
   "source": [
    "df_clean.info()"
   ]
  },
  {
   "cell_type": "markdown",
   "metadata": {},
   "source": [
    "### Filling in missing values"
   ]
  },
  {
   "cell_type": "markdown",
   "metadata": {},
   "source": [
    "**Define** <br>\n",
    "Missing values are either removed or filled in. \n",
    "\n",
    "For the room types, the mode is suitable, because you can not make an average of it. For columns where few numerical values are missing, missing values are filled with the average. "
   ]
  },
  {
   "cell_type": "markdown",
   "metadata": {},
   "source": [
    "**Code**"
   ]
  },
  {
   "cell_type": "code",
   "execution_count": 30,
   "metadata": {},
   "outputs": [],
   "source": [
    "# Fill NaN values in rooms columns with mode\n",
    "rooms_nan = ['bedrooms', 'bathrooms', 'beds']\n",
    "\n",
    "for col in rooms_nan:\n",
    "    df_clean[col].fillna(df_clean[col].mode()[0], inplace=True)"
   ]
  },
  {
   "cell_type": "code",
   "execution_count": 31,
   "metadata": {},
   "outputs": [],
   "source": [
    "# Fill NaN values in review/listings columns with mean\n",
    "col_nan = ['host_listings_count', 'host_response_rate', 'host_response_time','review_scores_rating']\n",
    "\n",
    "for col in col_nan:\n",
    "    df_clean[col].fillna(df_clean[col].mean(), inplace=True)"
   ]
  },
  {
   "cell_type": "markdown",
   "metadata": {},
   "source": [
    "**Test**"
   ]
  },
  {
   "cell_type": "code",
   "execution_count": 32,
   "metadata": {},
   "outputs": [
    {
     "data": {
      "text/plain": [
       "price_x                 0.329390\n",
       "reviews_per_month       0.164222\n",
       "zipcode                 0.001833\n",
       "host_is_superhost       0.000524\n",
       "property_type           0.000262\n",
       "bedrooms                0.000000\n",
       "cancellation_policy     0.000000\n",
       "review_scores_rating    0.000000\n",
       "number_of_reviews       0.000000\n",
       "beds                    0.000000\n",
       "listing_id              0.000000\n",
       "bathrooms               0.000000\n",
       "accommodates            0.000000\n",
       "host_listings_count     0.000000\n",
       "host_response_time      0.000000\n",
       "host_response_rate      0.000000\n",
       "room_type               0.000000\n",
       "dtype: float64"
      ]
     },
     "execution_count": 32,
     "metadata": {},
     "output_type": "execute_result"
    }
   ],
   "source": [
    "df_clean.isnull().mean().sort_values(ascending=False)"
   ]
  },
  {
   "cell_type": "markdown",
   "metadata": {},
   "source": [
    "### Change boolean string (t/f) to boolean value "
   ]
  },
  {
   "cell_type": "markdown",
   "metadata": {},
   "source": [
    "**Define** <br>\n",
    "Various columns are boolean values, but with a format (t/f) that Pandas cannot work with. Therefore I reformat them to make calculations based on them."
   ]
  },
  {
   "cell_type": "markdown",
   "metadata": {},
   "source": [
    "**Code**"
   ]
  },
  {
   "cell_type": "code",
   "execution_count": 33,
   "metadata": {},
   "outputs": [],
   "source": [
    "# Define function to correct boolean values\n",
    "def bool_correction(var):\n",
    "    if var == 'f':\n",
    "        var = var.replace('f','0')\n",
    "    elif var ==' t':\n",
    "        var = var.replace('t','1')\n",
    "    else:\n",
    "        var = '0'\n",
    "    return int(var)"
   ]
  },
  {
   "cell_type": "code",
   "execution_count": 34,
   "metadata": {},
   "outputs": [],
   "source": [
    "# Change values\n",
    "for col in df_clean.columns:\n",
    "    if set(df_clean[col]) == {'t','f'}:\n",
    "        df_clean[col] = df_clean[col].apply(bool_correction)\n",
    "        \n",
    "    elif set(df_clean[col]) == {'t','f', np.nan}:\n",
    "        df_clean[col] = df_clean[col].apply(bool_correction)"
   ]
  },
  {
   "cell_type": "code",
   "execution_count": 35,
   "metadata": {},
   "outputs": [],
   "source": [
    "df_clean['host_is_superhost'] = df_clean['host_is_superhost'].astype('bool')"
   ]
  },
  {
   "cell_type": "markdown",
   "metadata": {},
   "source": [
    "**Test**"
   ]
  },
  {
   "cell_type": "code",
   "execution_count": 36,
   "metadata": {},
   "outputs": [
    {
     "data": {
      "text/plain": [
       "listing_id              3818\n",
       "price_x                  669\n",
       "host_response_rate        46\n",
       "host_response_time         5\n",
       "host_is_superhost          1\n",
       "host_listings_count       28\n",
       "zipcode                   28\n",
       "property_type             16\n",
       "room_type                  3\n",
       "accommodates              15\n",
       "bathrooms                 12\n",
       "bedrooms                   8\n",
       "beds                      11\n",
       "number_of_reviews        195\n",
       "review_scores_rating      43\n",
       "cancellation_policy        3\n",
       "reviews_per_month        654\n",
       "dtype: int64"
      ]
     },
     "execution_count": 36,
     "metadata": {},
     "output_type": "execute_result"
    }
   ],
   "source": [
    "df_clean.nunique()"
   ]
  },
  {
   "cell_type": "code",
   "execution_count": 37,
   "metadata": {},
   "outputs": [
    {
     "data": {
      "text/plain": [
       "price_x                 0.329390\n",
       "reviews_per_month       0.164222\n",
       "zipcode                 0.001833\n",
       "property_type           0.000262\n",
       "bathrooms               0.000000\n",
       "cancellation_policy     0.000000\n",
       "review_scores_rating    0.000000\n",
       "number_of_reviews       0.000000\n",
       "beds                    0.000000\n",
       "bedrooms                0.000000\n",
       "listing_id              0.000000\n",
       "accommodates            0.000000\n",
       "host_listings_count     0.000000\n",
       "host_is_superhost       0.000000\n",
       "host_response_time      0.000000\n",
       "host_response_rate      0.000000\n",
       "room_type               0.000000\n",
       "dtype: float64"
      ]
     },
     "execution_count": 37,
     "metadata": {},
     "output_type": "execute_result"
    }
   ],
   "source": [
    "df_clean.isnull().mean().sort_values(ascending=False)"
   ]
  },
  {
   "cell_type": "markdown",
   "metadata": {},
   "source": [
    "### Remove NaN"
   ]
  },
  {
   "cell_type": "markdown",
   "metadata": {},
   "source": [
    "**Define** <br>\n",
    "Since we later use `price_x` as a response variable, all NaN values are dropped from this column and the whole dataset.\n",
    "All remaining NaN values are also being dropped because of the low count."
   ]
  },
  {
   "cell_type": "markdown",
   "metadata": {},
   "source": [
    "**Code**"
   ]
  },
  {
   "cell_type": "code",
   "execution_count": 38,
   "metadata": {},
   "outputs": [],
   "source": [
    "# Drop NaN values in `price_x` column\n",
    "df_clean = df_clean.dropna(subset=['price_x'])"
   ]
  },
  {
   "cell_type": "code",
   "execution_count": 39,
   "metadata": {},
   "outputs": [],
   "source": [
    "# Remove remaining NaN values\n",
    "df_clean = df_clean.dropna(axis=0, how='any')"
   ]
  },
  {
   "cell_type": "markdown",
   "metadata": {},
   "source": [
    "**Test**"
   ]
  },
  {
   "cell_type": "code",
   "execution_count": 40,
   "metadata": {},
   "outputs": [
    {
     "data": {
      "text/plain": [
       "0"
      ]
     },
     "execution_count": 40,
     "metadata": {},
     "output_type": "execute_result"
    }
   ],
   "source": [
    "# Sum up all NaN values remaining\n",
    "df_clean.isnull().sum().sum()"
   ]
  },
  {
   "cell_type": "code",
   "execution_count": 41,
   "metadata": {},
   "outputs": [
    {
     "data": {
      "text/plain": [
       "(793931, 17)"
      ]
     },
     "execution_count": 41,
     "metadata": {},
     "output_type": "execute_result"
    }
   ],
   "source": [
    "df_clean.shape"
   ]
  },
  {
   "cell_type": "markdown",
   "metadata": {},
   "source": [
    "## Analysis"
   ]
  },
  {
   "cell_type": "markdown",
   "metadata": {},
   "source": [
    "### Visualizations\n",
    "\n",
    "#### 1. In what range are the listings prices distributed?\n"
   ]
  },
  {
   "cell_type": "code",
   "execution_count": 77,
   "metadata": {},
   "outputs": [
    {
     "data": {
      "image/png": "[encoded data removed]",
      "image/svg+xml": "<?xml version=\"1.0\" encoding=\"utf-8\" standalone=\"no\"?>\n<!DOCTYPE svg PUBLIC \"-//W3C//DTD SVG 1.1//EN\"\n  \"http://www.w3.org/Graphics/SVG/1.1/DTD/svg11.dtd\">\n<svg xmlns:xlink=\"http://www.w3.org/1999/xlink\" width=\"569.70875pt\" height=\"554.517812pt\" viewBox=\"0 0 569.70875 554.517812\" xmlns=\"http://www.w3.org/2000/svg\" version=\"1.1\">\n <metadata>\n  <rdf:RDF xmlns:dc=\"http://purl.org/dc/elements/1.1/\" xmlns:cc=\"http://creativecommons.org/ns#\" xmlns:rdf=\"http://www.w3.org/1999/02/22-rdf-syntax-ns#\">\n   <cc:Work>\n    <dc:type rdf:resource=\"http://purl.org/dc/dcmitype/StillImage\"/>\n    <dc:date>2021-11-21T12:27:06.504423</dc:date>\n    <dc:format>image/svg+xml</dc:format>\n    <dc:creator>\n     <cc:Agent>\n      <dc:title>Matplotlib v3.5.0rc1, https://matplotlib.org/</dc:title>\n     </cc:Agent>\n    </dc:creator>\n   </cc:Work>\n  </rdf:RDF>\n </metadata>\n <defs>\n  <style type=\"text/css\">*{stroke-linejoin: round; stroke-linecap: butt}</style>\n </defs>\n <g id=\"figure_1\">\n  <g id=\"patch_1\">\n   <path d=\"M 0 554.517812 \nL 569.70875 554.517812 \nL 569.70875 0 \nL 0 0 \nz\n\" style=\"fill: #ffffff\"/>\n  </g>\n  <g id=\"axes_1\">\n   <g id=\"patch_2\">\n    <path d=\"M 60.30875 511.558125 \nL 562.50875 511.558125 \nL 562.50875 22.318125 \nL 60.30875 22.318125 \nz\n\" style=\"fill: #eaeaf2\"/>\n   </g>\n   <g id=\"matplotlib.axis_1\">\n    <g id=\"xtick_1\">\n     <g id=\"line2d_1\">\n      <path d=\"M 75.586666 511.558125 \nL 75.586666 22.318125 \n\" clip-path=\"url(#p58fec77d46)\" style=\"fill: none; stroke: #ffffff; stroke-linecap: round\"/>\n     </g>\n     <g id=\"text_1\">\n      <!-- 0 -->\n      <g style=\"fill: #262626\" transform=\"translate(72.087291 529.416406)scale(0.11 -0.11)\">\n       <defs>\n        <path id=\"DejaVuSans-30\" d=\"M 2034 4250 \nQ 1547 4250 1301 3770 \nQ 1056 3291 1056 2328 \nQ 1056 1369 1301 889 \nQ 1547 409 2034 409 \nQ 2525 409 2770 889 \nQ 3016 1369 3016 2328 \nQ 3016 3291 2770 3770 \nQ 2525 4250 2034 4250 \nz\nM 2034 4750 \nQ 2819 4750 3233 4129 \nQ 3647 3509 3647 2328 \nQ 3647 1150 3233 529 \nQ 2819 -91 2034 -91 \nQ 1250 -91 836 529 \nQ 422 1150 422 2328 \nQ 422 3509 836 4129 \nQ 1250 4750 2034 4750 \nz\n\" transform=\"scale(0.015625)\"/>\n       </defs>\n       <use xlink:href=\"#DejaVuSans-30\"/>\n      </g>\n     </g>\n    </g>\n    <g id=\"xtick_2\">\n     <g id=\"line2d_2\">\n      <path d=\"M 146.886148 511.558125 \nL 146.886148 22.318125 \n\" clip-path=\"url(#p58fec77d46)\" style=\"fill: none; stroke: #ffffff; stroke-linecap: round\"/>\n     </g>\n     <g id=\"text_2\">\n      <!-- 200 -->\n      <g style=\"fill: #262626\" transform=\"translate(136.388023 529.416406)scale(0.11 -0.11)\">\n       <defs>\n        <path id=\"DejaVuSans-32\" d=\"M 1228 531 \nL 3431 531 \nL 3431 0 \nL 469 0 \nL 469 531 \nQ 828 903 1448 1529 \nQ 2069 2156 2228 2338 \nQ 2531 2678 2651 2914 \nQ 2772 3150 2772 3378 \nQ 2772 3750 2511 3984 \nQ 2250 4219 1831 4219 \nQ 1534 4219 1204 4116 \nQ 875 4013 500 3803 \nL 500 4441 \nQ 881 4594 1212 4672 \nQ 1544 4750 1819 4750 \nQ 2544 4750 2975 4387 \nQ 3406 4025 3406 3419 \nQ 3406 3131 3298 2873 \nQ 3191 2616 2906 2266 \nQ 2828 2175 2409 1742 \nQ 1991 1309 1228 531 \nz\n\" transform=\"scale(0.015625)\"/>\n       </defs>\n       <use xlink:href=\"#DejaVuSans-32\"/>\n       <use xlink:href=\"#DejaVuSans-30\" x=\"63.623047\"/>\n       <use xlink:href=\"#DejaVuSans-30\" x=\"127.246094\"/>\n      </g>\n     </g>\n    </g>\n    <g id=\"xtick_3\">\n     <g id=\"line2d_3\">\n      <path d=\"M 218.18563 511.558125 \nL 218.18563 22.318125 \n\" clip-path=\"url(#p58fec77d46)\" style=\"fill: none; stroke: #ffffff; stroke-linecap: round\"/>\n     </g>\n     <g id=\"text_3\">\n      <!-- 400 -->\n      <g style=\"fill: #262626\" transform=\"translate(207.687505 529.416406)scale(0.11 -0.11)\">\n       <defs>\n        <path id=\"DejaVuSans-34\" d=\"M 2419 4116 \nL 825 1625 \nL 2419 1625 \nL 2419 4116 \nz\nM 2253 4666 \nL 3047 4666 \nL 3047 1625 \nL 3713 1625 \nL 3713 1100 \nL 3047 1100 \nL 3047 0 \nL 2419 0 \nL 2419 1100 \nL 313 1100 \nL 313 1709 \nL 2253 4666 \nz\n\" transform=\"scale(0.015625)\"/>\n       </defs>\n       <use xlink:href=\"#DejaVuSans-34\"/>\n       <use xlink:href=\"#DejaVuSans-30\" x=\"63.623047\"/>\n       <use xlink:href=\"#DejaVuSans-30\" x=\"127.246094\"/>\n      </g>\n     </g>\n    </g>\n    <g id=\"xtick_4\">\n     <g id=\"line2d_4\">\n      <path d=\"M 289.485112 511.558125 \nL 289.485112 22.318125 \n\" clip-path=\"url(#p58fec77d46)\" style=\"fill: none; stroke: #ffffff; stroke-linecap: round\"/>\n     </g>\n     <g id=\"text_4\">\n      <!-- 600 -->\n      <g style=\"fill: #262626\" transform=\"translate(278.986987 529.416406)scale(0.11 -0.11)\">\n       <defs>\n        <path id=\"DejaVuSans-36\" d=\"M 2113 2584 \nQ 1688 2584 1439 2293 \nQ 1191 2003 1191 1497 \nQ 1191 994 1439 701 \nQ 1688 409 2113 409 \nQ 2538 409 2786 701 \nQ 3034 994 3034 1497 \nQ 3034 2003 2786 2293 \nQ 2538 2584 2113 2584 \nz\nM 3366 4563 \nL 3366 3988 \nQ 3128 4100 2886 4159 \nQ 2644 4219 2406 4219 \nQ 1781 4219 1451 3797 \nQ 1122 3375 1075 2522 \nQ 1259 2794 1537 2939 \nQ 1816 3084 2150 3084 \nQ 2853 3084 3261 2657 \nQ 3669 2231 3669 1497 \nQ 3669 778 3244 343 \nQ 2819 -91 2113 -91 \nQ 1303 -91 875 529 \nQ 447 1150 447 2328 \nQ 447 3434 972 4092 \nQ 1497 4750 2381 4750 \nQ 2619 4750 2861 4703 \nQ 3103 4656 3366 4563 \nz\n\" transform=\"scale(0.015625)\"/>\n       </defs>\n       <use xlink:href=\"#DejaVuSans-36\"/>\n       <use xlink:href=\"#DejaVuSans-30\" x=\"63.623047\"/>\n       <use xlink:href=\"#DejaVuSans-30\" x=\"127.246094\"/>\n      </g>\n     </g>\n    </g>\n    <g id=\"xtick_5\">\n     <g id=\"line2d_5\">\n      <path d=\"M 360.784595 511.558125 \nL 360.784595 22.318125 \n\" clip-path=\"url(#p58fec77d46)\" style=\"fill: none; stroke: #ffffff; stroke-linecap: round\"/>\n     </g>\n     <g id=\"text_5\">\n      <!-- 800 -->\n      <g style=\"fill: #262626\" transform=\"translate(350.28647 529.416406)scale(0.11 -0.11)\">\n       <defs>\n        <path id=\"DejaVuSans-38\" d=\"M 2034 2216 \nQ 1584 2216 1326 1975 \nQ 1069 1734 1069 1313 \nQ 1069 891 1326 650 \nQ 1584 409 2034 409 \nQ 2484 409 2743 651 \nQ 3003 894 3003 1313 \nQ 3003 1734 2745 1975 \nQ 2488 2216 2034 2216 \nz\nM 1403 2484 \nQ 997 2584 770 2862 \nQ 544 3141 544 3541 \nQ 544 4100 942 4425 \nQ 1341 4750 2034 4750 \nQ 2731 4750 3128 4425 \nQ 3525 4100 3525 3541 \nQ 3525 3141 3298 2862 \nQ 3072 2584 2669 2484 \nQ 3125 2378 3379 2068 \nQ 3634 1759 3634 1313 \nQ 3634 634 3220 271 \nQ 2806 -91 2034 -91 \nQ 1263 -91 848 271 \nQ 434 634 434 1313 \nQ 434 1759 690 2068 \nQ 947 2378 1403 2484 \nz\nM 1172 3481 \nQ 1172 3119 1398 2916 \nQ 1625 2713 2034 2713 \nQ 2441 2713 2670 2916 \nQ 2900 3119 2900 3481 \nQ 2900 3844 2670 4047 \nQ 2441 4250 2034 4250 \nQ 1625 4250 1398 4047 \nQ 1172 3844 1172 3481 \nz\n\" transform=\"scale(0.015625)\"/>\n       </defs>\n       <use xlink:href=\"#DejaVuSans-38\"/>\n       <use xlink:href=\"#DejaVuSans-30\" x=\"63.623047\"/>\n       <use xlink:href=\"#DejaVuSans-30\" x=\"127.246094\"/>\n      </g>\n     </g>\n    </g>\n    <g id=\"xtick_6\">\n     <g id=\"line2d_6\">\n      <path d=\"M 432.084077 511.558125 \nL 432.084077 22.318125 \n\" clip-path=\"url(#p58fec77d46)\" style=\"fill: none; stroke: #ffffff; stroke-linecap: round\"/>\n     </g>\n     <g id=\"text_6\">\n      <!-- 1000 -->\n      <g style=\"fill: #262626\" transform=\"translate(418.086577 529.416406)scale(0.11 -0.11)\">\n       <defs>\n        <path id=\"DejaVuSans-31\" d=\"M 794 531 \nL 1825 531 \nL 1825 4091 \nL 703 3866 \nL 703 4441 \nL 1819 4666 \nL 2450 4666 \nL 2450 531 \nL 3481 531 \nL 3481 0 \nL 794 0 \nL 794 531 \nz\n\" transform=\"scale(0.015625)\"/>\n       </defs>\n       <use xlink:href=\"#DejaVuSans-31\"/>\n       <use xlink:href=\"#DejaVuSans-30\" x=\"63.623047\"/>\n       <use xlink:href=\"#DejaVuSans-30\" x=\"127.246094\"/>\n       <use xlink:href=\"#DejaVuSans-30\" x=\"190.869141\"/>\n      </g>\n     </g>\n    </g>\n    <g id=\"xtick_7\">\n     <g id=\"line2d_7\">\n      <path d=\"M 503.383559 511.558125 \nL 503.383559 22.318125 \n\" clip-path=\"url(#p58fec77d46)\" style=\"fill: none; stroke: #ffffff; stroke-linecap: round\"/>\n     </g>\n     <g id=\"text_7\">\n      <!-- 1200 -->\n      <g style=\"fill: #262626\" transform=\"translate(489.386059 529.416406)scale(0.11 -0.11)\">\n       <use xlink:href=\"#DejaVuSans-31\"/>\n       <use xlink:href=\"#DejaVuSans-32\" x=\"63.623047\"/>\n       <use xlink:href=\"#DejaVuSans-30\" x=\"127.246094\"/>\n       <use xlink:href=\"#DejaVuSans-30\" x=\"190.869141\"/>\n      </g>\n     </g>\n    </g>\n    <g id=\"text_8\">\n     <!-- Price in $ -->\n     <g style=\"fill: #262626\" transform=\"translate(283.670938 544.822187)scale(0.12 -0.12)\">\n      <defs>\n       <path id=\"DejaVuSans-50\" d=\"M 1259 4147 \nL 1259 2394 \nL 2053 2394 \nQ 2494 2394 2734 2622 \nQ 2975 2850 2975 3272 \nQ 2975 3691 2734 3919 \nQ 2494 4147 2053 4147 \nL 1259 4147 \nz\nM 628 4666 \nL 2053 4666 \nQ 2838 4666 3239 4311 \nQ 3641 3956 3641 3272 \nQ 3641 2581 3239 2228 \nQ 2838 1875 2053 1875 \nL 1259 1875 \nL 1259 0 \nL 628 0 \nL 628 4666 \nz\n\" transform=\"scale(0.015625)\"/>\n       <path id=\"DejaVuSans-72\" d=\"M 2631 2963 \nQ 2534 3019 2420 3045 \nQ 2306 3072 2169 3072 \nQ 1681 3072 1420 2755 \nQ 1159 2438 1159 1844 \nL 1159 0 \nL 581 0 \nL 581 3500 \nL 1159 3500 \nL 1159 2956 \nQ 1341 3275 1631 3429 \nQ 1922 3584 2338 3584 \nQ 2397 3584 2469 3576 \nQ 2541 3569 2628 3553 \nL 2631 2963 \nz\n\" transform=\"scale(0.015625)\"/>\n       <path id=\"DejaVuSans-69\" d=\"M 603 3500 \nL 1178 3500 \nL 1178 0 \nL 603 0 \nL 603 3500 \nz\nM 603 4863 \nL 1178 4863 \nL 1178 4134 \nL 603 4134 \nL 603 4863 \nz\n\" transform=\"scale(0.015625)\"/>\n       <path id=\"DejaVuSans-63\" d=\"M 3122 3366 \nL 3122 2828 \nQ 2878 2963 2633 3030 \nQ 2388 3097 2138 3097 \nQ 1578 3097 1268 2742 \nQ 959 2388 959 1747 \nQ 959 1106 1268 751 \nQ 1578 397 2138 397 \nQ 2388 397 2633 464 \nQ 2878 531 3122 666 \nL 3122 134 \nQ 2881 22 2623 -34 \nQ 2366 -91 2075 -91 \nQ 1284 -91 818 406 \nQ 353 903 353 1747 \nQ 353 2603 823 3093 \nQ 1294 3584 2113 3584 \nQ 2378 3584 2631 3529 \nQ 2884 3475 3122 3366 \nz\n\" transform=\"scale(0.015625)\"/>\n       <path id=\"DejaVuSans-65\" d=\"M 3597 1894 \nL 3597 1613 \nL 953 1613 \nQ 991 1019 1311 708 \nQ 1631 397 2203 397 \nQ 2534 397 2845 478 \nQ 3156 559 3463 722 \nL 3463 178 \nQ 3153 47 2828 -22 \nQ 2503 -91 2169 -91 \nQ 1331 -91 842 396 \nQ 353 884 353 1716 \nQ 353 2575 817 3079 \nQ 1281 3584 2069 3584 \nQ 2775 3584 3186 3129 \nQ 3597 2675 3597 1894 \nz\nM 3022 2063 \nQ 3016 2534 2758 2815 \nQ 2500 3097 2075 3097 \nQ 1594 3097 1305 2825 \nQ 1016 2553 972 2059 \nL 3022 2063 \nz\n\" transform=\"scale(0.015625)\"/>\n       <path id=\"DejaVuSans-20\" transform=\"scale(0.015625)\"/>\n       <path id=\"DejaVuSans-6e\" d=\"M 3513 2113 \nL 3513 0 \nL 2938 0 \nL 2938 2094 \nQ 2938 2591 2744 2837 \nQ 2550 3084 2163 3084 \nQ 1697 3084 1428 2787 \nQ 1159 2491 1159 1978 \nL 1159 0 \nL 581 0 \nL 581 3500 \nL 1159 3500 \nL 1159 2956 \nQ 1366 3272 1645 3428 \nQ 1925 3584 2291 3584 \nQ 2894 3584 3203 3211 \nQ 3513 2838 3513 2113 \nz\n\" transform=\"scale(0.015625)\"/>\n       <path id=\"DejaVuSans-24\" d=\"M 2163 -941 \nL 1850 -941 \nL 1847 0 \nQ 1519 6 1191 76 \nQ 863 147 531 288 \nL 531 850 \nQ 850 650 1176 548 \nQ 1503 447 1850 444 \nL 1850 1869 \nQ 1159 1981 845 2250 \nQ 531 2519 531 2988 \nQ 531 3497 872 3790 \nQ 1213 4084 1850 4128 \nL 1850 4863 \nL 2163 4863 \nL 2163 4138 \nQ 2453 4125 2725 4076 \nQ 2997 4028 3256 3944 \nL 3256 3397 \nQ 2997 3528 2723 3600 \nQ 2450 3672 2163 3684 \nL 2163 2350 \nQ 2872 2241 3206 1959 \nQ 3541 1678 3541 1191 \nQ 3541 663 3186 358 \nQ 2831 53 2163 6 \nL 2163 -941 \nz\nM 1850 2406 \nL 1850 3688 \nQ 1488 3647 1297 3481 \nQ 1106 3316 1106 3041 \nQ 1106 2772 1282 2622 \nQ 1459 2472 1850 2406 \nz\nM 2163 1806 \nL 2163 453 \nQ 2559 506 2761 678 \nQ 2963 850 2963 1131 \nQ 2963 1406 2770 1568 \nQ 2578 1731 2163 1806 \nz\n\" transform=\"scale(0.015625)\"/>\n      </defs>\n      <use xlink:href=\"#DejaVuSans-50\"/>\n      <use xlink:href=\"#DejaVuSans-72\" x=\"58.552734\"/>\n      <use xlink:href=\"#DejaVuSans-69\" x=\"99.666016\"/>\n      <use xlink:href=\"#DejaVuSans-63\" x=\"127.449219\"/>\n      <use xlink:href=\"#DejaVuSans-65\" x=\"182.429688\"/>\n      <use xlink:href=\"#DejaVuSans-20\" x=\"243.953125\"/>\n      <use xlink:href=\"#DejaVuSans-69\" x=\"275.740234\"/>\n      <use xlink:href=\"#DejaVuSans-6e\" x=\"303.523438\"/>\n      <use xlink:href=\"#DejaVuSans-20\" x=\"366.902344\"/>\n      <use xlink:href=\"#DejaVuSans-24\" x=\"398.689453\"/>\n     </g>\n    </g>\n   </g>\n   <g id=\"matplotlib.axis_2\">\n    <g id=\"ytick_1\">\n     <g id=\"line2d_8\">\n      <path d=\"M 60.30875 511.558125 \nL 562.50875 511.558125 \n\" clip-path=\"url(#p58fec77d46)\" style=\"fill: none; stroke: #ffffff; stroke-linecap: round\"/>\n     </g>\n     <g id=\"text_9\">\n      <!-- 0 -->\n      <g style=\"fill: #262626\" transform=\"translate(43.81 515.737266)scale(0.11 -0.11)\">\n       <use xlink:href=\"#DejaVuSans-30\"/>\n      </g>\n     </g>\n    </g>\n    <g id=\"ytick_2\">\n     <g id=\"line2d_9\">\n      <path d=\"M 60.30875 447.748698 \nL 562.50875 447.748698 \n\" clip-path=\"url(#p58fec77d46)\" style=\"fill: none; stroke: #ffffff; stroke-linecap: round\"/>\n     </g>\n     <g id=\"text_10\">\n      <!-- 200 -->\n      <g style=\"fill: #262626\" transform=\"translate(29.8125 451.927839)scale(0.11 -0.11)\">\n       <use xlink:href=\"#DejaVuSans-32\"/>\n       <use xlink:href=\"#DejaVuSans-30\" x=\"63.623047\"/>\n       <use xlink:href=\"#DejaVuSans-30\" x=\"127.246094\"/>\n      </g>\n     </g>\n    </g>\n    <g id=\"ytick_3\">\n     <g id=\"line2d_10\">\n      <path d=\"M 60.30875 383.939271 \nL 562.50875 383.939271 \n\" clip-path=\"url(#p58fec77d46)\" style=\"fill: none; stroke: #ffffff; stroke-linecap: round\"/>\n     </g>\n     <g id=\"text_11\">\n      <!-- 400 -->\n      <g style=\"fill: #262626\" transform=\"translate(29.8125 388.118412)scale(0.11 -0.11)\">\n       <use xlink:href=\"#DejaVuSans-34\"/>\n       <use xlink:href=\"#DejaVuSans-30\" x=\"63.623047\"/>\n       <use xlink:href=\"#DejaVuSans-30\" x=\"127.246094\"/>\n      </g>\n     </g>\n    </g>\n    <g id=\"ytick_4\">\n     <g id=\"line2d_11\">\n      <path d=\"M 60.30875 320.129845 \nL 562.50875 320.129845 \n\" clip-path=\"url(#p58fec77d46)\" style=\"fill: none; stroke: #ffffff; stroke-linecap: round\"/>\n     </g>\n     <g id=\"text_12\">\n      <!-- 600 -->\n      <g style=\"fill: #262626\" transform=\"translate(29.8125 324.308985)scale(0.11 -0.11)\">\n       <use xlink:href=\"#DejaVuSans-36\"/>\n       <use xlink:href=\"#DejaVuSans-30\" x=\"63.623047\"/>\n       <use xlink:href=\"#DejaVuSans-30\" x=\"127.246094\"/>\n      </g>\n     </g>\n    </g>\n    <g id=\"ytick_5\">\n     <g id=\"line2d_12\">\n      <path d=\"M 60.30875 256.320418 \nL 562.50875 256.320418 \n\" clip-path=\"url(#p58fec77d46)\" style=\"fill: none; stroke: #ffffff; stroke-linecap: round\"/>\n     </g>\n     <g id=\"text_13\">\n      <!-- 800 -->\n      <g style=\"fill: #262626\" transform=\"translate(29.8125 260.499558)scale(0.11 -0.11)\">\n       <use xlink:href=\"#DejaVuSans-38\"/>\n       <use xlink:href=\"#DejaVuSans-30\" x=\"63.623047\"/>\n       <use xlink:href=\"#DejaVuSans-30\" x=\"127.246094\"/>\n      </g>\n     </g>\n    </g>\n    <g id=\"ytick_6\">\n     <g id=\"line2d_13\">\n      <path d=\"M 60.30875 192.510991 \nL 562.50875 192.510991 \n\" clip-path=\"url(#p58fec77d46)\" style=\"fill: none; stroke: #ffffff; stroke-linecap: round\"/>\n     </g>\n     <g id=\"text_14\">\n      <!-- 1000 -->\n      <g style=\"fill: #262626\" transform=\"translate(22.81375 196.690131)scale(0.11 -0.11)\">\n       <use xlink:href=\"#DejaVuSans-31\"/>\n       <use xlink:href=\"#DejaVuSans-30\" x=\"63.623047\"/>\n       <use xlink:href=\"#DejaVuSans-30\" x=\"127.246094\"/>\n       <use xlink:href=\"#DejaVuSans-30\" x=\"190.869141\"/>\n      </g>\n     </g>\n    </g>\n    <g id=\"ytick_7\">\n     <g id=\"line2d_14\">\n      <path d=\"M 60.30875 128.701564 \nL 562.50875 128.701564 \n\" clip-path=\"url(#p58fec77d46)\" style=\"fill: none; stroke: #ffffff; stroke-linecap: round\"/>\n     </g>\n     <g id=\"text_15\">\n      <!-- 1200 -->\n      <g style=\"fill: #262626\" transform=\"translate(22.81375 132.880705)scale(0.11 -0.11)\">\n       <use xlink:href=\"#DejaVuSans-31\"/>\n       <use xlink:href=\"#DejaVuSans-32\" x=\"63.623047\"/>\n       <use xlink:href=\"#DejaVuSans-30\" x=\"127.246094\"/>\n       <use xlink:href=\"#DejaVuSans-30\" x=\"190.869141\"/>\n      </g>\n     </g>\n    </g>\n    <g id=\"ytick_8\">\n     <g id=\"line2d_15\">\n      <path d=\"M 60.30875 64.892137 \nL 562.50875 64.892137 \n\" clip-path=\"url(#p58fec77d46)\" style=\"fill: none; stroke: #ffffff; stroke-linecap: round\"/>\n     </g>\n     <g id=\"text_16\">\n      <!-- 1400 -->\n      <g style=\"fill: #262626\" transform=\"translate(22.81375 69.071278)scale(0.11 -0.11)\">\n       <use xlink:href=\"#DejaVuSans-31\"/>\n       <use xlink:href=\"#DejaVuSans-34\" x=\"63.623047\"/>\n       <use xlink:href=\"#DejaVuSans-30\" x=\"127.246094\"/>\n       <use xlink:href=\"#DejaVuSans-30\" x=\"190.869141\"/>\n      </g>\n     </g>\n    </g>\n    <g id=\"text_17\">\n     <!-- Number of listings -->\n     <g style=\"fill: #262626\" transform=\"translate(16.318125 321.854062)rotate(-90)scale(0.12 -0.12)\">\n      <defs>\n       <path id=\"DejaVuSans-4e\" d=\"M 628 4666 \nL 1478 4666 \nL 3547 763 \nL 3547 4666 \nL 4159 4666 \nL 4159 0 \nL 3309 0 \nL 1241 3903 \nL 1241 0 \nL 628 0 \nL 628 4666 \nz\n\" transform=\"scale(0.015625)\"/>\n       <path id=\"DejaVuSans-75\" d=\"M 544 1381 \nL 544 3500 \nL 1119 3500 \nL 1119 1403 \nQ 1119 906 1312 657 \nQ 1506 409 1894 409 \nQ 2359 409 2629 706 \nQ 2900 1003 2900 1516 \nL 2900 3500 \nL 3475 3500 \nL 3475 0 \nL 2900 0 \nL 2900 538 \nQ 2691 219 2414 64 \nQ 2138 -91 1772 -91 \nQ 1169 -91 856 284 \nQ 544 659 544 1381 \nz\nM 1991 3584 \nL 1991 3584 \nz\n\" transform=\"scale(0.015625)\"/>\n       <path id=\"DejaVuSans-6d\" d=\"M 3328 2828 \nQ 3544 3216 3844 3400 \nQ 4144 3584 4550 3584 \nQ 5097 3584 5394 3201 \nQ 5691 2819 5691 2113 \nL 5691 0 \nL 5113 0 \nL 5113 2094 \nQ 5113 2597 4934 2840 \nQ 4756 3084 4391 3084 \nQ 3944 3084 3684 2787 \nQ 3425 2491 3425 1978 \nL 3425 0 \nL 2847 0 \nL 2847 2094 \nQ 2847 2600 2669 2842 \nQ 2491 3084 2119 3084 \nQ 1678 3084 1418 2786 \nQ 1159 2488 1159 1978 \nL 1159 0 \nL 581 0 \nL 581 3500 \nL 1159 3500 \nL 1159 2956 \nQ 1356 3278 1631 3431 \nQ 1906 3584 2284 3584 \nQ 2666 3584 2933 3390 \nQ 3200 3197 3328 2828 \nz\n\" transform=\"scale(0.015625)\"/>\n       <path id=\"DejaVuSans-62\" d=\"M 3116 1747 \nQ 3116 2381 2855 2742 \nQ 2594 3103 2138 3103 \nQ 1681 3103 1420 2742 \nQ 1159 2381 1159 1747 \nQ 1159 1113 1420 752 \nQ 1681 391 2138 391 \nQ 2594 391 2855 752 \nQ 3116 1113 3116 1747 \nz\nM 1159 2969 \nQ 1341 3281 1617 3432 \nQ 1894 3584 2278 3584 \nQ 2916 3584 3314 3078 \nQ 3713 2572 3713 1747 \nQ 3713 922 3314 415 \nQ 2916 -91 2278 -91 \nQ 1894 -91 1617 61 \nQ 1341 213 1159 525 \nL 1159 0 \nL 581 0 \nL 581 4863 \nL 1159 4863 \nL 1159 2969 \nz\n\" transform=\"scale(0.015625)\"/>\n       <path id=\"DejaVuSans-6f\" d=\"M 1959 3097 \nQ 1497 3097 1228 2736 \nQ 959 2375 959 1747 \nQ 959 1119 1226 758 \nQ 1494 397 1959 397 \nQ 2419 397 2687 759 \nQ 2956 1122 2956 1747 \nQ 2956 2369 2687 2733 \nQ 2419 3097 1959 3097 \nz\nM 1959 3584 \nQ 2709 3584 3137 3096 \nQ 3566 2609 3566 1747 \nQ 3566 888 3137 398 \nQ 2709 -91 1959 -91 \nQ 1206 -91 779 398 \nQ 353 888 353 1747 \nQ 353 2609 779 3096 \nQ 1206 3584 1959 3584 \nz\n\" transform=\"scale(0.015625)\"/>\n       <path id=\"DejaVuSans-66\" d=\"M 2375 4863 \nL 2375 4384 \nL 1825 4384 \nQ 1516 4384 1395 4259 \nQ 1275 4134 1275 3809 \nL 1275 3500 \nL 2222 3500 \nL 2222 3053 \nL 1275 3053 \nL 1275 0 \nL 697 0 \nL 697 3053 \nL 147 3053 \nL 147 3500 \nL 697 3500 \nL 697 3744 \nQ 697 4328 969 4595 \nQ 1241 4863 1831 4863 \nL 2375 4863 \nz\n\" transform=\"scale(0.015625)\"/>\n       <path id=\"DejaVuSans-6c\" d=\"M 603 4863 \nL 1178 4863 \nL 1178 0 \nL 603 0 \nL 603 4863 \nz\n\" transform=\"scale(0.015625)\"/>\n       <path id=\"DejaVuSans-73\" d=\"M 2834 3397 \nL 2834 2853 \nQ 2591 2978 2328 3040 \nQ 2066 3103 1784 3103 \nQ 1356 3103 1142 2972 \nQ 928 2841 928 2578 \nQ 928 2378 1081 2264 \nQ 1234 2150 1697 2047 \nL 1894 2003 \nQ 2506 1872 2764 1633 \nQ 3022 1394 3022 966 \nQ 3022 478 2636 193 \nQ 2250 -91 1575 -91 \nQ 1294 -91 989 -36 \nQ 684 19 347 128 \nL 347 722 \nQ 666 556 975 473 \nQ 1284 391 1588 391 \nQ 1994 391 2212 530 \nQ 2431 669 2431 922 \nQ 2431 1156 2273 1281 \nQ 2116 1406 1581 1522 \nL 1381 1569 \nQ 847 1681 609 1914 \nQ 372 2147 372 2553 \nQ 372 3047 722 3315 \nQ 1072 3584 1716 3584 \nQ 2034 3584 2315 3537 \nQ 2597 3491 2834 3397 \nz\n\" transform=\"scale(0.015625)\"/>\n       <path id=\"DejaVuSans-74\" d=\"M 1172 4494 \nL 1172 3500 \nL 2356 3500 \nL 2356 3053 \nL 1172 3053 \nL 1172 1153 \nQ 1172 725 1289 603 \nQ 1406 481 1766 481 \nL 2356 481 \nL 2356 0 \nL 1766 0 \nQ 1100 0 847 248 \nQ 594 497 594 1153 \nL 594 3053 \nL 172 3053 \nL 172 3500 \nL 594 3500 \nL 594 4494 \nL 1172 4494 \nz\n\" transform=\"scale(0.015625)\"/>\n       <path id=\"DejaVuSans-67\" d=\"M 2906 1791 \nQ 2906 2416 2648 2759 \nQ 2391 3103 1925 3103 \nQ 1463 3103 1205 2759 \nQ 947 2416 947 1791 \nQ 947 1169 1205 825 \nQ 1463 481 1925 481 \nQ 2391 481 2648 825 \nQ 2906 1169 2906 1791 \nz\nM 3481 434 \nQ 3481 -459 3084 -895 \nQ 2688 -1331 1869 -1331 \nQ 1566 -1331 1297 -1286 \nQ 1028 -1241 775 -1147 \nL 775 -588 \nQ 1028 -725 1275 -790 \nQ 1522 -856 1778 -856 \nQ 2344 -856 2625 -561 \nQ 2906 -266 2906 331 \nL 2906 616 \nQ 2728 306 2450 153 \nQ 2172 0 1784 0 \nQ 1141 0 747 490 \nQ 353 981 353 1791 \nQ 353 2603 747 3093 \nQ 1141 3584 1784 3584 \nQ 2172 3584 2450 3431 \nQ 2728 3278 2906 2969 \nL 2906 3500 \nL 3481 3500 \nL 3481 434 \nz\n\" transform=\"scale(0.015625)\"/>\n      </defs>\n      <use xlink:href=\"#DejaVuSans-4e\"/>\n      <use xlink:href=\"#DejaVuSans-75\" x=\"74.804688\"/>\n      <use xlink:href=\"#DejaVuSans-6d\" x=\"138.183594\"/>\n      <use xlink:href=\"#DejaVuSans-62\" x=\"235.595703\"/>\n      <use xlink:href=\"#DejaVuSans-65\" x=\"299.072266\"/>\n      <use xlink:href=\"#DejaVuSans-72\" x=\"360.595703\"/>\n      <use xlink:href=\"#DejaVuSans-20\" x=\"401.708984\"/>\n      <use xlink:href=\"#DejaVuSans-6f\" x=\"433.496094\"/>\n      <use xlink:href=\"#DejaVuSans-66\" x=\"494.677734\"/>\n      <use xlink:href=\"#DejaVuSans-20\" x=\"529.882812\"/>\n      <use xlink:href=\"#DejaVuSans-6c\" x=\"561.669922\"/>\n      <use xlink:href=\"#DejaVuSans-69\" x=\"589.453125\"/>\n      <use xlink:href=\"#DejaVuSans-73\" x=\"617.236328\"/>\n      <use xlink:href=\"#DejaVuSans-74\" x=\"669.335938\"/>\n      <use xlink:href=\"#DejaVuSans-69\" x=\"708.544922\"/>\n      <use xlink:href=\"#DejaVuSans-6e\" x=\"736.328125\"/>\n      <use xlink:href=\"#DejaVuSans-67\" x=\"799.707031\"/>\n      <use xlink:href=\"#DejaVuSans-73\" x=\"863.183594\"/>\n     </g>\n    </g>\n   </g>\n   <g id=\"patch_3\">\n    <path d=\"M 83.136023 511.558125 \nL 105.963295 511.558125 \nL 105.963295 194.106227 \nL 83.136023 194.106227 \nz\n\" clip-path=\"url(#p58fec77d46)\" style=\"fill: #4c72b0; fill-opacity: 0.5; stroke: #ffffff; stroke-linejoin: miter\"/>\n   </g>\n   <g id=\"patch_4\">\n    <path d=\"M 105.963295 511.558125 \nL 128.790568 511.558125 \nL 128.790568 134.76346 \nL 105.963295 134.76346 \nz\n\" clip-path=\"url(#p58fec77d46)\" style=\"fill: #4c72b0; fill-opacity: 0.5; stroke: #ffffff; stroke-linejoin: miter\"/>\n   </g>\n   <g id=\"patch_5\">\n    <path d=\"M 128.790568 511.558125 \nL 151.617841 511.558125 \nL 151.617841 351.396464 \nL 128.790568 351.396464 \nz\n\" clip-path=\"url(#p58fec77d46)\" style=\"fill: #4c72b0; fill-opacity: 0.5; stroke: #ffffff; stroke-linejoin: miter\"/>\n   </g>\n   <g id=\"patch_6\">\n    <path d=\"M 151.617841 511.558125 \nL 174.445114 511.558125 \nL 174.445114 441.686803 \nL 151.617841 441.686803 \nz\n\" clip-path=\"url(#p58fec77d46)\" style=\"fill: #4c72b0; fill-opacity: 0.5; stroke: #ffffff; stroke-linejoin: miter\"/>\n   </g>\n   <g id=\"patch_7\">\n    <path d=\"M 174.445114 511.558125 \nL 197.272386 511.558125 \nL 197.272386 475.505799 \nL 174.445114 475.505799 \nz\n\" clip-path=\"url(#p58fec77d46)\" style=\"fill: #4c72b0; fill-opacity: 0.5; stroke: #ffffff; stroke-linejoin: miter\"/>\n   </g>\n   <g id=\"patch_8\">\n    <path d=\"M 197.272386 511.558125 \nL 220.099659 511.558125 \nL 220.099659 498.79624 \nL 197.272386 498.79624 \nz\n\" clip-path=\"url(#p58fec77d46)\" style=\"fill: #4c72b0; fill-opacity: 0.5; stroke: #ffffff; stroke-linejoin: miter\"/>\n   </g>\n   <g id=\"patch_9\">\n    <path d=\"M 220.099659 511.558125 \nL 242.926932 511.558125 \nL 242.926932 506.134324 \nL 220.099659 506.134324 \nz\n\" clip-path=\"url(#p58fec77d46)\" style=\"fill: #4c72b0; fill-opacity: 0.5; stroke: #ffffff; stroke-linejoin: miter\"/>\n   </g>\n   <g id=\"patch_10\">\n    <path d=\"M 242.926932 511.558125 \nL 265.754205 511.558125 \nL 265.754205 506.453371 \nL 242.926932 506.453371 \nz\n\" clip-path=\"url(#p58fec77d46)\" style=\"fill: #4c72b0; fill-opacity: 0.5; stroke: #ffffff; stroke-linejoin: miter\"/>\n   </g>\n   <g id=\"patch_11\">\n    <path d=\"M 265.754205 511.558125 \nL 288.581477 511.558125 \nL 288.581477 508.048607 \nL 265.754205 508.048607 \nz\n\" clip-path=\"url(#p58fec77d46)\" style=\"fill: #4c72b0; fill-opacity: 0.5; stroke: #ffffff; stroke-linejoin: miter\"/>\n   </g>\n   <g id=\"patch_12\">\n    <path d=\"M 288.581477 511.558125 \nL 311.40875 511.558125 \nL 311.40875 510.281936 \nL 288.581477 510.281936 \nz\n\" clip-path=\"url(#p58fec77d46)\" style=\"fill: #4c72b0; fill-opacity: 0.5; stroke: #ffffff; stroke-linejoin: miter\"/>\n   </g>\n   <g id=\"patch_13\">\n    <path d=\"M 311.40875 511.558125 \nL 334.236023 511.558125 \nL 334.236023 508.686701 \nL 311.40875 508.686701 \nz\n\" clip-path=\"url(#p58fec77d46)\" style=\"fill: #4c72b0; fill-opacity: 0.5; stroke: #ffffff; stroke-linejoin: miter\"/>\n   </g>\n   <g id=\"patch_14\">\n    <path d=\"M 334.236023 511.558125 \nL 357.063295 511.558125 \nL 357.063295 510.920031 \nL 334.236023 510.920031 \nz\n\" clip-path=\"url(#p58fec77d46)\" style=\"fill: #4c72b0; fill-opacity: 0.5; stroke: #ffffff; stroke-linejoin: miter\"/>\n   </g>\n   <g id=\"patch_15\">\n    <path d=\"M 357.063295 511.558125 \nL 379.890568 511.558125 \nL 379.890568 511.558125 \nL 357.063295 511.558125 \nz\n\" clip-path=\"url(#p58fec77d46)\" style=\"fill: #4c72b0; fill-opacity: 0.5; stroke: #ffffff; stroke-linejoin: miter\"/>\n   </g>\n   <g id=\"patch_16\">\n    <path d=\"M 379.890568 511.558125 \nL 402.717841 511.558125 \nL 402.717841 510.920031 \nL 379.890568 510.920031 \nz\n\" clip-path=\"url(#p58fec77d46)\" style=\"fill: #4c72b0; fill-opacity: 0.5; stroke: #ffffff; stroke-linejoin: miter\"/>\n   </g>\n   <g id=\"patch_17\">\n    <path d=\"M 402.717841 511.558125 \nL 425.545114 511.558125 \nL 425.545114 511.239078 \nL 402.717841 511.239078 \nz\n\" clip-path=\"url(#p58fec77d46)\" style=\"fill: #4c72b0; fill-opacity: 0.5; stroke: #ffffff; stroke-linejoin: miter\"/>\n   </g>\n   <g id=\"patch_18\">\n    <path d=\"M 425.545114 511.558125 \nL 448.372386 511.558125 \nL 448.372386 510.920031 \nL 425.545114 510.920031 \nz\n\" clip-path=\"url(#p58fec77d46)\" style=\"fill: #4c72b0; fill-opacity: 0.5; stroke: #ffffff; stroke-linejoin: miter\"/>\n   </g>\n   <g id=\"patch_19\">\n    <path d=\"M 448.372386 511.558125 \nL 471.199659 511.558125 \nL 471.199659 511.558125 \nL 448.372386 511.558125 \nz\n\" clip-path=\"url(#p58fec77d46)\" style=\"fill: #4c72b0; fill-opacity: 0.5; stroke: #ffffff; stroke-linejoin: miter\"/>\n   </g>\n   <g id=\"patch_20\">\n    <path d=\"M 471.199659 511.558125 \nL 494.026932 511.558125 \nL 494.026932 511.558125 \nL 471.199659 511.558125 \nz\n\" clip-path=\"url(#p58fec77d46)\" style=\"fill: #4c72b0; fill-opacity: 0.5; stroke: #ffffff; stroke-linejoin: miter\"/>\n   </g>\n   <g id=\"patch_21\">\n    <path d=\"M 494.026932 511.558125 \nL 516.854205 511.558125 \nL 516.854205 511.558125 \nL 494.026932 511.558125 \nz\n\" clip-path=\"url(#p58fec77d46)\" style=\"fill: #4c72b0; fill-opacity: 0.5; stroke: #ffffff; stroke-linejoin: miter\"/>\n   </g>\n   <g id=\"patch_22\">\n    <path d=\"M 516.854205 511.558125 \nL 539.681477 511.558125 \nL 539.681477 511.239078 \nL 516.854205 511.239078 \nz\n\" clip-path=\"url(#p58fec77d46)\" style=\"fill: #4c72b0; fill-opacity: 0.5; stroke: #ffffff; stroke-linejoin: miter\"/>\n   </g>\n   <g id=\"line2d_16\">\n    <path d=\"M 83.136023 430.843999 \nL 85.430221 392.57444 \nL 87.724419 346.732516 \nL 96.901212 145.298663 \nL 99.195411 105.890031 \nL 101.489609 75.36231 \nL 103.783807 55.002059 \nL 106.078005 45.615268 \nL 108.372204 47.329968 \nL 110.666402 59.30248 \nL 112.9606 79.602306 \nL 115.254798 105.490378 \nL 122.137393 190.638032 \nL 124.431591 216.794153 \nL 129.019988 265.119671 \nL 131.314186 287.604758 \nL 133.608385 308.718494 \nL 135.902583 328.048471 \nL 138.196781 345.289478 \nL 140.490979 360.415913 \nL 142.785178 373.684881 \nL 145.079376 385.488412 \nL 147.373574 396.14982 \nL 149.667772 405.780783 \nL 151.961971 414.279182 \nL 154.256169 421.467034 \nL 156.550367 427.284404 \nL 158.844565 431.920503 \nL 161.138764 435.79967 \nL 165.72716 443.182856 \nL 170.315557 451.371589 \nL 174.903953 459.471901 \nL 179.49235 466.91496 \nL 188.669143 481.321966 \nL 190.963341 484.514167 \nL 193.257539 487.311944 \nL 195.551738 489.671985 \nL 197.845936 491.640316 \nL 202.434332 494.931964 \nL 207.022729 498.212202 \nL 211.611126 501.54547 \nL 213.905324 503.010306 \nL 216.199522 504.230167 \nL 218.49372 505.15886 \nL 220.787919 505.769197 \nL 223.082117 506.049063 \nL 225.376315 506.017443 \nL 229.964712 505.375934 \nL 232.25891 505.060914 \nL 234.553108 504.930537 \nL 236.847306 505.023276 \nL 243.729901 505.749194 \nL 248.318298 505.750124 \nL 252.906694 505.757641 \nL 257.495091 506.237665 \nL 262.083487 506.797873 \nL 268.966082 507.263587 \nL 280.437073 508.129149 \nL 287.319668 508.780651 \nL 291.908065 509.470318 \nL 298.79066 510.582291 \nL 301.084858 510.749726 \nL 303.379056 510.724695 \nL 305.673254 510.487839 \nL 307.967453 510.060437 \nL 314.850047 508.511931 \nL 317.144246 508.292065 \nL 319.438444 508.33898 \nL 321.732642 508.628883 \nL 326.321039 509.615172 \nL 330.909435 510.573009 \nL 333.203634 510.907554 \nL 335.497832 511.122096 \nL 340.086228 511.211254 \nL 351.55722 510.736084 \nL 356.145616 510.92775 \nL 363.028211 511.363243 \nL 367.616607 511.486177 \nL 374.499202 511.411264 \nL 385.970194 511.095261 \nL 427.265762 510.965968 \nL 434.148357 510.751985 \nL 438.736754 510.908215 \nL 447.913547 511.428722 \nL 454.796142 511.544777 \nL 489.209115 511.558125 \nL 528.210486 511.449883 \nL 539.681477 511.142714 \nL 539.681477 511.142714 \n\" clip-path=\"url(#p58fec77d46)\" style=\"fill: none; stroke: #4c72b0; stroke-width: 1.5; stroke-linecap: round\"/>\n   </g>\n   <g id=\"patch_23\">\n    <path d=\"M 60.30875 511.558125 \nL 60.30875 22.318125 \n\" style=\"fill: none; stroke: #ffffff; stroke-width: 1.25; stroke-linejoin: miter; stroke-linecap: square\"/>\n   </g>\n   <g id=\"patch_24\">\n    <path d=\"M 562.50875 511.558125 \nL 562.50875 22.318125 \n\" style=\"fill: none; stroke: #ffffff; stroke-width: 1.25; stroke-linejoin: miter; stroke-linecap: square\"/>\n   </g>\n   <g id=\"patch_25\">\n    <path d=\"M 60.30875 511.558125 \nL 562.50875 511.558125 \n\" style=\"fill: none; stroke: #ffffff; stroke-width: 1.25; stroke-linejoin: miter; stroke-linecap: square\"/>\n   </g>\n   <g id=\"patch_26\">\n    <path d=\"M 60.30875 22.318125 \nL 562.50875 22.318125 \n\" style=\"fill: none; stroke: #ffffff; stroke-width: 1.25; stroke-linejoin: miter; stroke-linecap: square\"/>\n   </g>\n   <g id=\"text_18\">\n    <!-- Listings price range -->\n    <g style=\"fill: #262626\" transform=\"translate(252.322813 16.318125)scale(0.12 -0.12)\">\n     <defs>\n      <path id=\"DejaVuSans-4c\" d=\"M 628 4666 \nL 1259 4666 \nL 1259 531 \nL 3531 531 \nL 3531 0 \nL 628 0 \nL 628 4666 \nz\n\" transform=\"scale(0.015625)\"/>\n      <path id=\"DejaVuSans-70\" d=\"M 1159 525 \nL 1159 -1331 \nL 581 -1331 \nL 581 3500 \nL 1159 3500 \nL 1159 2969 \nQ 1341 3281 1617 3432 \nQ 1894 3584 2278 3584 \nQ 2916 3584 3314 3078 \nQ 3713 2572 3713 1747 \nQ 3713 922 3314 415 \nQ 2916 -91 2278 -91 \nQ 1894 -91 1617 61 \nQ 1341 213 1159 525 \nz\nM 3116 1747 \nQ 3116 2381 2855 2742 \nQ 2594 3103 2138 3103 \nQ 1681 3103 1420 2742 \nQ 1159 2381 1159 1747 \nQ 1159 1113 1420 752 \nQ 1681 391 2138 391 \nQ 2594 391 2855 752 \nQ 3116 1113 3116 1747 \nz\n\" transform=\"scale(0.015625)\"/>\n      <path id=\"DejaVuSans-61\" d=\"M 2194 1759 \nQ 1497 1759 1228 1600 \nQ 959 1441 959 1056 \nQ 959 750 1161 570 \nQ 1363 391 1709 391 \nQ 2188 391 2477 730 \nQ 2766 1069 2766 1631 \nL 2766 1759 \nL 2194 1759 \nz\nM 3341 1997 \nL 3341 0 \nL 2766 0 \nL 2766 531 \nQ 2569 213 2275 61 \nQ 1981 -91 1556 -91 \nQ 1019 -91 701 211 \nQ 384 513 384 1019 \nQ 384 1609 779 1909 \nQ 1175 2209 1959 2209 \nL 2766 2209 \nL 2766 2266 \nQ 2766 2663 2505 2880 \nQ 2244 3097 1772 3097 \nQ 1472 3097 1187 3025 \nQ 903 2953 641 2809 \nL 641 3341 \nQ 956 3463 1253 3523 \nQ 1550 3584 1831 3584 \nQ 2591 3584 2966 3190 \nQ 3341 2797 3341 1997 \nz\n\" transform=\"scale(0.015625)\"/>\n     </defs>\n     <use xlink:href=\"#DejaVuSans-4c\"/>\n     <use xlink:href=\"#DejaVuSans-69\" x=\"55.712891\"/>\n     <use xlink:href=\"#DejaVuSans-73\" x=\"83.496094\"/>\n     <use xlink:href=\"#DejaVuSans-74\" x=\"135.595703\"/>\n     <use xlink:href=\"#DejaVuSans-69\" x=\"174.804688\"/>\n     <use xlink:href=\"#DejaVuSans-6e\" x=\"202.587891\"/>\n     <use xlink:href=\"#DejaVuSans-67\" x=\"265.966797\"/>\n     <use xlink:href=\"#DejaVuSans-73\" x=\"329.443359\"/>\n     <use xlink:href=\"#DejaVuSans-20\" x=\"381.542969\"/>\n     <use xlink:href=\"#DejaVuSans-70\" x=\"413.330078\"/>\n     <use xlink:href=\"#DejaVuSans-72\" x=\"476.806641\"/>\n     <use xlink:href=\"#DejaVuSans-69\" x=\"517.919922\"/>\n     <use xlink:href=\"#DejaVuSans-63\" x=\"545.703125\"/>\n     <use xlink:href=\"#DejaVuSans-65\" x=\"600.683594\"/>\n     <use xlink:href=\"#DejaVuSans-20\" x=\"662.207031\"/>\n     <use xlink:href=\"#DejaVuSans-72\" x=\"693.994141\"/>\n     <use xlink:href=\"#DejaVuSans-61\" x=\"735.107422\"/>\n     <use xlink:href=\"#DejaVuSans-6e\" x=\"796.386719\"/>\n     <use xlink:href=\"#DejaVuSans-67\" x=\"859.765625\"/>\n     <use xlink:href=\"#DejaVuSans-65\" x=\"923.242188\"/>\n    </g>\n   </g>\n  </g>\n </g>\n <defs>\n  <clipPath id=\"p58fec77d46\">\n   <rect x=\"60.30875\" y=\"22.318125\" width=\"502.2\" height=\"489.24\"/>\n  </clipPath>\n </defs>\n</svg>\n",
      "text/plain": [
       "<Figure size 648x648 with 1 Axes>"
      ]
     },
     "metadata": {},
     "output_type": "display_data"
    }
   ],
   "source": [
    "# Histogram of price\n",
    "sns.histplot(data=df_clean.groupby('listing_id').mean()['price_x'], bins=20, kde=True)\n",
    "plt.xlabel('Price in $')\n",
    "plt.ylabel('Number of listings')\n",
    "plt.title('Listings price range')\n",
    "plt.savefig('listings_price_range');"
   ]
  },
  {
   "cell_type": "code",
   "execution_count": 43,
   "metadata": {},
   "outputs": [
    {
     "name": "stdout",
     "output_type": "stream",
     "text": [
      "The prices of all listings range between 10.00 $ and 1650.00 $ a day with an average price of 137.82 $.\n"
     ]
    }
   ],
   "source": [
    "print('The prices of all listings range between %.2f $ and %.2f $ a day with an average price of %.2f $.' % (df_clean['price_x'].min(), df_clean['price_x'].max(), df_clean['price_x'].mean()))"
   ]
  },
  {
   "cell_type": "markdown",
   "metadata": {},
   "source": [
    "As you can see on the graph, most of the listings' prices are spread out in the $50-$200 range. There are also outliers up and down, but they are quite few."
   ]
  },
  {
   "cell_type": "markdown",
   "metadata": {},
   "source": [
    "#### 2. How does the listings price correlate with other numerical variables?"
   ]
  },
  {
   "cell_type": "code",
   "execution_count": 44,
   "metadata": {},
   "outputs": [],
   "source": [
    "# Select only numerical variables\n",
    "num_vars = df_clean.select_dtypes(exclude=['object', 'bool']).copy().columns"
   ]
  },
  {
   "cell_type": "code",
   "execution_count": 45,
   "metadata": {},
   "outputs": [
    {
     "data": {
      "image/png": "[encoded data removed]",
      "image/svg+xml": "<?xml version=\"1.0\" encoding=\"utf-8\" standalone=\"no\"?>\n<!DOCTYPE svg PUBLIC \"-//W3C//DTD SVG 1.1//EN\"\n  \"http://www.w3.org/Graphics/SVG/1.1/DTD/svg11.dtd\">\n<svg xmlns:xlink=\"http://www.w3.org/1999/xlink\" width=\"626.685281pt\" height=\"643.500312pt\" viewBox=\"0 0 626.685281 643.500312\" xmlns=\"http://www.w3.org/2000/svg\" version=\"1.1\">\n <metadata>\n  <rdf:RDF xmlns:dc=\"http://purl.org/dc/elements/1.1/\" xmlns:cc=\"http://creativecommons.org/ns#\" xmlns:rdf=\"http://www.w3.org/1999/02/22-rdf-syntax-ns#\">\n   <cc:Work>\n    <dc:type rdf:resource=\"http://purl.org/dc/dcmitype/StillImage\"/>\n    <dc:date>2021-11-21T11:13:15.442979</dc:date>\n    <dc:format>image/svg+xml</dc:format>\n    <dc:creator>\n     <cc:Agent>\n      <dc:title>Matplotlib v3.5.0rc1, https://matplotlib.org/</dc:title>\n     </cc:Agent>\n    </dc:creator>\n   </cc:Work>\n  </rdf:RDF>\n </metadata>\n <defs>\n  <style type=\"text/css\">*{stroke-linejoin: round; stroke-linecap: butt}</style>\n </defs>\n <g id=\"figure_1\">\n  <g id=\"patch_1\">\n   <path d=\"M 0 643.500312 \nL 626.685281 643.500312 \nL 626.685281 0 \nL 0 0 \nz\n\" style=\"fill: #ffffff\"/>\n  </g>\n  <g id=\"axes_1\">\n   <g id=\"patch_2\">\n    <path d=\"M 131.942187 511.558125 \nL 533.702188 511.558125 \nL 533.702188 22.318125 \nL 131.942187 22.318125 \nz\n\" style=\"fill: #eaeaf2\"/>\n   </g>\n   <g id=\"matplotlib.axis_1\">\n    <g id=\"xtick_1\">\n     <g id=\"text_1\">\n      <!-- listing_id -->\n      <g style=\"fill: #262626\" transform=\"translate(151.564531 569.762344)rotate(-90)scale(0.11 -0.11)\">\n       <defs>\n        <path id=\"DejaVuSans-6c\" d=\"M 603 4863 \nL 1178 4863 \nL 1178 0 \nL 603 0 \nL 603 4863 \nz\n\" transform=\"scale(0.015625)\"/>\n        <path id=\"DejaVuSans-69\" d=\"M 603 3500 \nL 1178 3500 \nL 1178 0 \nL 603 0 \nL 603 3500 \nz\nM 603 4863 \nL 1178 4863 \nL 1178 4134 \nL 603 4134 \nL 603 4863 \nz\n\" transform=\"scale(0.015625)\"/>\n        <path id=\"DejaVuSans-73\" d=\"M 2834 3397 \nL 2834 2853 \nQ 2591 2978 2328 3040 \nQ 2066 3103 1784 3103 \nQ 1356 3103 1142 2972 \nQ 928 2841 928 2578 \nQ 928 2378 1081 2264 \nQ 1234 2150 1697 2047 \nL 1894 2003 \nQ 2506 1872 2764 1633 \nQ 3022 1394 3022 966 \nQ 3022 478 2636 193 \nQ 2250 -91 1575 -91 \nQ 1294 -91 989 -36 \nQ 684 19 347 128 \nL 347 722 \nQ 666 556 975 473 \nQ 1284 391 1588 391 \nQ 1994 391 2212 530 \nQ 2431 669 2431 922 \nQ 2431 1156 2273 1281 \nQ 2116 1406 1581 1522 \nL 1381 1569 \nQ 847 1681 609 1914 \nQ 372 2147 372 2553 \nQ 372 3047 722 3315 \nQ 1072 3584 1716 3584 \nQ 2034 3584 2315 3537 \nQ 2597 3491 2834 3397 \nz\n\" transform=\"scale(0.015625)\"/>\n        <path id=\"DejaVuSans-74\" d=\"M 1172 4494 \nL 1172 3500 \nL 2356 3500 \nL 2356 3053 \nL 1172 3053 \nL 1172 1153 \nQ 1172 725 1289 603 \nQ 1406 481 1766 481 \nL 2356 481 \nL 2356 0 \nL 1766 0 \nQ 1100 0 847 248 \nQ 594 497 594 1153 \nL 594 3053 \nL 172 3053 \nL 172 3500 \nL 594 3500 \nL 594 4494 \nL 1172 4494 \nz\n\" transform=\"scale(0.015625)\"/>\n        <path id=\"DejaVuSans-6e\" d=\"M 3513 2113 \nL 3513 0 \nL 2938 0 \nL 2938 2094 \nQ 2938 2591 2744 2837 \nQ 2550 3084 2163 3084 \nQ 1697 3084 1428 2787 \nQ 1159 2491 1159 1978 \nL 1159 0 \nL 581 0 \nL 581 3500 \nL 1159 3500 \nL 1159 2956 \nQ 1366 3272 1645 3428 \nQ 1925 3584 2291 3584 \nQ 2894 3584 3203 3211 \nQ 3513 2838 3513 2113 \nz\n\" transform=\"scale(0.015625)\"/>\n        <path id=\"DejaVuSans-67\" d=\"M 2906 1791 \nQ 2906 2416 2648 2759 \nQ 2391 3103 1925 3103 \nQ 1463 3103 1205 2759 \nQ 947 2416 947 1791 \nQ 947 1169 1205 825 \nQ 1463 481 1925 481 \nQ 2391 481 2648 825 \nQ 2906 1169 2906 1791 \nz\nM 3481 434 \nQ 3481 -459 3084 -895 \nQ 2688 -1331 1869 -1331 \nQ 1566 -1331 1297 -1286 \nQ 1028 -1241 775 -1147 \nL 775 -588 \nQ 1028 -725 1275 -790 \nQ 1522 -856 1778 -856 \nQ 2344 -856 2625 -561 \nQ 2906 -266 2906 331 \nL 2906 616 \nQ 2728 306 2450 153 \nQ 2172 0 1784 0 \nQ 1141 0 747 490 \nQ 353 981 353 1791 \nQ 353 2603 747 3093 \nQ 1141 3584 1784 3584 \nQ 2172 3584 2450 3431 \nQ 2728 3278 2906 2969 \nL 2906 3500 \nL 3481 3500 \nL 3481 434 \nz\n\" transform=\"scale(0.015625)\"/>\n        <path id=\"DejaVuSans-5f\" d=\"M 3263 -1063 \nL 3263 -1509 \nL -63 -1509 \nL -63 -1063 \nL 3263 -1063 \nz\n\" transform=\"scale(0.015625)\"/>\n        <path id=\"DejaVuSans-64\" d=\"M 2906 2969 \nL 2906 4863 \nL 3481 4863 \nL 3481 0 \nL 2906 0 \nL 2906 525 \nQ 2725 213 2448 61 \nQ 2172 -91 1784 -91 \nQ 1150 -91 751 415 \nQ 353 922 353 1747 \nQ 353 2572 751 3078 \nQ 1150 3584 1784 3584 \nQ 2172 3584 2448 3432 \nQ 2725 3281 2906 2969 \nz\nM 947 1747 \nQ 947 1113 1208 752 \nQ 1469 391 1925 391 \nQ 2381 391 2643 752 \nQ 2906 1113 2906 1747 \nQ 2906 2381 2643 2742 \nQ 2381 3103 1925 3103 \nQ 1469 3103 1208 2742 \nQ 947 2381 947 1747 \nz\n\" transform=\"scale(0.015625)\"/>\n       </defs>\n       <use xlink:href=\"#DejaVuSans-6c\"/>\n       <use xlink:href=\"#DejaVuSans-69\" x=\"27.783203\"/>\n       <use xlink:href=\"#DejaVuSans-73\" x=\"55.566406\"/>\n       <use xlink:href=\"#DejaVuSans-74\" x=\"107.666016\"/>\n       <use xlink:href=\"#DejaVuSans-69\" x=\"146.875\"/>\n       <use xlink:href=\"#DejaVuSans-6e\" x=\"174.658203\"/>\n       <use xlink:href=\"#DejaVuSans-67\" x=\"238.037109\"/>\n       <use xlink:href=\"#DejaVuSans-5f\" x=\"301.513672\"/>\n       <use xlink:href=\"#DejaVuSans-69\" x=\"351.513672\"/>\n       <use xlink:href=\"#DejaVuSans-64\" x=\"379.296875\"/>\n      </g>\n     </g>\n    </g>\n    <g id=\"xtick_2\">\n     <g id=\"text_2\">\n      <!-- price_x -->\n      <g style=\"fill: #262626\" transform=\"translate(185.044531 560.446719)rotate(-90)scale(0.11 -0.11)\">\n       <defs>\n        <path id=\"DejaVuSans-70\" d=\"M 1159 525 \nL 1159 -1331 \nL 581 -1331 \nL 581 3500 \nL 1159 3500 \nL 1159 2969 \nQ 1341 3281 1617 3432 \nQ 1894 3584 2278 3584 \nQ 2916 3584 3314 3078 \nQ 3713 2572 3713 1747 \nQ 3713 922 3314 415 \nQ 2916 -91 2278 -91 \nQ 1894 -91 1617 61 \nQ 1341 213 1159 525 \nz\nM 3116 1747 \nQ 3116 2381 2855 2742 \nQ 2594 3103 2138 3103 \nQ 1681 3103 1420 2742 \nQ 1159 2381 1159 1747 \nQ 1159 1113 1420 752 \nQ 1681 391 2138 391 \nQ 2594 391 2855 752 \nQ 3116 1113 3116 1747 \nz\n\" transform=\"scale(0.015625)\"/>\n        <path id=\"DejaVuSans-72\" d=\"M 2631 2963 \nQ 2534 3019 2420 3045 \nQ 2306 3072 2169 3072 \nQ 1681 3072 1420 2755 \nQ 1159 2438 1159 1844 \nL 1159 0 \nL 581 0 \nL 581 3500 \nL 1159 3500 \nL 1159 2956 \nQ 1341 3275 1631 3429 \nQ 1922 3584 2338 3584 \nQ 2397 3584 2469 3576 \nQ 2541 3569 2628 3553 \nL 2631 2963 \nz\n\" transform=\"scale(0.015625)\"/>\n        <path id=\"DejaVuSans-63\" d=\"M 3122 3366 \nL 3122 2828 \nQ 2878 2963 2633 3030 \nQ 2388 3097 2138 3097 \nQ 1578 3097 1268 2742 \nQ 959 2388 959 1747 \nQ 959 1106 1268 751 \nQ 1578 397 2138 397 \nQ 2388 397 2633 464 \nQ 2878 531 3122 666 \nL 3122 134 \nQ 2881 22 2623 -34 \nQ 2366 -91 2075 -91 \nQ 1284 -91 818 406 \nQ 353 903 353 1747 \nQ 353 2603 823 3093 \nQ 1294 3584 2113 3584 \nQ 2378 3584 2631 3529 \nQ 2884 3475 3122 3366 \nz\n\" transform=\"scale(0.015625)\"/>\n        <path id=\"DejaVuSans-65\" d=\"M 3597 1894 \nL 3597 1613 \nL 953 1613 \nQ 991 1019 1311 708 \nQ 1631 397 2203 397 \nQ 2534 397 2845 478 \nQ 3156 559 3463 722 \nL 3463 178 \nQ 3153 47 2828 -22 \nQ 2503 -91 2169 -91 \nQ 1331 -91 842 396 \nQ 353 884 353 1716 \nQ 353 2575 817 3079 \nQ 1281 3584 2069 3584 \nQ 2775 3584 3186 3129 \nQ 3597 2675 3597 1894 \nz\nM 3022 2063 \nQ 3016 2534 2758 2815 \nQ 2500 3097 2075 3097 \nQ 1594 3097 1305 2825 \nQ 1016 2553 972 2059 \nL 3022 2063 \nz\n\" transform=\"scale(0.015625)\"/>\n        <path id=\"DejaVuSans-78\" d=\"M 3513 3500 \nL 2247 1797 \nL 3578 0 \nL 2900 0 \nL 1881 1375 \nL 863 0 \nL 184 0 \nL 1544 1831 \nL 300 3500 \nL 978 3500 \nL 1906 2253 \nL 2834 3500 \nL 3513 3500 \nz\n\" transform=\"scale(0.015625)\"/>\n       </defs>\n       <use xlink:href=\"#DejaVuSans-70\"/>\n       <use xlink:href=\"#DejaVuSans-72\" x=\"63.476562\"/>\n       <use xlink:href=\"#DejaVuSans-69\" x=\"104.589844\"/>\n       <use xlink:href=\"#DejaVuSans-63\" x=\"132.373047\"/>\n       <use xlink:href=\"#DejaVuSans-65\" x=\"187.353516\"/>\n       <use xlink:href=\"#DejaVuSans-5f\" x=\"248.876953\"/>\n       <use xlink:href=\"#DejaVuSans-78\" x=\"298.876953\"/>\n      </g>\n     </g>\n    </g>\n    <g id=\"xtick_3\">\n     <g id=\"text_3\">\n      <!-- host_response_rate -->\n      <g style=\"fill: #262626\" transform=\"translate(218.524531 628.103594)rotate(-90)scale(0.11 -0.11)\">\n       <defs>\n        <path id=\"DejaVuSans-68\" d=\"M 3513 2113 \nL 3513 0 \nL 2938 0 \nL 2938 2094 \nQ 2938 2591 2744 2837 \nQ 2550 3084 2163 3084 \nQ 1697 3084 1428 2787 \nQ 1159 2491 1159 1978 \nL 1159 0 \nL 581 0 \nL 581 4863 \nL 1159 4863 \nL 1159 2956 \nQ 1366 3272 1645 3428 \nQ 1925 3584 2291 3584 \nQ 2894 3584 3203 3211 \nQ 3513 2838 3513 2113 \nz\n\" transform=\"scale(0.015625)\"/>\n        <path id=\"DejaVuSans-6f\" d=\"M 1959 3097 \nQ 1497 3097 1228 2736 \nQ 959 2375 959 1747 \nQ 959 1119 1226 758 \nQ 1494 397 1959 397 \nQ 2419 397 2687 759 \nQ 2956 1122 2956 1747 \nQ 2956 2369 2687 2733 \nQ 2419 3097 1959 3097 \nz\nM 1959 3584 \nQ 2709 3584 3137 3096 \nQ 3566 2609 3566 1747 \nQ 3566 888 3137 398 \nQ 2709 -91 1959 -91 \nQ 1206 -91 779 398 \nQ 353 888 353 1747 \nQ 353 2609 779 3096 \nQ 1206 3584 1959 3584 \nz\n\" transform=\"scale(0.015625)\"/>\n        <path id=\"DejaVuSans-61\" d=\"M 2194 1759 \nQ 1497 1759 1228 1600 \nQ 959 1441 959 1056 \nQ 959 750 1161 570 \nQ 1363 391 1709 391 \nQ 2188 391 2477 730 \nQ 2766 1069 2766 1631 \nL 2766 1759 \nL 2194 1759 \nz\nM 3341 1997 \nL 3341 0 \nL 2766 0 \nL 2766 531 \nQ 2569 213 2275 61 \nQ 1981 -91 1556 -91 \nQ 1019 -91 701 211 \nQ 384 513 384 1019 \nQ 384 1609 779 1909 \nQ 1175 2209 1959 2209 \nL 2766 2209 \nL 2766 2266 \nQ 2766 2663 2505 2880 \nQ 2244 3097 1772 3097 \nQ 1472 3097 1187 3025 \nQ 903 2953 641 2809 \nL 641 3341 \nQ 956 3463 1253 3523 \nQ 1550 3584 1831 3584 \nQ 2591 3584 2966 3190 \nQ 3341 2797 3341 1997 \nz\n\" transform=\"scale(0.015625)\"/>\n       </defs>\n       <use xlink:href=\"#DejaVuSans-68\"/>\n       <use xlink:href=\"#DejaVuSans-6f\" x=\"63.378906\"/>\n       <use xlink:href=\"#DejaVuSans-73\" x=\"124.560547\"/>\n       <use xlink:href=\"#DejaVuSans-74\" x=\"176.660156\"/>\n       <use xlink:href=\"#DejaVuSans-5f\" x=\"215.869141\"/>\n       <use xlink:href=\"#DejaVuSans-72\" x=\"265.869141\"/>\n       <use xlink:href=\"#DejaVuSans-65\" x=\"304.732422\"/>\n       <use xlink:href=\"#DejaVuSans-73\" x=\"366.255859\"/>\n       <use xlink:href=\"#DejaVuSans-70\" x=\"418.355469\"/>\n       <use xlink:href=\"#DejaVuSans-6f\" x=\"481.832031\"/>\n       <use xlink:href=\"#DejaVuSans-6e\" x=\"543.013672\"/>\n       <use xlink:href=\"#DejaVuSans-73\" x=\"606.392578\"/>\n       <use xlink:href=\"#DejaVuSans-65\" x=\"658.492188\"/>\n       <use xlink:href=\"#DejaVuSans-5f\" x=\"720.015625\"/>\n       <use xlink:href=\"#DejaVuSans-72\" x=\"770.015625\"/>\n       <use xlink:href=\"#DejaVuSans-61\" x=\"811.128906\"/>\n       <use xlink:href=\"#DejaVuSans-74\" x=\"872.408203\"/>\n       <use xlink:href=\"#DejaVuSans-65\" x=\"911.617188\"/>\n      </g>\n     </g>\n    </g>\n    <g id=\"xtick_4\">\n     <g id=\"text_4\">\n      <!-- host_response_time -->\n      <g style=\"fill: #262626\" transform=\"translate(252.004531 630.61125)rotate(-90)scale(0.11 -0.11)\">\n       <defs>\n        <path id=\"DejaVuSans-6d\" d=\"M 3328 2828 \nQ 3544 3216 3844 3400 \nQ 4144 3584 4550 3584 \nQ 5097 3584 5394 3201 \nQ 5691 2819 5691 2113 \nL 5691 0 \nL 5113 0 \nL 5113 2094 \nQ 5113 2597 4934 2840 \nQ 4756 3084 4391 3084 \nQ 3944 3084 3684 2787 \nQ 3425 2491 3425 1978 \nL 3425 0 \nL 2847 0 \nL 2847 2094 \nQ 2847 2600 2669 2842 \nQ 2491 3084 2119 3084 \nQ 1678 3084 1418 2786 \nQ 1159 2488 1159 1978 \nL 1159 0 \nL 581 0 \nL 581 3500 \nL 1159 3500 \nL 1159 2956 \nQ 1356 3278 1631 3431 \nQ 1906 3584 2284 3584 \nQ 2666 3584 2933 3390 \nQ 3200 3197 3328 2828 \nz\n\" transform=\"scale(0.015625)\"/>\n       </defs>\n       <use xlink:href=\"#DejaVuSans-68\"/>\n       <use xlink:href=\"#DejaVuSans-6f\" x=\"63.378906\"/>\n       <use xlink:href=\"#DejaVuSans-73\" x=\"124.560547\"/>\n       <use xlink:href=\"#DejaVuSans-74\" x=\"176.660156\"/>\n       <use xlink:href=\"#DejaVuSans-5f\" x=\"215.869141\"/>\n       <use xlink:href=\"#DejaVuSans-72\" x=\"265.869141\"/>\n       <use xlink:href=\"#DejaVuSans-65\" x=\"304.732422\"/>\n       <use xlink:href=\"#DejaVuSans-73\" x=\"366.255859\"/>\n       <use xlink:href=\"#DejaVuSans-70\" x=\"418.355469\"/>\n       <use xlink:href=\"#DejaVuSans-6f\" x=\"481.832031\"/>\n       <use xlink:href=\"#DejaVuSans-6e\" x=\"543.013672\"/>\n       <use xlink:href=\"#DejaVuSans-73\" x=\"606.392578\"/>\n       <use xlink:href=\"#DejaVuSans-65\" x=\"658.492188\"/>\n       <use xlink:href=\"#DejaVuSans-5f\" x=\"720.015625\"/>\n       <use xlink:href=\"#DejaVuSans-74\" x=\"770.015625\"/>\n       <use xlink:href=\"#DejaVuSans-69\" x=\"809.224609\"/>\n       <use xlink:href=\"#DejaVuSans-6d\" x=\"837.007812\"/>\n       <use xlink:href=\"#DejaVuSans-65\" x=\"934.419922\"/>\n      </g>\n     </g>\n    </g>\n    <g id=\"xtick_5\">\n     <g id=\"text_5\">\n      <!-- host_listings_count -->\n      <g style=\"fill: #262626\" transform=\"translate(285.484531 625.731719)rotate(-90)scale(0.11 -0.11)\">\n       <defs>\n        <path id=\"DejaVuSans-75\" d=\"M 544 1381 \nL 544 3500 \nL 1119 3500 \nL 1119 1403 \nQ 1119 906 1312 657 \nQ 1506 409 1894 409 \nQ 2359 409 2629 706 \nQ 2900 1003 2900 1516 \nL 2900 3500 \nL 3475 3500 \nL 3475 0 \nL 2900 0 \nL 2900 538 \nQ 2691 219 2414 64 \nQ 2138 -91 1772 -91 \nQ 1169 -91 856 284 \nQ 544 659 544 1381 \nz\nM 1991 3584 \nL 1991 3584 \nz\n\" transform=\"scale(0.015625)\"/>\n       </defs>\n       <use xlink:href=\"#DejaVuSans-68\"/>\n       <use xlink:href=\"#DejaVuSans-6f\" x=\"63.378906\"/>\n       <use xlink:href=\"#DejaVuSans-73\" x=\"124.560547\"/>\n       <use xlink:href=\"#DejaVuSans-74\" x=\"176.660156\"/>\n       <use xlink:href=\"#DejaVuSans-5f\" x=\"215.869141\"/>\n       <use xlink:href=\"#DejaVuSans-6c\" x=\"265.869141\"/>\n       <use xlink:href=\"#DejaVuSans-69\" x=\"293.652344\"/>\n       <use xlink:href=\"#DejaVuSans-73\" x=\"321.435547\"/>\n       <use xlink:href=\"#DejaVuSans-74\" x=\"373.535156\"/>\n       <use xlink:href=\"#DejaVuSans-69\" x=\"412.744141\"/>\n       <use xlink:href=\"#DejaVuSans-6e\" x=\"440.527344\"/>\n       <use xlink:href=\"#DejaVuSans-67\" x=\"503.90625\"/>\n       <use xlink:href=\"#DejaVuSans-73\" x=\"567.382812\"/>\n       <use xlink:href=\"#DejaVuSans-5f\" x=\"619.482422\"/>\n       <use xlink:href=\"#DejaVuSans-63\" x=\"669.482422\"/>\n       <use xlink:href=\"#DejaVuSans-6f\" x=\"724.462891\"/>\n       <use xlink:href=\"#DejaVuSans-75\" x=\"785.644531\"/>\n       <use xlink:href=\"#DejaVuSans-6e\" x=\"849.023438\"/>\n       <use xlink:href=\"#DejaVuSans-74\" x=\"912.402344\"/>\n      </g>\n     </g>\n    </g>\n    <g id=\"xtick_6\">\n     <g id=\"text_6\">\n      <!-- accommodates -->\n      <g style=\"fill: #262626\" transform=\"translate(319.1175 605.321562)rotate(-90)scale(0.11 -0.11)\">\n       <use xlink:href=\"#DejaVuSans-61\"/>\n       <use xlink:href=\"#DejaVuSans-63\" x=\"61.279297\"/>\n       <use xlink:href=\"#DejaVuSans-63\" x=\"116.259766\"/>\n       <use xlink:href=\"#DejaVuSans-6f\" x=\"171.240234\"/>\n       <use xlink:href=\"#DejaVuSans-6d\" x=\"232.421875\"/>\n       <use xlink:href=\"#DejaVuSans-6d\" x=\"329.833984\"/>\n       <use xlink:href=\"#DejaVuSans-6f\" x=\"427.246094\"/>\n       <use xlink:href=\"#DejaVuSans-64\" x=\"488.427734\"/>\n       <use xlink:href=\"#DejaVuSans-61\" x=\"551.904297\"/>\n       <use xlink:href=\"#DejaVuSans-74\" x=\"613.183594\"/>\n       <use xlink:href=\"#DejaVuSans-65\" x=\"652.392578\"/>\n       <use xlink:href=\"#DejaVuSans-73\" x=\"713.916016\"/>\n      </g>\n     </g>\n    </g>\n    <g id=\"xtick_7\">\n     <g id=\"text_7\">\n      <!-- bathrooms -->\n      <g style=\"fill: #262626\" transform=\"translate(352.5975 580.246719)rotate(-90)scale(0.11 -0.11)\">\n       <defs>\n        <path id=\"DejaVuSans-62\" d=\"M 3116 1747 \nQ 3116 2381 2855 2742 \nQ 2594 3103 2138 3103 \nQ 1681 3103 1420 2742 \nQ 1159 2381 1159 1747 \nQ 1159 1113 1420 752 \nQ 1681 391 2138 391 \nQ 2594 391 2855 752 \nQ 3116 1113 3116 1747 \nz\nM 1159 2969 \nQ 1341 3281 1617 3432 \nQ 1894 3584 2278 3584 \nQ 2916 3584 3314 3078 \nQ 3713 2572 3713 1747 \nQ 3713 922 3314 415 \nQ 2916 -91 2278 -91 \nQ 1894 -91 1617 61 \nQ 1341 213 1159 525 \nL 1159 0 \nL 581 0 \nL 581 4863 \nL 1159 4863 \nL 1159 2969 \nz\n\" transform=\"scale(0.015625)\"/>\n       </defs>\n       <use xlink:href=\"#DejaVuSans-62\"/>\n       <use xlink:href=\"#DejaVuSans-61\" x=\"63.476562\"/>\n       <use xlink:href=\"#DejaVuSans-74\" x=\"124.755859\"/>\n       <use xlink:href=\"#DejaVuSans-68\" x=\"163.964844\"/>\n       <use xlink:href=\"#DejaVuSans-72\" x=\"227.34375\"/>\n       <use xlink:href=\"#DejaVuSans-6f\" x=\"266.207031\"/>\n       <use xlink:href=\"#DejaVuSans-6f\" x=\"327.388672\"/>\n       <use xlink:href=\"#DejaVuSans-6d\" x=\"388.570312\"/>\n       <use xlink:href=\"#DejaVuSans-73\" x=\"485.982422\"/>\n      </g>\n     </g>\n    </g>\n    <g id=\"xtick_8\">\n     <g id=\"text_8\">\n      <!-- bedrooms -->\n      <g style=\"fill: #262626\" transform=\"translate(386.0775 575.973906)rotate(-90)scale(0.11 -0.11)\">\n       <use xlink:href=\"#DejaVuSans-62\"/>\n       <use xlink:href=\"#DejaVuSans-65\" x=\"63.476562\"/>\n       <use xlink:href=\"#DejaVuSans-64\" x=\"125\"/>\n       <use xlink:href=\"#DejaVuSans-72\" x=\"188.476562\"/>\n       <use xlink:href=\"#DejaVuSans-6f\" x=\"227.339844\"/>\n       <use xlink:href=\"#DejaVuSans-6f\" x=\"288.521484\"/>\n       <use xlink:href=\"#DejaVuSans-6d\" x=\"349.703125\"/>\n       <use xlink:href=\"#DejaVuSans-73\" x=\"447.115234\"/>\n      </g>\n     </g>\n    </g>\n    <g id=\"xtick_9\">\n     <g id=\"text_9\">\n      <!-- beds -->\n      <g style=\"fill: #262626\" transform=\"translate(419.5575 547.523437)rotate(-90)scale(0.11 -0.11)\">\n       <use xlink:href=\"#DejaVuSans-62\"/>\n       <use xlink:href=\"#DejaVuSans-65\" x=\"63.476562\"/>\n       <use xlink:href=\"#DejaVuSans-64\" x=\"125\"/>\n       <use xlink:href=\"#DejaVuSans-73\" x=\"188.476562\"/>\n      </g>\n     </g>\n    </g>\n    <g id=\"xtick_10\">\n     <g id=\"text_10\">\n      <!-- number_of_reviews -->\n      <g style=\"fill: #262626\" transform=\"translate(452.884531 627.69625)rotate(-90)scale(0.11 -0.11)\">\n       <defs>\n        <path id=\"DejaVuSans-66\" d=\"M 2375 4863 \nL 2375 4384 \nL 1825 4384 \nQ 1516 4384 1395 4259 \nQ 1275 4134 1275 3809 \nL 1275 3500 \nL 2222 3500 \nL 2222 3053 \nL 1275 3053 \nL 1275 0 \nL 697 0 \nL 697 3053 \nL 147 3053 \nL 147 3500 \nL 697 3500 \nL 697 3744 \nQ 697 4328 969 4595 \nQ 1241 4863 1831 4863 \nL 2375 4863 \nz\n\" transform=\"scale(0.015625)\"/>\n        <path id=\"DejaVuSans-76\" d=\"M 191 3500 \nL 800 3500 \nL 1894 563 \nL 2988 3500 \nL 3597 3500 \nL 2284 0 \nL 1503 0 \nL 191 3500 \nz\n\" transform=\"scale(0.015625)\"/>\n        <path id=\"DejaVuSans-77\" d=\"M 269 3500 \nL 844 3500 \nL 1563 769 \nL 2278 3500 \nL 2956 3500 \nL 3675 769 \nL 4391 3500 \nL 4966 3500 \nL 4050 0 \nL 3372 0 \nL 2619 2869 \nL 1863 0 \nL 1184 0 \nL 269 3500 \nz\n\" transform=\"scale(0.015625)\"/>\n       </defs>\n       <use xlink:href=\"#DejaVuSans-6e\"/>\n       <use xlink:href=\"#DejaVuSans-75\" x=\"63.378906\"/>\n       <use xlink:href=\"#DejaVuSans-6d\" x=\"126.757812\"/>\n       <use xlink:href=\"#DejaVuSans-62\" x=\"224.169922\"/>\n       <use xlink:href=\"#DejaVuSans-65\" x=\"287.646484\"/>\n       <use xlink:href=\"#DejaVuSans-72\" x=\"349.169922\"/>\n       <use xlink:href=\"#DejaVuSans-5f\" x=\"390.283203\"/>\n       <use xlink:href=\"#DejaVuSans-6f\" x=\"440.283203\"/>\n       <use xlink:href=\"#DejaVuSans-66\" x=\"501.464844\"/>\n       <use xlink:href=\"#DejaVuSans-5f\" x=\"536.669922\"/>\n       <use xlink:href=\"#DejaVuSans-72\" x=\"586.669922\"/>\n       <use xlink:href=\"#DejaVuSans-65\" x=\"625.533203\"/>\n       <use xlink:href=\"#DejaVuSans-76\" x=\"687.056641\"/>\n       <use xlink:href=\"#DejaVuSans-69\" x=\"746.236328\"/>\n       <use xlink:href=\"#DejaVuSans-65\" x=\"774.019531\"/>\n       <use xlink:href=\"#DejaVuSans-77\" x=\"835.542969\"/>\n       <use xlink:href=\"#DejaVuSans-73\" x=\"917.330078\"/>\n      </g>\n     </g>\n    </g>\n    <g id=\"xtick_11\">\n     <g id=\"text_11\">\n      <!-- review_scores_rating -->\n      <g style=\"fill: #262626\" transform=\"translate(486.364531 636.300312)rotate(-90)scale(0.11 -0.11)\">\n       <use xlink:href=\"#DejaVuSans-72\"/>\n       <use xlink:href=\"#DejaVuSans-65\" x=\"38.863281\"/>\n       <use xlink:href=\"#DejaVuSans-76\" x=\"100.386719\"/>\n       <use xlink:href=\"#DejaVuSans-69\" x=\"159.566406\"/>\n       <use xlink:href=\"#DejaVuSans-65\" x=\"187.349609\"/>\n       <use xlink:href=\"#DejaVuSans-77\" x=\"248.873047\"/>\n       <use xlink:href=\"#DejaVuSans-5f\" x=\"330.660156\"/>\n       <use xlink:href=\"#DejaVuSans-73\" x=\"380.660156\"/>\n       <use xlink:href=\"#DejaVuSans-63\" x=\"432.759766\"/>\n       <use xlink:href=\"#DejaVuSans-6f\" x=\"487.740234\"/>\n       <use xlink:href=\"#DejaVuSans-72\" x=\"548.921875\"/>\n       <use xlink:href=\"#DejaVuSans-65\" x=\"587.785156\"/>\n       <use xlink:href=\"#DejaVuSans-73\" x=\"649.308594\"/>\n       <use xlink:href=\"#DejaVuSans-5f\" x=\"701.408203\"/>\n       <use xlink:href=\"#DejaVuSans-72\" x=\"751.408203\"/>\n       <use xlink:href=\"#DejaVuSans-61\" x=\"792.521484\"/>\n       <use xlink:href=\"#DejaVuSans-74\" x=\"853.800781\"/>\n       <use xlink:href=\"#DejaVuSans-69\" x=\"893.009766\"/>\n       <use xlink:href=\"#DejaVuSans-6e\" x=\"920.792969\"/>\n       <use xlink:href=\"#DejaVuSans-67\" x=\"984.171875\"/>\n      </g>\n     </g>\n    </g>\n    <g id=\"xtick_12\">\n     <g id=\"text_12\">\n      <!-- reviews_per_month -->\n      <g style=\"fill: #262626\" transform=\"translate(519.844531 628.13625)rotate(-90)scale(0.11 -0.11)\">\n       <use xlink:href=\"#DejaVuSans-72\"/>\n       <use xlink:href=\"#DejaVuSans-65\" x=\"38.863281\"/>\n       <use xlink:href=\"#DejaVuSans-76\" x=\"100.386719\"/>\n       <use xlink:href=\"#DejaVuSans-69\" x=\"159.566406\"/>\n       <use xlink:href=\"#DejaVuSans-65\" x=\"187.349609\"/>\n       <use xlink:href=\"#DejaVuSans-77\" x=\"248.873047\"/>\n       <use xlink:href=\"#DejaVuSans-73\" x=\"330.660156\"/>\n       <use xlink:href=\"#DejaVuSans-5f\" x=\"382.759766\"/>\n       <use xlink:href=\"#DejaVuSans-70\" x=\"432.759766\"/>\n       <use xlink:href=\"#DejaVuSans-65\" x=\"496.236328\"/>\n       <use xlink:href=\"#DejaVuSans-72\" x=\"557.759766\"/>\n       <use xlink:href=\"#DejaVuSans-5f\" x=\"598.873047\"/>\n       <use xlink:href=\"#DejaVuSans-6d\" x=\"648.873047\"/>\n       <use xlink:href=\"#DejaVuSans-6f\" x=\"746.285156\"/>\n       <use xlink:href=\"#DejaVuSans-6e\" x=\"807.466797\"/>\n       <use xlink:href=\"#DejaVuSans-74\" x=\"870.845703\"/>\n       <use xlink:href=\"#DejaVuSans-68\" x=\"910.054688\"/>\n      </g>\n     </g>\n    </g>\n   </g>\n   <g id=\"matplotlib.axis_2\">\n    <g id=\"ytick_1\">\n     <g id=\"text_13\">\n      <!-- listing_id -->\n      <g style=\"fill: #262626\" transform=\"translate(73.737969 46.882266)scale(0.11 -0.11)\">\n       <use xlink:href=\"#DejaVuSans-6c\"/>\n       <use xlink:href=\"#DejaVuSans-69\" x=\"27.783203\"/>\n       <use xlink:href=\"#DejaVuSans-73\" x=\"55.566406\"/>\n       <use xlink:href=\"#DejaVuSans-74\" x=\"107.666016\"/>\n       <use xlink:href=\"#DejaVuSans-69\" x=\"146.875\"/>\n       <use xlink:href=\"#DejaVuSans-6e\" x=\"174.658203\"/>\n       <use xlink:href=\"#DejaVuSans-67\" x=\"238.037109\"/>\n       <use xlink:href=\"#DejaVuSans-5f\" x=\"301.513672\"/>\n       <use xlink:href=\"#DejaVuSans-69\" x=\"351.513672\"/>\n       <use xlink:href=\"#DejaVuSans-64\" x=\"379.296875\"/>\n      </g>\n     </g>\n    </g>\n    <g id=\"ytick_2\">\n     <g id=\"text_14\">\n      <!-- price_x -->\n      <g style=\"fill: #262626\" transform=\"translate(83.053594 87.652266)scale(0.11 -0.11)\">\n       <use xlink:href=\"#DejaVuSans-70\"/>\n       <use xlink:href=\"#DejaVuSans-72\" x=\"63.476562\"/>\n       <use xlink:href=\"#DejaVuSans-69\" x=\"104.589844\"/>\n       <use xlink:href=\"#DejaVuSans-63\" x=\"132.373047\"/>\n       <use xlink:href=\"#DejaVuSans-65\" x=\"187.353516\"/>\n       <use xlink:href=\"#DejaVuSans-5f\" x=\"248.876953\"/>\n       <use xlink:href=\"#DejaVuSans-78\" x=\"298.876953\"/>\n      </g>\n     </g>\n    </g>\n    <g id=\"ytick_3\">\n     <g id=\"text_15\">\n      <!-- host_response_rate -->\n      <g style=\"fill: #262626\" transform=\"translate(15.396719 128.422266)scale(0.11 -0.11)\">\n       <use xlink:href=\"#DejaVuSans-68\"/>\n       <use xlink:href=\"#DejaVuSans-6f\" x=\"63.378906\"/>\n       <use xlink:href=\"#DejaVuSans-73\" x=\"124.560547\"/>\n       <use xlink:href=\"#DejaVuSans-74\" x=\"176.660156\"/>\n       <use xlink:href=\"#DejaVuSans-5f\" x=\"215.869141\"/>\n       <use xlink:href=\"#DejaVuSans-72\" x=\"265.869141\"/>\n       <use xlink:href=\"#DejaVuSans-65\" x=\"304.732422\"/>\n       <use xlink:href=\"#DejaVuSans-73\" x=\"366.255859\"/>\n       <use xlink:href=\"#DejaVuSans-70\" x=\"418.355469\"/>\n       <use xlink:href=\"#DejaVuSans-6f\" x=\"481.832031\"/>\n       <use xlink:href=\"#DejaVuSans-6e\" x=\"543.013672\"/>\n       <use xlink:href=\"#DejaVuSans-73\" x=\"606.392578\"/>\n       <use xlink:href=\"#DejaVuSans-65\" x=\"658.492188\"/>\n       <use xlink:href=\"#DejaVuSans-5f\" x=\"720.015625\"/>\n       <use xlink:href=\"#DejaVuSans-72\" x=\"770.015625\"/>\n       <use xlink:href=\"#DejaVuSans-61\" x=\"811.128906\"/>\n       <use xlink:href=\"#DejaVuSans-74\" x=\"872.408203\"/>\n       <use xlink:href=\"#DejaVuSans-65\" x=\"911.617188\"/>\n      </g>\n     </g>\n    </g>\n    <g id=\"ytick_4\">\n     <g id=\"text_16\">\n      <!-- host_response_time -->\n      <g style=\"fill: #262626\" transform=\"translate(12.889062 169.192266)scale(0.11 -0.11)\">\n       <use xlink:href=\"#DejaVuSans-68\"/>\n       <use xlink:href=\"#DejaVuSans-6f\" x=\"63.378906\"/>\n       <use xlink:href=\"#DejaVuSans-73\" x=\"124.560547\"/>\n       <use xlink:href=\"#DejaVuSans-74\" x=\"176.660156\"/>\n       <use xlink:href=\"#DejaVuSans-5f\" x=\"215.869141\"/>\n       <use xlink:href=\"#DejaVuSans-72\" x=\"265.869141\"/>\n       <use xlink:href=\"#DejaVuSans-65\" x=\"304.732422\"/>\n       <use xlink:href=\"#DejaVuSans-73\" x=\"366.255859\"/>\n       <use xlink:href=\"#DejaVuSans-70\" x=\"418.355469\"/>\n       <use xlink:href=\"#DejaVuSans-6f\" x=\"481.832031\"/>\n       <use xlink:href=\"#DejaVuSans-6e\" x=\"543.013672\"/>\n       <use xlink:href=\"#DejaVuSans-73\" x=\"606.392578\"/>\n       <use xlink:href=\"#DejaVuSans-65\" x=\"658.492188\"/>\n       <use xlink:href=\"#DejaVuSans-5f\" x=\"720.015625\"/>\n       <use xlink:href=\"#DejaVuSans-74\" x=\"770.015625\"/>\n       <use xlink:href=\"#DejaVuSans-69\" x=\"809.224609\"/>\n       <use xlink:href=\"#DejaVuSans-6d\" x=\"837.007812\"/>\n       <use xlink:href=\"#DejaVuSans-65\" x=\"934.419922\"/>\n      </g>\n     </g>\n    </g>\n    <g id=\"ytick_5\">\n     <g id=\"text_17\">\n      <!-- host_listings_count -->\n      <g style=\"fill: #262626\" transform=\"translate(17.768594 209.962266)scale(0.11 -0.11)\">\n       <use xlink:href=\"#DejaVuSans-68\"/>\n       <use xlink:href=\"#DejaVuSans-6f\" x=\"63.378906\"/>\n       <use xlink:href=\"#DejaVuSans-73\" x=\"124.560547\"/>\n       <use xlink:href=\"#DejaVuSans-74\" x=\"176.660156\"/>\n       <use xlink:href=\"#DejaVuSans-5f\" x=\"215.869141\"/>\n       <use xlink:href=\"#DejaVuSans-6c\" x=\"265.869141\"/>\n       <use xlink:href=\"#DejaVuSans-69\" x=\"293.652344\"/>\n       <use xlink:href=\"#DejaVuSans-73\" x=\"321.435547\"/>\n       <use xlink:href=\"#DejaVuSans-74\" x=\"373.535156\"/>\n       <use xlink:href=\"#DejaVuSans-69\" x=\"412.744141\"/>\n       <use xlink:href=\"#DejaVuSans-6e\" x=\"440.527344\"/>\n       <use xlink:href=\"#DejaVuSans-67\" x=\"503.90625\"/>\n       <use xlink:href=\"#DejaVuSans-73\" x=\"567.382812\"/>\n       <use xlink:href=\"#DejaVuSans-5f\" x=\"619.482422\"/>\n       <use xlink:href=\"#DejaVuSans-63\" x=\"669.482422\"/>\n       <use xlink:href=\"#DejaVuSans-6f\" x=\"724.462891\"/>\n       <use xlink:href=\"#DejaVuSans-75\" x=\"785.644531\"/>\n       <use xlink:href=\"#DejaVuSans-6e\" x=\"849.023438\"/>\n       <use xlink:href=\"#DejaVuSans-74\" x=\"912.402344\"/>\n      </g>\n     </g>\n    </g>\n    <g id=\"ytick_6\">\n     <g id=\"text_18\">\n      <!-- accommodates -->\n      <g style=\"fill: #262626\" transform=\"translate(38.17875 250.732266)scale(0.11 -0.11)\">\n       <use xlink:href=\"#DejaVuSans-61\"/>\n       <use xlink:href=\"#DejaVuSans-63\" x=\"61.279297\"/>\n       <use xlink:href=\"#DejaVuSans-63\" x=\"116.259766\"/>\n       <use xlink:href=\"#DejaVuSans-6f\" x=\"171.240234\"/>\n       <use xlink:href=\"#DejaVuSans-6d\" x=\"232.421875\"/>\n       <use xlink:href=\"#DejaVuSans-6d\" x=\"329.833984\"/>\n       <use xlink:href=\"#DejaVuSans-6f\" x=\"427.246094\"/>\n       <use xlink:href=\"#DejaVuSans-64\" x=\"488.427734\"/>\n       <use xlink:href=\"#DejaVuSans-61\" x=\"551.904297\"/>\n       <use xlink:href=\"#DejaVuSans-74\" x=\"613.183594\"/>\n       <use xlink:href=\"#DejaVuSans-65\" x=\"652.392578\"/>\n       <use xlink:href=\"#DejaVuSans-73\" x=\"713.916016\"/>\n      </g>\n     </g>\n    </g>\n    <g id=\"ytick_7\">\n     <g id=\"text_19\">\n      <!-- bathrooms -->\n      <g style=\"fill: #262626\" transform=\"translate(63.253594 291.502266)scale(0.11 -0.11)\">\n       <use xlink:href=\"#DejaVuSans-62\"/>\n       <use xlink:href=\"#DejaVuSans-61\" x=\"63.476562\"/>\n       <use xlink:href=\"#DejaVuSans-74\" x=\"124.755859\"/>\n       <use xlink:href=\"#DejaVuSans-68\" x=\"163.964844\"/>\n       <use xlink:href=\"#DejaVuSans-72\" x=\"227.34375\"/>\n       <use xlink:href=\"#DejaVuSans-6f\" x=\"266.207031\"/>\n       <use xlink:href=\"#DejaVuSans-6f\" x=\"327.388672\"/>\n       <use xlink:href=\"#DejaVuSans-6d\" x=\"388.570312\"/>\n       <use xlink:href=\"#DejaVuSans-73\" x=\"485.982422\"/>\n      </g>\n     </g>\n    </g>\n    <g id=\"ytick_8\">\n     <g id=\"text_20\">\n      <!-- bedrooms -->\n      <g style=\"fill: #262626\" transform=\"translate(67.526406 332.272266)scale(0.11 -0.11)\">\n       <use xlink:href=\"#DejaVuSans-62\"/>\n       <use xlink:href=\"#DejaVuSans-65\" x=\"63.476562\"/>\n       <use xlink:href=\"#DejaVuSans-64\" x=\"125\"/>\n       <use xlink:href=\"#DejaVuSans-72\" x=\"188.476562\"/>\n       <use xlink:href=\"#DejaVuSans-6f\" x=\"227.339844\"/>\n       <use xlink:href=\"#DejaVuSans-6f\" x=\"288.521484\"/>\n       <use xlink:href=\"#DejaVuSans-6d\" x=\"349.703125\"/>\n       <use xlink:href=\"#DejaVuSans-73\" x=\"447.115234\"/>\n      </g>\n     </g>\n    </g>\n    <g id=\"ytick_9\">\n     <g id=\"text_21\">\n      <!-- beds -->\n      <g style=\"fill: #262626\" transform=\"translate(95.976875 373.042266)scale(0.11 -0.11)\">\n       <use xlink:href=\"#DejaVuSans-62\"/>\n       <use xlink:href=\"#DejaVuSans-65\" x=\"63.476562\"/>\n       <use xlink:href=\"#DejaVuSans-64\" x=\"125\"/>\n       <use xlink:href=\"#DejaVuSans-73\" x=\"188.476562\"/>\n      </g>\n     </g>\n    </g>\n    <g id=\"ytick_10\">\n     <g id=\"text_22\">\n      <!-- number_of_reviews -->\n      <g style=\"fill: #262626\" transform=\"translate(15.804062 413.812266)scale(0.11 -0.11)\">\n       <use xlink:href=\"#DejaVuSans-6e\"/>\n       <use xlink:href=\"#DejaVuSans-75\" x=\"63.378906\"/>\n       <use xlink:href=\"#DejaVuSans-6d\" x=\"126.757812\"/>\n       <use xlink:href=\"#DejaVuSans-62\" x=\"224.169922\"/>\n       <use xlink:href=\"#DejaVuSans-65\" x=\"287.646484\"/>\n       <use xlink:href=\"#DejaVuSans-72\" x=\"349.169922\"/>\n       <use xlink:href=\"#DejaVuSans-5f\" x=\"390.283203\"/>\n       <use xlink:href=\"#DejaVuSans-6f\" x=\"440.283203\"/>\n       <use xlink:href=\"#DejaVuSans-66\" x=\"501.464844\"/>\n       <use xlink:href=\"#DejaVuSans-5f\" x=\"536.669922\"/>\n       <use xlink:href=\"#DejaVuSans-72\" x=\"586.669922\"/>\n       <use xlink:href=\"#DejaVuSans-65\" x=\"625.533203\"/>\n       <use xlink:href=\"#DejaVuSans-76\" x=\"687.056641\"/>\n       <use xlink:href=\"#DejaVuSans-69\" x=\"746.236328\"/>\n       <use xlink:href=\"#DejaVuSans-65\" x=\"774.019531\"/>\n       <use xlink:href=\"#DejaVuSans-77\" x=\"835.542969\"/>\n       <use xlink:href=\"#DejaVuSans-73\" x=\"917.330078\"/>\n      </g>\n     </g>\n    </g>\n    <g id=\"ytick_11\">\n     <g id=\"text_23\">\n      <!-- review_scores_rating -->\n      <g style=\"fill: #262626\" transform=\"translate(7.2 454.582266)scale(0.11 -0.11)\">\n       <use xlink:href=\"#DejaVuSans-72\"/>\n       <use xlink:href=\"#DejaVuSans-65\" x=\"38.863281\"/>\n       <use xlink:href=\"#DejaVuSans-76\" x=\"100.386719\"/>\n       <use xlink:href=\"#DejaVuSans-69\" x=\"159.566406\"/>\n       <use xlink:href=\"#DejaVuSans-65\" x=\"187.349609\"/>\n       <use xlink:href=\"#DejaVuSans-77\" x=\"248.873047\"/>\n       <use xlink:href=\"#DejaVuSans-5f\" x=\"330.660156\"/>\n       <use xlink:href=\"#DejaVuSans-73\" x=\"380.660156\"/>\n       <use xlink:href=\"#DejaVuSans-63\" x=\"432.759766\"/>\n       <use xlink:href=\"#DejaVuSans-6f\" x=\"487.740234\"/>\n       <use xlink:href=\"#DejaVuSans-72\" x=\"548.921875\"/>\n       <use xlink:href=\"#DejaVuSans-65\" x=\"587.785156\"/>\n       <use xlink:href=\"#DejaVuSans-73\" x=\"649.308594\"/>\n       <use xlink:href=\"#DejaVuSans-5f\" x=\"701.408203\"/>\n       <use xlink:href=\"#DejaVuSans-72\" x=\"751.408203\"/>\n       <use xlink:href=\"#DejaVuSans-61\" x=\"792.521484\"/>\n       <use xlink:href=\"#DejaVuSans-74\" x=\"853.800781\"/>\n       <use xlink:href=\"#DejaVuSans-69\" x=\"893.009766\"/>\n       <use xlink:href=\"#DejaVuSans-6e\" x=\"920.792969\"/>\n       <use xlink:href=\"#DejaVuSans-67\" x=\"984.171875\"/>\n      </g>\n     </g>\n    </g>\n    <g id=\"ytick_12\">\n     <g id=\"text_24\">\n      <!-- reviews_per_month -->\n      <g style=\"fill: #262626\" transform=\"translate(15.364062 495.352266)scale(0.11 -0.11)\">\n       <use xlink:href=\"#DejaVuSans-72\"/>\n       <use xlink:href=\"#DejaVuSans-65\" x=\"38.863281\"/>\n       <use xlink:href=\"#DejaVuSans-76\" x=\"100.386719\"/>\n       <use xlink:href=\"#DejaVuSans-69\" x=\"159.566406\"/>\n       <use xlink:href=\"#DejaVuSans-65\" x=\"187.349609\"/>\n       <use xlink:href=\"#DejaVuSans-77\" x=\"248.873047\"/>\n       <use xlink:href=\"#DejaVuSans-73\" x=\"330.660156\"/>\n       <use xlink:href=\"#DejaVuSans-5f\" x=\"382.759766\"/>\n       <use xlink:href=\"#DejaVuSans-70\" x=\"432.759766\"/>\n       <use xlink:href=\"#DejaVuSans-65\" x=\"496.236328\"/>\n       <use xlink:href=\"#DejaVuSans-72\" x=\"557.759766\"/>\n       <use xlink:href=\"#DejaVuSans-5f\" x=\"598.873047\"/>\n       <use xlink:href=\"#DejaVuSans-6d\" x=\"648.873047\"/>\n       <use xlink:href=\"#DejaVuSans-6f\" x=\"746.285156\"/>\n       <use xlink:href=\"#DejaVuSans-6e\" x=\"807.466797\"/>\n       <use xlink:href=\"#DejaVuSans-74\" x=\"870.845703\"/>\n       <use xlink:href=\"#DejaVuSans-68\" x=\"910.054688\"/>\n      </g>\n     </g>\n    </g>\n   </g>\n   <g id=\"QuadMesh_1\">\n    <path d=\"M 131.942187 22.318125 \nL 165.422188 22.318125 \nL 165.422188 63.088125 \nL 131.942187 63.088125 \nL 131.942187 22.318125 \n\" clip-path=\"url(#p377deadf4e)\" style=\"fill: #fde725\"/>\n    <path d=\"M 165.422188 22.318125 \nL 198.902187 22.318125 \nL 198.902187 63.088125 \nL 165.422188 63.088125 \nL 165.422188 22.318125 \n\" clip-path=\"url(#p377deadf4e)\" style=\"fill: #365c8d\"/>\n    <path d=\"M 198.902187 22.318125 \nL 232.382187 22.318125 \nL 232.382187 63.088125 \nL 198.902187 63.088125 \nL 198.902187 22.318125 \n\" clip-path=\"url(#p377deadf4e)\" style=\"fill: #31668e\"/>\n    <path d=\"M 232.382187 22.318125 \nL 265.862188 22.318125 \nL 265.862188 63.088125 \nL 232.382187 63.088125 \nL 232.382187 22.318125 \n\" clip-path=\"url(#p377deadf4e)\" style=\"fill: #355f8d\"/>\n    <path d=\"M 265.862188 22.318125 \nL 299.342188 22.318125 \nL 299.342188 63.088125 \nL 265.862188 63.088125 \nL 265.862188 22.318125 \n\" clip-path=\"url(#p377deadf4e)\" style=\"fill: #375a8c\"/>\n    <path d=\"M 299.342188 22.318125 \nL 332.822188 22.318125 \nL 332.822188 63.088125 \nL 299.342188 63.088125 \nL 299.342188 22.318125 \n\" clip-path=\"url(#p377deadf4e)\" style=\"fill: #375a8c\"/>\n    <path d=\"M 332.822188 22.318125 \nL 366.302188 22.318125 \nL 366.302188 63.088125 \nL 332.822188 63.088125 \nL 332.822188 22.318125 \n\" clip-path=\"url(#p377deadf4e)\" style=\"fill: #365d8d\"/>\n    <path d=\"M 366.302188 22.318125 \nL 399.782188 22.318125 \nL 399.782188 63.088125 \nL 366.302188 63.088125 \nL 366.302188 22.318125 \n\" clip-path=\"url(#p377deadf4e)\" style=\"fill: #375a8c\"/>\n    <path d=\"M 399.782188 22.318125 \nL 433.262188 22.318125 \nL 433.262188 63.088125 \nL 399.782188 63.088125 \nL 399.782188 22.318125 \n\" clip-path=\"url(#p377deadf4e)\" style=\"fill: #365d8d\"/>\n    <path d=\"M 433.262188 22.318125 \nL 466.742188 22.318125 \nL 466.742188 63.088125 \nL 433.262188 63.088125 \nL 433.262188 22.318125 \n\" clip-path=\"url(#p377deadf4e)\" style=\"fill: #440154\"/>\n    <path d=\"M 466.742188 22.318125 \nL 500.222188 22.318125 \nL 500.222188 63.088125 \nL 466.742188 63.088125 \nL 466.742188 22.318125 \n\" clip-path=\"url(#p377deadf4e)\" style=\"fill: #2d708e\"/>\n    <path d=\"M 500.222188 22.318125 \nL 533.702188 22.318125 \nL 533.702188 63.088125 \nL 500.222188 63.088125 \nL 500.222188 22.318125 \n\" clip-path=\"url(#p377deadf4e)\" style=\"fill: #2b748e\"/>\n    <path d=\"M 131.942187 63.088125 \nL 165.422188 63.088125 \nL 165.422188 103.858125 \nL 131.942187 103.858125 \nL 131.942187 63.088125 \n\" clip-path=\"url(#p377deadf4e)\" style=\"fill: #365c8d\"/>\n    <path d=\"M 165.422188 63.088125 \nL 198.902187 63.088125 \nL 198.902187 103.858125 \nL 165.422188 103.858125 \nL 165.422188 63.088125 \n\" clip-path=\"url(#p377deadf4e)\" style=\"fill: #fde725\"/>\n    <path d=\"M 198.902187 63.088125 \nL 232.382187 63.088125 \nL 232.382187 103.858125 \nL 198.902187 103.858125 \nL 198.902187 63.088125 \n\" clip-path=\"url(#p377deadf4e)\" style=\"fill: #33638d\"/>\n    <path d=\"M 232.382187 63.088125 \nL 265.862188 63.088125 \nL 265.862188 103.858125 \nL 232.382187 103.858125 \nL 232.382187 63.088125 \n\" clip-path=\"url(#p377deadf4e)\" style=\"fill: #2e6f8e\"/>\n    <path d=\"M 265.862188 63.088125 \nL 299.342188 63.088125 \nL 299.342188 103.858125 \nL 265.862188 103.858125 \nL 265.862188 63.088125 \n\" clip-path=\"url(#p377deadf4e)\" style=\"fill: #25838e\"/>\n    <path d=\"M 299.342188 63.088125 \nL 332.822188 63.088125 \nL 332.822188 103.858125 \nL 299.342188 103.858125 \nL 299.342188 63.088125 \n\" clip-path=\"url(#p377deadf4e)\" style=\"fill: #6ece58\"/>\n    <path d=\"M 332.822188 63.088125 \nL 366.302188 63.088125 \nL 366.302188 103.858125 \nL 332.822188 103.858125 \nL 332.822188 63.088125 \n\" clip-path=\"url(#p377deadf4e)\" style=\"fill: #3aba76\"/>\n    <path d=\"M 366.302188 63.088125 \nL 399.782188 63.088125 \nL 399.782188 103.858125 \nL 366.302188 103.858125 \nL 366.302188 63.088125 \n\" clip-path=\"url(#p377deadf4e)\" style=\"fill: #5ec962\"/>\n    <path d=\"M 399.782188 63.088125 \nL 433.262188 63.088125 \nL 433.262188 103.858125 \nL 399.782188 103.858125 \nL 399.782188 63.088125 \n\" clip-path=\"url(#p377deadf4e)\" style=\"fill: #54c568\"/>\n    <path d=\"M 433.262188 63.088125 \nL 466.742188 63.088125 \nL 466.742188 103.858125 \nL 433.262188 103.858125 \nL 433.262188 63.088125 \n\" clip-path=\"url(#p377deadf4e)\" style=\"fill: #3c4f8a\"/>\n    <path d=\"M 466.742188 63.088125 \nL 500.222188 63.088125 \nL 500.222188 103.858125 \nL 466.742188 103.858125 \nL 466.742188 63.088125 \n\" clip-path=\"url(#p377deadf4e)\" style=\"fill: #2c728e\"/>\n    <path d=\"M 500.222188 63.088125 \nL 533.702188 63.088125 \nL 533.702188 103.858125 \nL 500.222188 103.858125 \nL 500.222188 63.088125 \n\" clip-path=\"url(#p377deadf4e)\" style=\"fill: #424186\"/>\n    <path d=\"M 131.942187 103.858125 \nL 165.422188 103.858125 \nL 165.422188 144.628125 \nL 131.942187 144.628125 \nL 131.942187 103.858125 \n\" clip-path=\"url(#p377deadf4e)\" style=\"fill: #31668e\"/>\n    <path d=\"M 165.422188 103.858125 \nL 198.902187 103.858125 \nL 198.902187 144.628125 \nL 165.422188 144.628125 \nL 165.422188 103.858125 \n\" clip-path=\"url(#p377deadf4e)\" style=\"fill: #33638d\"/>\n    <path d=\"M 198.902187 103.858125 \nL 232.382187 103.858125 \nL 232.382187 144.628125 \nL 198.902187 144.628125 \nL 198.902187 103.858125 \n\" clip-path=\"url(#p377deadf4e)\" style=\"fill: #fde725\"/>\n    <path d=\"M 232.382187 103.858125 \nL 265.862188 103.858125 \nL 265.862188 144.628125 \nL 232.382187 144.628125 \nL 232.382187 103.858125 \n\" clip-path=\"url(#p377deadf4e)\" style=\"fill: #433e85\"/>\n    <path d=\"M 265.862188 103.858125 \nL 299.342188 103.858125 \nL 299.342188 144.628125 \nL 265.862188 144.628125 \nL 265.862188 103.858125 \n\" clip-path=\"url(#p377deadf4e)\" style=\"fill: #31678e\"/>\n    <path d=\"M 299.342188 103.858125 \nL 332.822188 103.858125 \nL 332.822188 144.628125 \nL 299.342188 144.628125 \nL 299.342188 103.858125 \n\" clip-path=\"url(#p377deadf4e)\" style=\"fill: #31668e\"/>\n    <path d=\"M 332.822188 103.858125 \nL 366.302188 103.858125 \nL 366.302188 144.628125 \nL 332.822188 144.628125 \nL 332.822188 103.858125 \n\" clip-path=\"url(#p377deadf4e)\" style=\"fill: #31688e\"/>\n    <path d=\"M 366.302188 103.858125 \nL 399.782188 103.858125 \nL 399.782188 144.628125 \nL 366.302188 144.628125 \nL 366.302188 103.858125 \n\" clip-path=\"url(#p377deadf4e)\" style=\"fill: #32648e\"/>\n    <path d=\"M 399.782188 103.858125 \nL 433.262188 103.858125 \nL 433.262188 144.628125 \nL 399.782188 144.628125 \nL 399.782188 103.858125 \n\" clip-path=\"url(#p377deadf4e)\" style=\"fill: #31678e\"/>\n    <path d=\"M 433.262188 103.858125 \nL 466.742188 103.858125 \nL 466.742188 144.628125 \nL 433.262188 144.628125 \nL 433.262188 103.858125 \n\" clip-path=\"url(#p377deadf4e)\" style=\"fill: #2a768e\"/>\n    <path d=\"M 466.742188 103.858125 \nL 500.222188 103.858125 \nL 500.222188 144.628125 \nL 466.742188 144.628125 \nL 466.742188 103.858125 \n\" clip-path=\"url(#p377deadf4e)\" style=\"fill: #27808e\"/>\n    <path d=\"M 500.222188 103.858125 \nL 533.702188 103.858125 \nL 533.702188 144.628125 \nL 500.222188 144.628125 \nL 500.222188 103.858125 \n\" clip-path=\"url(#p377deadf4e)\" style=\"fill: #26828e\"/>\n    <path d=\"M 131.942187 144.628125 \nL 165.422188 144.628125 \nL 165.422188 185.398125 \nL 131.942187 185.398125 \nL 131.942187 144.628125 \n\" clip-path=\"url(#p377deadf4e)\" style=\"fill: #355f8d\"/>\n    <path d=\"M 165.422188 144.628125 \nL 198.902187 144.628125 \nL 198.902187 185.398125 \nL 165.422188 185.398125 \nL 165.422188 144.628125 \n\" clip-path=\"url(#p377deadf4e)\" style=\"fill: #2e6f8e\"/>\n    <path d=\"M 198.902187 144.628125 \nL 232.382187 144.628125 \nL 232.382187 185.398125 \nL 198.902187 185.398125 \nL 198.902187 144.628125 \n\" clip-path=\"url(#p377deadf4e)\" style=\"fill: #433e85\"/>\n    <path d=\"M 232.382187 144.628125 \nL 265.862188 144.628125 \nL 265.862188 185.398125 \nL 232.382187 185.398125 \nL 232.382187 144.628125 \n\" clip-path=\"url(#p377deadf4e)\" style=\"fill: #fde725\"/>\n    <path d=\"M 265.862188 144.628125 \nL 299.342188 144.628125 \nL 299.342188 185.398125 \nL 265.862188 185.398125 \nL 265.862188 144.628125 \n\" clip-path=\"url(#p377deadf4e)\" style=\"fill: #3a538b\"/>\n    <path d=\"M 299.342188 144.628125 \nL 332.822188 144.628125 \nL 332.822188 185.398125 \nL 299.342188 185.398125 \nL 299.342188 144.628125 \n\" clip-path=\"url(#p377deadf4e)\" style=\"fill: #355f8d\"/>\n    <path d=\"M 332.822188 144.628125 \nL 366.302188 144.628125 \nL 366.302188 185.398125 \nL 332.822188 185.398125 \nL 332.822188 144.628125 \n\" clip-path=\"url(#p377deadf4e)\" style=\"fill: #32648e\"/>\n    <path d=\"M 366.302188 144.628125 \nL 399.782188 144.628125 \nL 399.782188 185.398125 \nL 366.302188 185.398125 \nL 366.302188 144.628125 \n\" clip-path=\"url(#p377deadf4e)\" style=\"fill: #2f6c8e\"/>\n    <path d=\"M 399.782188 144.628125 \nL 433.262188 144.628125 \nL 433.262188 185.398125 \nL 399.782188 185.398125 \nL 399.782188 144.628125 \n\" clip-path=\"url(#p377deadf4e)\" style=\"fill: #355e8d\"/>\n    <path d=\"M 433.262188 144.628125 \nL 466.742188 144.628125 \nL 466.742188 185.398125 \nL 433.262188 185.398125 \nL 433.262188 144.628125 \n\" clip-path=\"url(#p377deadf4e)\" style=\"fill: #3f4889\"/>\n    <path d=\"M 466.742188 144.628125 \nL 500.222188 144.628125 \nL 500.222188 185.398125 \nL 466.742188 185.398125 \nL 466.742188 144.628125 \n\" clip-path=\"url(#p377deadf4e)\" style=\"fill: #32648e\"/>\n    <path d=\"M 500.222188 144.628125 \nL 533.702188 144.628125 \nL 533.702188 185.398125 \nL 500.222188 185.398125 \nL 500.222188 144.628125 \n\" clip-path=\"url(#p377deadf4e)\" style=\"fill: #46307e\"/>\n    <path d=\"M 131.942187 185.398125 \nL 165.422188 185.398125 \nL 165.422188 226.168125 \nL 131.942187 226.168125 \nL 131.942187 185.398125 \n\" clip-path=\"url(#p377deadf4e)\" style=\"fill: #375a8c\"/>\n    <path d=\"M 165.422188 185.398125 \nL 198.902187 185.398125 \nL 198.902187 226.168125 \nL 165.422188 226.168125 \nL 165.422188 185.398125 \n\" clip-path=\"url(#p377deadf4e)\" style=\"fill: #25838e\"/>\n    <path d=\"M 198.902187 185.398125 \nL 232.382187 185.398125 \nL 232.382187 226.168125 \nL 198.902187 226.168125 \nL 198.902187 185.398125 \n\" clip-path=\"url(#p377deadf4e)\" style=\"fill: #31678e\"/>\n    <path d=\"M 232.382187 185.398125 \nL 265.862188 185.398125 \nL 265.862188 226.168125 \nL 232.382187 226.168125 \nL 232.382187 185.398125 \n\" clip-path=\"url(#p377deadf4e)\" style=\"fill: #3a538b\"/>\n    <path d=\"M 265.862188 185.398125 \nL 299.342188 185.398125 \nL 299.342188 226.168125 \nL 265.862188 226.168125 \nL 265.862188 185.398125 \n\" clip-path=\"url(#p377deadf4e)\" style=\"fill: #fde725\"/>\n    <path d=\"M 299.342188 185.398125 \nL 332.822188 185.398125 \nL 332.822188 226.168125 \nL 299.342188 226.168125 \nL 299.342188 185.398125 \n\" clip-path=\"url(#p377deadf4e)\" style=\"fill: #287d8e\"/>\n    <path d=\"M 332.822188 185.398125 \nL 366.302188 185.398125 \nL 366.302188 226.168125 \nL 332.822188 226.168125 \nL 332.822188 185.398125 \n\" clip-path=\"url(#p377deadf4e)\" style=\"fill: #2a778e\"/>\n    <path d=\"M 366.302188 185.398125 \nL 399.782188 185.398125 \nL 399.782188 226.168125 \nL 366.302188 226.168125 \nL 366.302188 185.398125 \n\" clip-path=\"url(#p377deadf4e)\" style=\"fill: #2c738e\"/>\n    <path d=\"M 399.782188 185.398125 \nL 433.262188 185.398125 \nL 433.262188 226.168125 \nL 399.782188 226.168125 \nL 399.782188 185.398125 \n\" clip-path=\"url(#p377deadf4e)\" style=\"fill: #2a788e\"/>\n    <path d=\"M 433.262188 185.398125 \nL 466.742188 185.398125 \nL 466.742188 226.168125 \nL 433.262188 226.168125 \nL 433.262188 185.398125 \n\" clip-path=\"url(#p377deadf4e)\" style=\"fill: #3a538b\"/>\n    <path d=\"M 466.742188 185.398125 \nL 500.222188 185.398125 \nL 500.222188 226.168125 \nL 466.742188 226.168125 \nL 466.742188 185.398125 \n\" clip-path=\"url(#p377deadf4e)\" style=\"fill: #39558c\"/>\n    <path d=\"M 500.222188 185.398125 \nL 533.702188 185.398125 \nL 533.702188 226.168125 \nL 500.222188 226.168125 \nL 500.222188 185.398125 \n\" clip-path=\"url(#p377deadf4e)\" style=\"fill: #3e4989\"/>\n    <path d=\"M 131.942187 226.168125 \nL 165.422188 226.168125 \nL 165.422188 266.938125 \nL 131.942187 266.938125 \nL 131.942187 226.168125 \n\" clip-path=\"url(#p377deadf4e)\" style=\"fill: #375a8c\"/>\n    <path d=\"M 165.422188 226.168125 \nL 198.902187 226.168125 \nL 198.902187 266.938125 \nL 165.422188 266.938125 \nL 165.422188 226.168125 \n\" clip-path=\"url(#p377deadf4e)\" style=\"fill: #6ece58\"/>\n    <path d=\"M 198.902187 226.168125 \nL 232.382187 226.168125 \nL 232.382187 266.938125 \nL 198.902187 266.938125 \nL 198.902187 226.168125 \n\" clip-path=\"url(#p377deadf4e)\" style=\"fill: #31668e\"/>\n    <path d=\"M 232.382187 226.168125 \nL 265.862188 226.168125 \nL 265.862188 266.938125 \nL 232.382187 266.938125 \nL 232.382187 226.168125 \n\" clip-path=\"url(#p377deadf4e)\" style=\"fill: #355f8d\"/>\n    <path d=\"M 265.862188 226.168125 \nL 299.342188 226.168125 \nL 299.342188 266.938125 \nL 265.862188 266.938125 \nL 265.862188 226.168125 \n\" clip-path=\"url(#p377deadf4e)\" style=\"fill: #287d8e\"/>\n    <path d=\"M 299.342188 226.168125 \nL 332.822188 226.168125 \nL 332.822188 266.938125 \nL 299.342188 266.938125 \nL 299.342188 226.168125 \n\" clip-path=\"url(#p377deadf4e)\" style=\"fill: #fde725\"/>\n    <path d=\"M 332.822188 226.168125 \nL 366.302188 226.168125 \nL 366.302188 266.938125 \nL 332.822188 266.938125 \nL 332.822188 226.168125 \n\" clip-path=\"url(#p377deadf4e)\" style=\"fill: #34b679\"/>\n    <path d=\"M 366.302188 226.168125 \nL 399.782188 226.168125 \nL 399.782188 266.938125 \nL 366.302188 266.938125 \nL 366.302188 226.168125 \n\" clip-path=\"url(#p377deadf4e)\" style=\"fill: #95d840\"/>\n    <path d=\"M 399.782188 226.168125 \nL 433.262188 226.168125 \nL 433.262188 266.938125 \nL 399.782188 266.938125 \nL 399.782188 226.168125 \n\" clip-path=\"url(#p377deadf4e)\" style=\"fill: #c0df25\"/>\n    <path d=\"M 433.262188 226.168125 \nL 466.742188 226.168125 \nL 466.742188 266.938125 \nL 433.262188 266.938125 \nL 433.262188 226.168125 \n\" clip-path=\"url(#p377deadf4e)\" style=\"fill: #3a538b\"/>\n    <path d=\"M 466.742188 226.168125 \nL 500.222188 226.168125 \nL 500.222188 266.938125 \nL 466.742188 266.938125 \nL 466.742188 226.168125 \n\" clip-path=\"url(#p377deadf4e)\" style=\"fill: #32648e\"/>\n    <path d=\"M 500.222188 226.168125 \nL 533.702188 226.168125 \nL 533.702188 266.938125 \nL 500.222188 266.938125 \nL 500.222188 226.168125 \n\" clip-path=\"url(#p377deadf4e)\" style=\"fill: #3e4c8a\"/>\n    <path d=\"M 131.942187 266.938125 \nL 165.422188 266.938125 \nL 165.422188 307.708125 \nL 131.942187 307.708125 \nL 131.942187 266.938125 \n\" clip-path=\"url(#p377deadf4e)\" style=\"fill: #365d8d\"/>\n    <path d=\"M 165.422188 266.938125 \nL 198.902187 266.938125 \nL 198.902187 307.708125 \nL 165.422188 307.708125 \nL 165.422188 266.938125 \n\" clip-path=\"url(#p377deadf4e)\" style=\"fill: #3aba76\"/>\n    <path d=\"M 198.902187 266.938125 \nL 232.382187 266.938125 \nL 232.382187 307.708125 \nL 198.902187 307.708125 \nL 198.902187 266.938125 \n\" clip-path=\"url(#p377deadf4e)\" style=\"fill: #31688e\"/>\n    <path d=\"M 232.382187 266.938125 \nL 265.862188 266.938125 \nL 265.862188 307.708125 \nL 232.382187 307.708125 \nL 232.382187 266.938125 \n\" clip-path=\"url(#p377deadf4e)\" style=\"fill: #32648e\"/>\n    <path d=\"M 265.862188 266.938125 \nL 299.342188 266.938125 \nL 299.342188 307.708125 \nL 265.862188 307.708125 \nL 265.862188 266.938125 \n\" clip-path=\"url(#p377deadf4e)\" style=\"fill: #2a778e\"/>\n    <path d=\"M 299.342188 266.938125 \nL 332.822188 266.938125 \nL 332.822188 307.708125 \nL 299.342188 307.708125 \nL 299.342188 266.938125 \n\" clip-path=\"url(#p377deadf4e)\" style=\"fill: #34b679\"/>\n    <path d=\"M 332.822188 266.938125 \nL 366.302188 266.938125 \nL 366.302188 307.708125 \nL 332.822188 307.708125 \nL 332.822188 266.938125 \n\" clip-path=\"url(#p377deadf4e)\" style=\"fill: #fde725\"/>\n    <path d=\"M 366.302188 266.938125 \nL 399.782188 266.938125 \nL 399.782188 307.708125 \nL 366.302188 307.708125 \nL 366.302188 266.938125 \n\" clip-path=\"url(#p377deadf4e)\" style=\"fill: #50c46a\"/>\n    <path d=\"M 399.782188 266.938125 \nL 433.262188 266.938125 \nL 433.262188 307.708125 \nL 399.782188 307.708125 \nL 399.782188 266.938125 \n\" clip-path=\"url(#p377deadf4e)\" style=\"fill: #34b679\"/>\n    <path d=\"M 433.262188 266.938125 \nL 466.742188 266.938125 \nL 466.742188 307.708125 \nL 433.262188 307.708125 \nL 433.262188 266.938125 \n\" clip-path=\"url(#p377deadf4e)\" style=\"fill: #3a548c\"/>\n    <path d=\"M 466.742188 266.938125 \nL 500.222188 266.938125 \nL 500.222188 307.708125 \nL 466.742188 307.708125 \nL 466.742188 266.938125 \n\" clip-path=\"url(#p377deadf4e)\" style=\"fill: #2e6f8e\"/>\n    <path d=\"M 500.222188 266.938125 \nL 533.702188 266.938125 \nL 533.702188 307.708125 \nL 500.222188 307.708125 \nL 500.222188 266.938125 \n\" clip-path=\"url(#p377deadf4e)\" style=\"fill: #3e4989\"/>\n    <path d=\"M 131.942187 307.708125 \nL 165.422188 307.708125 \nL 165.422188 348.478125 \nL 131.942187 348.478125 \nL 131.942187 307.708125 \n\" clip-path=\"url(#p377deadf4e)\" style=\"fill: #375a8c\"/>\n    <path d=\"M 165.422188 307.708125 \nL 198.902187 307.708125 \nL 198.902187 348.478125 \nL 165.422188 348.478125 \nL 165.422188 307.708125 \n\" clip-path=\"url(#p377deadf4e)\" style=\"fill: #5ec962\"/>\n    <path d=\"M 198.902187 307.708125 \nL 232.382187 307.708125 \nL 232.382187 348.478125 \nL 198.902187 348.478125 \nL 198.902187 307.708125 \n\" clip-path=\"url(#p377deadf4e)\" style=\"fill: #32648e\"/>\n    <path d=\"M 232.382187 307.708125 \nL 265.862188 307.708125 \nL 265.862188 348.478125 \nL 232.382187 348.478125 \nL 232.382187 307.708125 \n\" clip-path=\"url(#p377deadf4e)\" style=\"fill: #2f6c8e\"/>\n    <path d=\"M 265.862188 307.708125 \nL 299.342188 307.708125 \nL 299.342188 348.478125 \nL 265.862188 348.478125 \nL 265.862188 307.708125 \n\" clip-path=\"url(#p377deadf4e)\" style=\"fill: #2c738e\"/>\n    <path d=\"M 299.342188 307.708125 \nL 332.822188 307.708125 \nL 332.822188 348.478125 \nL 299.342188 348.478125 \nL 299.342188 307.708125 \n\" clip-path=\"url(#p377deadf4e)\" style=\"fill: #95d840\"/>\n    <path d=\"M 332.822188 307.708125 \nL 366.302188 307.708125 \nL 366.302188 348.478125 \nL 332.822188 348.478125 \nL 332.822188 307.708125 \n\" clip-path=\"url(#p377deadf4e)\" style=\"fill: #50c46a\"/>\n    <path d=\"M 366.302188 307.708125 \nL 399.782188 307.708125 \nL 399.782188 348.478125 \nL 366.302188 348.478125 \nL 366.302188 307.708125 \n\" clip-path=\"url(#p377deadf4e)\" style=\"fill: #fde725\"/>\n    <path d=\"M 399.782188 307.708125 \nL 433.262188 307.708125 \nL 433.262188 348.478125 \nL 399.782188 348.478125 \nL 399.782188 307.708125 \n\" clip-path=\"url(#p377deadf4e)\" style=\"fill: #8bd646\"/>\n    <path d=\"M 433.262188 307.708125 \nL 466.742188 307.708125 \nL 466.742188 348.478125 \nL 433.262188 348.478125 \nL 433.262188 307.708125 \n\" clip-path=\"url(#p377deadf4e)\" style=\"fill: #3c4f8a\"/>\n    <path d=\"M 466.742188 307.708125 \nL 500.222188 307.708125 \nL 500.222188 348.478125 \nL 466.742188 348.478125 \nL 466.742188 307.708125 \n\" clip-path=\"url(#p377deadf4e)\" style=\"fill: #2f6b8e\"/>\n    <path d=\"M 500.222188 307.708125 \nL 533.702188 307.708125 \nL 533.702188 348.478125 \nL 500.222188 348.478125 \nL 500.222188 307.708125 \n\" clip-path=\"url(#p377deadf4e)\" style=\"fill: #433d84\"/>\n    <path d=\"M 131.942187 348.478125 \nL 165.422188 348.478125 \nL 165.422188 389.248125 \nL 131.942187 389.248125 \nL 131.942187 348.478125 \n\" clip-path=\"url(#p377deadf4e)\" style=\"fill: #365d8d\"/>\n    <path d=\"M 165.422188 348.478125 \nL 198.902187 348.478125 \nL 198.902187 389.248125 \nL 165.422188 389.248125 \nL 165.422188 348.478125 \n\" clip-path=\"url(#p377deadf4e)\" style=\"fill: #54c568\"/>\n    <path d=\"M 198.902187 348.478125 \nL 232.382187 348.478125 \nL 232.382187 389.248125 \nL 198.902187 389.248125 \nL 198.902187 348.478125 \n\" clip-path=\"url(#p377deadf4e)\" style=\"fill: #31678e\"/>\n    <path d=\"M 232.382187 348.478125 \nL 265.862188 348.478125 \nL 265.862188 389.248125 \nL 232.382187 389.248125 \nL 232.382187 348.478125 \n\" clip-path=\"url(#p377deadf4e)\" style=\"fill: #355e8d\"/>\n    <path d=\"M 265.862188 348.478125 \nL 299.342188 348.478125 \nL 299.342188 389.248125 \nL 265.862188 389.248125 \nL 265.862188 348.478125 \n\" clip-path=\"url(#p377deadf4e)\" style=\"fill: #2a788e\"/>\n    <path d=\"M 299.342188 348.478125 \nL 332.822188 348.478125 \nL 332.822188 389.248125 \nL 299.342188 389.248125 \nL 299.342188 348.478125 \n\" clip-path=\"url(#p377deadf4e)\" style=\"fill: #c0df25\"/>\n    <path d=\"M 332.822188 348.478125 \nL 366.302188 348.478125 \nL 366.302188 389.248125 \nL 332.822188 389.248125 \nL 332.822188 348.478125 \n\" clip-path=\"url(#p377deadf4e)\" style=\"fill: #34b679\"/>\n    <path d=\"M 366.302188 348.478125 \nL 399.782188 348.478125 \nL 399.782188 389.248125 \nL 366.302188 389.248125 \nL 366.302188 348.478125 \n\" clip-path=\"url(#p377deadf4e)\" style=\"fill: #8bd646\"/>\n    <path d=\"M 399.782188 348.478125 \nL 433.262188 348.478125 \nL 433.262188 389.248125 \nL 399.782188 389.248125 \nL 399.782188 348.478125 \n\" clip-path=\"url(#p377deadf4e)\" style=\"fill: #fde725\"/>\n    <path d=\"M 433.262188 348.478125 \nL 466.742188 348.478125 \nL 466.742188 389.248125 \nL 433.262188 389.248125 \nL 433.262188 348.478125 \n\" clip-path=\"url(#p377deadf4e)\" style=\"fill: #3b518b\"/>\n    <path d=\"M 466.742188 348.478125 \nL 500.222188 348.478125 \nL 500.222188 389.248125 \nL 466.742188 389.248125 \nL 466.742188 348.478125 \n\" clip-path=\"url(#p377deadf4e)\" style=\"fill: #32648e\"/>\n    <path d=\"M 500.222188 348.478125 \nL 533.702188 348.478125 \nL 533.702188 389.248125 \nL 500.222188 389.248125 \nL 500.222188 348.478125 \n\" clip-path=\"url(#p377deadf4e)\" style=\"fill: #3e4989\"/>\n    <path d=\"M 131.942187 389.248125 \nL 165.422188 389.248125 \nL 165.422188 430.018125 \nL 131.942187 430.018125 \nL 131.942187 389.248125 \n\" clip-path=\"url(#p377deadf4e)\" style=\"fill: #440154\"/>\n    <path d=\"M 165.422188 389.248125 \nL 198.902187 389.248125 \nL 198.902187 430.018125 \nL 165.422188 430.018125 \nL 165.422188 389.248125 \n\" clip-path=\"url(#p377deadf4e)\" style=\"fill: #3c4f8a\"/>\n    <path d=\"M 198.902187 389.248125 \nL 232.382187 389.248125 \nL 232.382187 430.018125 \nL 198.902187 430.018125 \nL 198.902187 389.248125 \n\" clip-path=\"url(#p377deadf4e)\" style=\"fill: #2a768e\"/>\n    <path d=\"M 232.382187 389.248125 \nL 265.862188 389.248125 \nL 265.862188 430.018125 \nL 232.382187 430.018125 \nL 232.382187 389.248125 \n\" clip-path=\"url(#p377deadf4e)\" style=\"fill: #3f4889\"/>\n    <path d=\"M 265.862188 389.248125 \nL 299.342188 389.248125 \nL 299.342188 430.018125 \nL 265.862188 430.018125 \nL 265.862188 389.248125 \n\" clip-path=\"url(#p377deadf4e)\" style=\"fill: #3a538b\"/>\n    <path d=\"M 299.342188 389.248125 \nL 332.822188 389.248125 \nL 332.822188 430.018125 \nL 299.342188 430.018125 \nL 299.342188 389.248125 \n\" clip-path=\"url(#p377deadf4e)\" style=\"fill: #3a538b\"/>\n    <path d=\"M 332.822188 389.248125 \nL 366.302188 389.248125 \nL 366.302188 430.018125 \nL 332.822188 430.018125 \nL 332.822188 389.248125 \n\" clip-path=\"url(#p377deadf4e)\" style=\"fill: #3a548c\"/>\n    <path d=\"M 366.302188 389.248125 \nL 399.782188 389.248125 \nL 399.782188 430.018125 \nL 366.302188 430.018125 \nL 366.302188 389.248125 \n\" clip-path=\"url(#p377deadf4e)\" style=\"fill: #3c4f8a\"/>\n    <path d=\"M 399.782188 389.248125 \nL 433.262188 389.248125 \nL 433.262188 430.018125 \nL 399.782188 430.018125 \nL 399.782188 389.248125 \n\" clip-path=\"url(#p377deadf4e)\" style=\"fill: #3b518b\"/>\n    <path d=\"M 433.262188 389.248125 \nL 466.742188 389.248125 \nL 466.742188 430.018125 \nL 433.262188 430.018125 \nL 433.262188 389.248125 \n\" clip-path=\"url(#p377deadf4e)\" style=\"fill: #fde725\"/>\n    <path d=\"M 466.742188 389.248125 \nL 500.222188 389.248125 \nL 500.222188 430.018125 \nL 466.742188 430.018125 \nL 466.742188 389.248125 \n\" clip-path=\"url(#p377deadf4e)\" style=\"fill: #2f6c8e\"/>\n    <path d=\"M 500.222188 389.248125 \nL 533.702188 389.248125 \nL 533.702188 430.018125 \nL 500.222188 430.018125 \nL 500.222188 389.248125 \n\" clip-path=\"url(#p377deadf4e)\" style=\"fill: #48c16e\"/>\n    <path d=\"M 131.942187 430.018125 \nL 165.422188 430.018125 \nL 165.422188 470.788125 \nL 131.942187 470.788125 \nL 131.942187 430.018125 \n\" clip-path=\"url(#p377deadf4e)\" style=\"fill: #2d708e\"/>\n    <path d=\"M 165.422188 430.018125 \nL 198.902187 430.018125 \nL 198.902187 470.788125 \nL 165.422188 470.788125 \nL 165.422188 430.018125 \n\" clip-path=\"url(#p377deadf4e)\" style=\"fill: #2c728e\"/>\n    <path d=\"M 198.902187 430.018125 \nL 232.382187 430.018125 \nL 232.382187 470.788125 \nL 198.902187 470.788125 \nL 198.902187 430.018125 \n\" clip-path=\"url(#p377deadf4e)\" style=\"fill: #27808e\"/>\n    <path d=\"M 232.382187 430.018125 \nL 265.862188 430.018125 \nL 265.862188 470.788125 \nL 232.382187 470.788125 \nL 232.382187 430.018125 \n\" clip-path=\"url(#p377deadf4e)\" style=\"fill: #32648e\"/>\n    <path d=\"M 265.862188 430.018125 \nL 299.342188 430.018125 \nL 299.342188 470.788125 \nL 265.862188 470.788125 \nL 265.862188 430.018125 \n\" clip-path=\"url(#p377deadf4e)\" style=\"fill: #39558c\"/>\n    <path d=\"M 299.342188 430.018125 \nL 332.822188 430.018125 \nL 332.822188 470.788125 \nL 299.342188 470.788125 \nL 299.342188 430.018125 \n\" clip-path=\"url(#p377deadf4e)\" style=\"fill: #32648e\"/>\n    <path d=\"M 332.822188 430.018125 \nL 366.302188 430.018125 \nL 366.302188 470.788125 \nL 332.822188 470.788125 \nL 332.822188 430.018125 \n\" clip-path=\"url(#p377deadf4e)\" style=\"fill: #2e6f8e\"/>\n    <path d=\"M 366.302188 430.018125 \nL 399.782188 430.018125 \nL 399.782188 470.788125 \nL 366.302188 470.788125 \nL 366.302188 430.018125 \n\" clip-path=\"url(#p377deadf4e)\" style=\"fill: #2f6b8e\"/>\n    <path d=\"M 399.782188 430.018125 \nL 433.262188 430.018125 \nL 433.262188 470.788125 \nL 399.782188 470.788125 \nL 399.782188 430.018125 \n\" clip-path=\"url(#p377deadf4e)\" style=\"fill: #32648e\"/>\n    <path d=\"M 433.262188 430.018125 \nL 466.742188 430.018125 \nL 466.742188 470.788125 \nL 433.262188 470.788125 \nL 433.262188 430.018125 \n\" clip-path=\"url(#p377deadf4e)\" style=\"fill: #2f6c8e\"/>\n    <path d=\"M 466.742188 430.018125 \nL 500.222188 430.018125 \nL 500.222188 470.788125 \nL 466.742188 470.788125 \nL 466.742188 430.018125 \n\" clip-path=\"url(#p377deadf4e)\" style=\"fill: #fde725\"/>\n    <path d=\"M 500.222188 430.018125 \nL 533.702188 430.018125 \nL 533.702188 470.788125 \nL 500.222188 470.788125 \nL 500.222188 430.018125 \n\" clip-path=\"url(#p377deadf4e)\" style=\"fill: #2b758e\"/>\n    <path d=\"M 131.942187 470.788125 \nL 165.422188 470.788125 \nL 165.422188 511.558125 \nL 131.942187 511.558125 \nL 131.942187 470.788125 \n\" clip-path=\"url(#p377deadf4e)\" style=\"fill: #2b748e\"/>\n    <path d=\"M 165.422188 470.788125 \nL 198.902187 470.788125 \nL 198.902187 511.558125 \nL 165.422188 511.558125 \nL 165.422188 470.788125 \n\" clip-path=\"url(#p377deadf4e)\" style=\"fill: #424186\"/>\n    <path d=\"M 198.902187 470.788125 \nL 232.382187 470.788125 \nL 232.382187 511.558125 \nL 198.902187 511.558125 \nL 198.902187 470.788125 \n\" clip-path=\"url(#p377deadf4e)\" style=\"fill: #26828e\"/>\n    <path d=\"M 232.382187 470.788125 \nL 265.862188 470.788125 \nL 265.862188 511.558125 \nL 232.382187 511.558125 \nL 232.382187 470.788125 \n\" clip-path=\"url(#p377deadf4e)\" style=\"fill: #46307e\"/>\n    <path d=\"M 265.862188 470.788125 \nL 299.342188 470.788125 \nL 299.342188 511.558125 \nL 265.862188 511.558125 \nL 265.862188 470.788125 \n\" clip-path=\"url(#p377deadf4e)\" style=\"fill: #3e4989\"/>\n    <path d=\"M 299.342188 470.788125 \nL 332.822188 470.788125 \nL 332.822188 511.558125 \nL 299.342188 511.558125 \nL 299.342188 470.788125 \n\" clip-path=\"url(#p377deadf4e)\" style=\"fill: #3e4c8a\"/>\n    <path d=\"M 332.822188 470.788125 \nL 366.302188 470.788125 \nL 366.302188 511.558125 \nL 332.822188 511.558125 \nL 332.822188 470.788125 \n\" clip-path=\"url(#p377deadf4e)\" style=\"fill: #3e4989\"/>\n    <path d=\"M 366.302188 470.788125 \nL 399.782188 470.788125 \nL 399.782188 511.558125 \nL 366.302188 511.558125 \nL 366.302188 470.788125 \n\" clip-path=\"url(#p377deadf4e)\" style=\"fill: #433d84\"/>\n    <path d=\"M 399.782188 470.788125 \nL 433.262188 470.788125 \nL 433.262188 511.558125 \nL 399.782188 511.558125 \nL 399.782188 470.788125 \n\" clip-path=\"url(#p377deadf4e)\" style=\"fill: #3e4989\"/>\n    <path d=\"M 433.262188 470.788125 \nL 466.742188 470.788125 \nL 466.742188 511.558125 \nL 433.262188 511.558125 \nL 433.262188 470.788125 \n\" clip-path=\"url(#p377deadf4e)\" style=\"fill: #48c16e\"/>\n    <path d=\"M 466.742188 470.788125 \nL 500.222188 470.788125 \nL 500.222188 511.558125 \nL 466.742188 511.558125 \nL 466.742188 470.788125 \n\" clip-path=\"url(#p377deadf4e)\" style=\"fill: #2b758e\"/>\n    <path d=\"M 500.222188 470.788125 \nL 533.702188 470.788125 \nL 533.702188 511.558125 \nL 500.222188 511.558125 \nL 500.222188 470.788125 \n\" clip-path=\"url(#p377deadf4e)\" style=\"fill: #fde725\"/>\n   </g>\n   <g id=\"text_25\">\n    <!-- 1.00 -->\n    <g style=\"fill: #262626\" transform=\"translate(135.322812 46.014375)scale(0.12 -0.12)\">\n     <defs>\n      <path id=\"DejaVuSans-31\" d=\"M 794 531 \nL 1825 531 \nL 1825 4091 \nL 703 3866 \nL 703 4441 \nL 1819 4666 \nL 2450 4666 \nL 2450 531 \nL 3481 531 \nL 3481 0 \nL 794 0 \nL 794 531 \nz\n\" transform=\"scale(0.015625)\"/>\n      <path id=\"DejaVuSans-2e\" d=\"M 684 794 \nL 1344 794 \nL 1344 0 \nL 684 0 \nL 684 794 \nz\n\" transform=\"scale(0.015625)\"/>\n      <path id=\"DejaVuSans-30\" d=\"M 2034 4250 \nQ 1547 4250 1301 3770 \nQ 1056 3291 1056 2328 \nQ 1056 1369 1301 889 \nQ 1547 409 2034 409 \nQ 2525 409 2770 889 \nQ 3016 1369 3016 2328 \nQ 3016 3291 2770 3770 \nQ 2525 4250 2034 4250 \nz\nM 2034 4750 \nQ 2819 4750 3233 4129 \nQ 3647 3509 3647 2328 \nQ 3647 1150 3233 529 \nQ 2819 -91 2034 -91 \nQ 1250 -91 836 529 \nQ 422 1150 422 2328 \nQ 422 3509 836 4129 \nQ 1250 4750 2034 4750 \nz\n\" transform=\"scale(0.015625)\"/>\n     </defs>\n     <use xlink:href=\"#DejaVuSans-31\"/>\n     <use xlink:href=\"#DejaVuSans-2e\" x=\"63.623047\"/>\n     <use xlink:href=\"#DejaVuSans-30\" x=\"95.410156\"/>\n     <use xlink:href=\"#DejaVuSans-30\" x=\"159.033203\"/>\n    </g>\n   </g>\n   <g id=\"text_26\">\n    <!-- -0.05 -->\n    <g style=\"fill: #ffffff\" transform=\"translate(166.638125 46.014375)scale(0.12 -0.12)\">\n     <defs>\n      <path id=\"DejaVuSans-2d\" d=\"M 313 2009 \nL 1997 2009 \nL 1997 1497 \nL 313 1497 \nL 313 2009 \nz\n\" transform=\"scale(0.015625)\"/>\n      <path id=\"DejaVuSans-35\" d=\"M 691 4666 \nL 3169 4666 \nL 3169 4134 \nL 1269 4134 \nL 1269 2991 \nQ 1406 3038 1543 3061 \nQ 1681 3084 1819 3084 \nQ 2600 3084 3056 2656 \nQ 3513 2228 3513 1497 \nQ 3513 744 3044 326 \nQ 2575 -91 1722 -91 \nQ 1428 -91 1123 -41 \nQ 819 9 494 109 \nL 494 744 \nQ 775 591 1075 516 \nQ 1375 441 1709 441 \nQ 2250 441 2565 725 \nQ 2881 1009 2881 1497 \nQ 2881 1984 2565 2268 \nQ 2250 2553 1709 2553 \nQ 1456 2553 1204 2497 \nQ 953 2441 691 2322 \nL 691 4666 \nz\n\" transform=\"scale(0.015625)\"/>\n     </defs>\n     <use xlink:href=\"#DejaVuSans-2d\"/>\n     <use xlink:href=\"#DejaVuSans-30\" x=\"36.083984\"/>\n     <use xlink:href=\"#DejaVuSans-2e\" x=\"99.707031\"/>\n     <use xlink:href=\"#DejaVuSans-30\" x=\"131.494141\"/>\n     <use xlink:href=\"#DejaVuSans-35\" x=\"195.117188\"/>\n    </g>\n   </g>\n   <g id=\"text_27\">\n    <!-- 0.01 -->\n    <g style=\"fill: #ffffff\" transform=\"translate(202.282813 46.014375)scale(0.12 -0.12)\">\n     <use xlink:href=\"#DejaVuSans-30\"/>\n     <use xlink:href=\"#DejaVuSans-2e\" x=\"63.623047\"/>\n     <use xlink:href=\"#DejaVuSans-30\" x=\"95.410156\"/>\n     <use xlink:href=\"#DejaVuSans-31\" x=\"159.033203\"/>\n    </g>\n   </g>\n   <g id=\"text_28\">\n    <!-- -0.03 -->\n    <g style=\"fill: #ffffff\" transform=\"translate(233.598125 46.014375)scale(0.12 -0.12)\">\n     <defs>\n      <path id=\"DejaVuSans-33\" d=\"M 2597 2516 \nQ 3050 2419 3304 2112 \nQ 3559 1806 3559 1356 \nQ 3559 666 3084 287 \nQ 2609 -91 1734 -91 \nQ 1441 -91 1130 -33 \nQ 819 25 488 141 \nL 488 750 \nQ 750 597 1062 519 \nQ 1375 441 1716 441 \nQ 2309 441 2620 675 \nQ 2931 909 2931 1356 \nQ 2931 1769 2642 2001 \nQ 2353 2234 1838 2234 \nL 1294 2234 \nL 1294 2753 \nL 1863 2753 \nQ 2328 2753 2575 2939 \nQ 2822 3125 2822 3475 \nQ 2822 3834 2567 4026 \nQ 2313 4219 1838 4219 \nQ 1578 4219 1281 4162 \nQ 984 4106 628 3988 \nL 628 4550 \nQ 988 4650 1302 4700 \nQ 1616 4750 1894 4750 \nQ 2613 4750 3031 4423 \nQ 3450 4097 3450 3541 \nQ 3450 3153 3228 2886 \nQ 3006 2619 2597 2516 \nz\n\" transform=\"scale(0.015625)\"/>\n     </defs>\n     <use xlink:href=\"#DejaVuSans-2d\"/>\n     <use xlink:href=\"#DejaVuSans-30\" x=\"36.083984\"/>\n     <use xlink:href=\"#DejaVuSans-2e\" x=\"99.707031\"/>\n     <use xlink:href=\"#DejaVuSans-30\" x=\"131.494141\"/>\n     <use xlink:href=\"#DejaVuSans-33\" x=\"195.117188\"/>\n    </g>\n   </g>\n   <g id=\"text_29\">\n    <!-- -0.06 -->\n    <g style=\"fill: #ffffff\" transform=\"translate(267.078125 46.014375)scale(0.12 -0.12)\">\n     <defs>\n      <path id=\"DejaVuSans-36\" d=\"M 2113 2584 \nQ 1688 2584 1439 2293 \nQ 1191 2003 1191 1497 \nQ 1191 994 1439 701 \nQ 1688 409 2113 409 \nQ 2538 409 2786 701 \nQ 3034 994 3034 1497 \nQ 3034 2003 2786 2293 \nQ 2538 2584 2113 2584 \nz\nM 3366 4563 \nL 3366 3988 \nQ 3128 4100 2886 4159 \nQ 2644 4219 2406 4219 \nQ 1781 4219 1451 3797 \nQ 1122 3375 1075 2522 \nQ 1259 2794 1537 2939 \nQ 1816 3084 2150 3084 \nQ 2853 3084 3261 2657 \nQ 3669 2231 3669 1497 \nQ 3669 778 3244 343 \nQ 2819 -91 2113 -91 \nQ 1303 -91 875 529 \nQ 447 1150 447 2328 \nQ 447 3434 972 4092 \nQ 1497 4750 2381 4750 \nQ 2619 4750 2861 4703 \nQ 3103 4656 3366 4563 \nz\n\" transform=\"scale(0.015625)\"/>\n     </defs>\n     <use xlink:href=\"#DejaVuSans-2d\"/>\n     <use xlink:href=\"#DejaVuSans-30\" x=\"36.083984\"/>\n     <use xlink:href=\"#DejaVuSans-2e\" x=\"99.707031\"/>\n     <use xlink:href=\"#DejaVuSans-30\" x=\"131.494141\"/>\n     <use xlink:href=\"#DejaVuSans-36\" x=\"195.117188\"/>\n    </g>\n   </g>\n   <g id=\"text_30\">\n    <!-- -0.06 -->\n    <g style=\"fill: #ffffff\" transform=\"translate(300.558125 46.014375)scale(0.12 -0.12)\">\n     <use xlink:href=\"#DejaVuSans-2d\"/>\n     <use xlink:href=\"#DejaVuSans-30\" x=\"36.083984\"/>\n     <use xlink:href=\"#DejaVuSans-2e\" x=\"99.707031\"/>\n     <use xlink:href=\"#DejaVuSans-30\" x=\"131.494141\"/>\n     <use xlink:href=\"#DejaVuSans-36\" x=\"195.117188\"/>\n    </g>\n   </g>\n   <g id=\"text_31\">\n    <!-- -0.05 -->\n    <g style=\"fill: #ffffff\" transform=\"translate(334.038125 46.014375)scale(0.12 -0.12)\">\n     <use xlink:href=\"#DejaVuSans-2d\"/>\n     <use xlink:href=\"#DejaVuSans-30\" x=\"36.083984\"/>\n     <use xlink:href=\"#DejaVuSans-2e\" x=\"99.707031\"/>\n     <use xlink:href=\"#DejaVuSans-30\" x=\"131.494141\"/>\n     <use xlink:href=\"#DejaVuSans-35\" x=\"195.117188\"/>\n    </g>\n   </g>\n   <g id=\"text_32\">\n    <!-- -0.06 -->\n    <g style=\"fill: #ffffff\" transform=\"translate(367.518125 46.014375)scale(0.12 -0.12)\">\n     <use xlink:href=\"#DejaVuSans-2d\"/>\n     <use xlink:href=\"#DejaVuSans-30\" x=\"36.083984\"/>\n     <use xlink:href=\"#DejaVuSans-2e\" x=\"99.707031\"/>\n     <use xlink:href=\"#DejaVuSans-30\" x=\"131.494141\"/>\n     <use xlink:href=\"#DejaVuSans-36\" x=\"195.117188\"/>\n    </g>\n   </g>\n   <g id=\"text_33\">\n    <!-- -0.04 -->\n    <g style=\"fill: #ffffff\" transform=\"translate(400.998125 46.014375)scale(0.12 -0.12)\">\n     <defs>\n      <path id=\"DejaVuSans-34\" d=\"M 2419 4116 \nL 825 1625 \nL 2419 1625 \nL 2419 4116 \nz\nM 2253 4666 \nL 3047 4666 \nL 3047 1625 \nL 3713 1625 \nL 3713 1100 \nL 3047 1100 \nL 3047 0 \nL 2419 0 \nL 2419 1100 \nL 313 1100 \nL 313 1709 \nL 2253 4666 \nz\n\" transform=\"scale(0.015625)\"/>\n     </defs>\n     <use xlink:href=\"#DejaVuSans-2d\"/>\n     <use xlink:href=\"#DejaVuSans-30\" x=\"36.083984\"/>\n     <use xlink:href=\"#DejaVuSans-2e\" x=\"99.707031\"/>\n     <use xlink:href=\"#DejaVuSans-30\" x=\"131.494141\"/>\n     <use xlink:href=\"#DejaVuSans-34\" x=\"195.117188\"/>\n    </g>\n   </g>\n   <g id=\"text_34\">\n    <!-- -0.47 -->\n    <g style=\"fill: #ffffff\" transform=\"translate(434.478125 46.014375)scale(0.12 -0.12)\">\n     <defs>\n      <path id=\"DejaVuSans-37\" d=\"M 525 4666 \nL 3525 4666 \nL 3525 4397 \nL 1831 0 \nL 1172 0 \nL 2766 4134 \nL 525 4134 \nL 525 4666 \nz\n\" transform=\"scale(0.015625)\"/>\n     </defs>\n     <use xlink:href=\"#DejaVuSans-2d\"/>\n     <use xlink:href=\"#DejaVuSans-30\" x=\"36.083984\"/>\n     <use xlink:href=\"#DejaVuSans-2e\" x=\"99.707031\"/>\n     <use xlink:href=\"#DejaVuSans-34\" x=\"131.494141\"/>\n     <use xlink:href=\"#DejaVuSans-37\" x=\"195.117188\"/>\n    </g>\n   </g>\n   <g id=\"text_35\">\n    <!-- 0.06 -->\n    <g style=\"fill: #ffffff\" transform=\"translate(470.122813 46.014375)scale(0.12 -0.12)\">\n     <use xlink:href=\"#DejaVuSans-30\"/>\n     <use xlink:href=\"#DejaVuSans-2e\" x=\"63.623047\"/>\n     <use xlink:href=\"#DejaVuSans-30\" x=\"95.410156\"/>\n     <use xlink:href=\"#DejaVuSans-36\" x=\"159.033203\"/>\n    </g>\n   </g>\n   <g id=\"text_36\">\n    <!-- 0.10 -->\n    <g style=\"fill: #ffffff\" transform=\"translate(503.602813 46.014375)scale(0.12 -0.12)\">\n     <use xlink:href=\"#DejaVuSans-30\"/>\n     <use xlink:href=\"#DejaVuSans-2e\" x=\"63.623047\"/>\n     <use xlink:href=\"#DejaVuSans-31\" x=\"95.410156\"/>\n     <use xlink:href=\"#DejaVuSans-30\" x=\"159.033203\"/>\n    </g>\n   </g>\n   <g id=\"text_37\">\n    <!-- -0.05 -->\n    <g style=\"fill: #ffffff\" transform=\"translate(133.158125 86.784375)scale(0.12 -0.12)\">\n     <use xlink:href=\"#DejaVuSans-2d\"/>\n     <use xlink:href=\"#DejaVuSans-30\" x=\"36.083984\"/>\n     <use xlink:href=\"#DejaVuSans-2e\" x=\"99.707031\"/>\n     <use xlink:href=\"#DejaVuSans-30\" x=\"131.494141\"/>\n     <use xlink:href=\"#DejaVuSans-35\" x=\"195.117188\"/>\n    </g>\n   </g>\n   <g id=\"text_38\">\n    <!-- 1.00 -->\n    <g style=\"fill: #262626\" transform=\"translate(168.802812 86.784375)scale(0.12 -0.12)\">\n     <use xlink:href=\"#DejaVuSans-31\"/>\n     <use xlink:href=\"#DejaVuSans-2e\" x=\"63.623047\"/>\n     <use xlink:href=\"#DejaVuSans-30\" x=\"95.410156\"/>\n     <use xlink:href=\"#DejaVuSans-30\" x=\"159.033203\"/>\n    </g>\n   </g>\n   <g id=\"text_39\">\n    <!-- -0.01 -->\n    <g style=\"fill: #ffffff\" transform=\"translate(200.118125 86.784375)scale(0.12 -0.12)\">\n     <use xlink:href=\"#DejaVuSans-2d\"/>\n     <use xlink:href=\"#DejaVuSans-30\" x=\"36.083984\"/>\n     <use xlink:href=\"#DejaVuSans-2e\" x=\"99.707031\"/>\n     <use xlink:href=\"#DejaVuSans-30\" x=\"131.494141\"/>\n     <use xlink:href=\"#DejaVuSans-31\" x=\"195.117188\"/>\n    </g>\n   </g>\n   <g id=\"text_40\">\n    <!-- 0.06 -->\n    <g style=\"fill: #ffffff\" transform=\"translate(235.762812 86.784375)scale(0.12 -0.12)\">\n     <use xlink:href=\"#DejaVuSans-30\"/>\n     <use xlink:href=\"#DejaVuSans-2e\" x=\"63.623047\"/>\n     <use xlink:href=\"#DejaVuSans-30\" x=\"95.410156\"/>\n     <use xlink:href=\"#DejaVuSans-36\" x=\"159.033203\"/>\n    </g>\n   </g>\n   <g id=\"text_41\">\n    <!-- 0.19 -->\n    <g style=\"fill: #ffffff\" transform=\"translate(269.242813 86.784375)scale(0.12 -0.12)\">\n     <defs>\n      <path id=\"DejaVuSans-39\" d=\"M 703 97 \nL 703 672 \nQ 941 559 1184 500 \nQ 1428 441 1663 441 \nQ 2288 441 2617 861 \nQ 2947 1281 2994 2138 \nQ 2813 1869 2534 1725 \nQ 2256 1581 1919 1581 \nQ 1219 1581 811 2004 \nQ 403 2428 403 3163 \nQ 403 3881 828 4315 \nQ 1253 4750 1959 4750 \nQ 2769 4750 3195 4129 \nQ 3622 3509 3622 2328 \nQ 3622 1225 3098 567 \nQ 2575 -91 1691 -91 \nQ 1453 -91 1209 -44 \nQ 966 3 703 97 \nz\nM 1959 2075 \nQ 2384 2075 2632 2365 \nQ 2881 2656 2881 3163 \nQ 2881 3666 2632 3958 \nQ 2384 4250 1959 4250 \nQ 1534 4250 1286 3958 \nQ 1038 3666 1038 3163 \nQ 1038 2656 1286 2365 \nQ 1534 2075 1959 2075 \nz\n\" transform=\"scale(0.015625)\"/>\n     </defs>\n     <use xlink:href=\"#DejaVuSans-30\"/>\n     <use xlink:href=\"#DejaVuSans-2e\" x=\"63.623047\"/>\n     <use xlink:href=\"#DejaVuSans-31\" x=\"95.410156\"/>\n     <use xlink:href=\"#DejaVuSans-39\" x=\"159.033203\"/>\n    </g>\n   </g>\n   <g id=\"text_42\">\n    <!-- 0.67 -->\n    <g style=\"fill: #262626\" transform=\"translate(302.722813 86.784375)scale(0.12 -0.12)\">\n     <use xlink:href=\"#DejaVuSans-30\"/>\n     <use xlink:href=\"#DejaVuSans-2e\" x=\"63.623047\"/>\n     <use xlink:href=\"#DejaVuSans-36\" x=\"95.410156\"/>\n     <use xlink:href=\"#DejaVuSans-37\" x=\"159.033203\"/>\n    </g>\n   </g>\n   <g id=\"text_43\">\n    <!-- 0.53 -->\n    <g style=\"fill: #ffffff\" transform=\"translate(336.202813 86.784375)scale(0.12 -0.12)\">\n     <use xlink:href=\"#DejaVuSans-30\"/>\n     <use xlink:href=\"#DejaVuSans-2e\" x=\"63.623047\"/>\n     <use xlink:href=\"#DejaVuSans-35\" x=\"95.410156\"/>\n     <use xlink:href=\"#DejaVuSans-33\" x=\"159.033203\"/>\n    </g>\n   </g>\n   <g id=\"text_44\">\n    <!-- 0.63 -->\n    <g style=\"fill: #262626\" transform=\"translate(369.682813 86.784375)scale(0.12 -0.12)\">\n     <use xlink:href=\"#DejaVuSans-30\"/>\n     <use xlink:href=\"#DejaVuSans-2e\" x=\"63.623047\"/>\n     <use xlink:href=\"#DejaVuSans-36\" x=\"95.410156\"/>\n     <use xlink:href=\"#DejaVuSans-33\" x=\"159.033203\"/>\n    </g>\n   </g>\n   <g id=\"text_45\">\n    <!-- 0.61 -->\n    <g style=\"fill: #262626\" transform=\"translate(403.162813 86.784375)scale(0.12 -0.12)\">\n     <use xlink:href=\"#DejaVuSans-30\"/>\n     <use xlink:href=\"#DejaVuSans-2e\" x=\"63.623047\"/>\n     <use xlink:href=\"#DejaVuSans-36\" x=\"95.410156\"/>\n     <use xlink:href=\"#DejaVuSans-31\" x=\"159.033203\"/>\n    </g>\n   </g>\n   <g id=\"text_46\">\n    <!-- -0.12 -->\n    <g style=\"fill: #ffffff\" transform=\"translate(434.478125 86.784375)scale(0.12 -0.12)\">\n     <defs>\n      <path id=\"DejaVuSans-32\" d=\"M 1228 531 \nL 3431 531 \nL 3431 0 \nL 469 0 \nL 469 531 \nQ 828 903 1448 1529 \nQ 2069 2156 2228 2338 \nQ 2531 2678 2651 2914 \nQ 2772 3150 2772 3378 \nQ 2772 3750 2511 3984 \nQ 2250 4219 1831 4219 \nQ 1534 4219 1204 4116 \nQ 875 4013 500 3803 \nL 500 4441 \nQ 881 4594 1212 4672 \nQ 1544 4750 1819 4750 \nQ 2544 4750 2975 4387 \nQ 3406 4025 3406 3419 \nQ 3406 3131 3298 2873 \nQ 3191 2616 2906 2266 \nQ 2828 2175 2409 1742 \nQ 1991 1309 1228 531 \nz\n\" transform=\"scale(0.015625)\"/>\n     </defs>\n     <use xlink:href=\"#DejaVuSans-2d\"/>\n     <use xlink:href=\"#DejaVuSans-30\" x=\"36.083984\"/>\n     <use xlink:href=\"#DejaVuSans-2e\" x=\"99.707031\"/>\n     <use xlink:href=\"#DejaVuSans-31\" x=\"131.494141\"/>\n     <use xlink:href=\"#DejaVuSans-32\" x=\"195.117188\"/>\n    </g>\n   </g>\n   <g id=\"text_47\">\n    <!-- 0.08 -->\n    <g style=\"fill: #ffffff\" transform=\"translate(470.122813 86.784375)scale(0.12 -0.12)\">\n     <defs>\n      <path id=\"DejaVuSans-38\" d=\"M 2034 2216 \nQ 1584 2216 1326 1975 \nQ 1069 1734 1069 1313 \nQ 1069 891 1326 650 \nQ 1584 409 2034 409 \nQ 2484 409 2743 651 \nQ 3003 894 3003 1313 \nQ 3003 1734 2745 1975 \nQ 2488 2216 2034 2216 \nz\nM 1403 2484 \nQ 997 2584 770 2862 \nQ 544 3141 544 3541 \nQ 544 4100 942 4425 \nQ 1341 4750 2034 4750 \nQ 2731 4750 3128 4425 \nQ 3525 4100 3525 3541 \nQ 3525 3141 3298 2862 \nQ 3072 2584 2669 2484 \nQ 3125 2378 3379 2068 \nQ 3634 1759 3634 1313 \nQ 3634 634 3220 271 \nQ 2806 -91 2034 -91 \nQ 1263 -91 848 271 \nQ 434 634 434 1313 \nQ 434 1759 690 2068 \nQ 947 2378 1403 2484 \nz\nM 1172 3481 \nQ 1172 3119 1398 2916 \nQ 1625 2713 2034 2713 \nQ 2441 2713 2670 2916 \nQ 2900 3119 2900 3481 \nQ 2900 3844 2670 4047 \nQ 2441 4250 2034 4250 \nQ 1625 4250 1398 4047 \nQ 1172 3844 1172 3481 \nz\n\" transform=\"scale(0.015625)\"/>\n     </defs>\n     <use xlink:href=\"#DejaVuSans-30\"/>\n     <use xlink:href=\"#DejaVuSans-2e\" x=\"63.623047\"/>\n     <use xlink:href=\"#DejaVuSans-30\" x=\"95.410156\"/>\n     <use xlink:href=\"#DejaVuSans-38\" x=\"159.033203\"/>\n    </g>\n   </g>\n   <g id=\"text_48\">\n    <!-- -0.19 -->\n    <g style=\"fill: #ffffff\" transform=\"translate(501.438125 86.784375)scale(0.12 -0.12)\">\n     <use xlink:href=\"#DejaVuSans-2d\"/>\n     <use xlink:href=\"#DejaVuSans-30\" x=\"36.083984\"/>\n     <use xlink:href=\"#DejaVuSans-2e\" x=\"99.707031\"/>\n     <use xlink:href=\"#DejaVuSans-31\" x=\"131.494141\"/>\n     <use xlink:href=\"#DejaVuSans-39\" x=\"195.117188\"/>\n    </g>\n   </g>\n   <g id=\"text_49\">\n    <!-- 0.01 -->\n    <g style=\"fill: #ffffff\" transform=\"translate(135.322812 127.554375)scale(0.12 -0.12)\">\n     <use xlink:href=\"#DejaVuSans-30\"/>\n     <use xlink:href=\"#DejaVuSans-2e\" x=\"63.623047\"/>\n     <use xlink:href=\"#DejaVuSans-30\" x=\"95.410156\"/>\n     <use xlink:href=\"#DejaVuSans-31\" x=\"159.033203\"/>\n    </g>\n   </g>\n   <g id=\"text_50\">\n    <!-- -0.01 -->\n    <g style=\"fill: #ffffff\" transform=\"translate(166.638125 127.554375)scale(0.12 -0.12)\">\n     <use xlink:href=\"#DejaVuSans-2d\"/>\n     <use xlink:href=\"#DejaVuSans-30\" x=\"36.083984\"/>\n     <use xlink:href=\"#DejaVuSans-2e\" x=\"99.707031\"/>\n     <use xlink:href=\"#DejaVuSans-30\" x=\"131.494141\"/>\n     <use xlink:href=\"#DejaVuSans-31\" x=\"195.117188\"/>\n    </g>\n   </g>\n   <g id=\"text_51\">\n    <!-- 1.00 -->\n    <g style=\"fill: #262626\" transform=\"translate(202.282813 127.554375)scale(0.12 -0.12)\">\n     <use xlink:href=\"#DejaVuSans-31\"/>\n     <use xlink:href=\"#DejaVuSans-2e\" x=\"63.623047\"/>\n     <use xlink:href=\"#DejaVuSans-30\" x=\"95.410156\"/>\n     <use xlink:href=\"#DejaVuSans-30\" x=\"159.033203\"/>\n    </g>\n   </g>\n   <g id=\"text_52\">\n    <!-- -0.21 -->\n    <g style=\"fill: #ffffff\" transform=\"translate(233.598125 127.554375)scale(0.12 -0.12)\">\n     <use xlink:href=\"#DejaVuSans-2d\"/>\n     <use xlink:href=\"#DejaVuSans-30\" x=\"36.083984\"/>\n     <use xlink:href=\"#DejaVuSans-2e\" x=\"99.707031\"/>\n     <use xlink:href=\"#DejaVuSans-32\" x=\"131.494141\"/>\n     <use xlink:href=\"#DejaVuSans-31\" x=\"195.117188\"/>\n    </g>\n   </g>\n   <g id=\"text_53\">\n    <!-- 0.02 -->\n    <g style=\"fill: #ffffff\" transform=\"translate(269.242813 127.554375)scale(0.12 -0.12)\">\n     <use xlink:href=\"#DejaVuSans-30\"/>\n     <use xlink:href=\"#DejaVuSans-2e\" x=\"63.623047\"/>\n     <use xlink:href=\"#DejaVuSans-30\" x=\"95.410156\"/>\n     <use xlink:href=\"#DejaVuSans-32\" x=\"159.033203\"/>\n    </g>\n   </g>\n   <g id=\"text_54\">\n    <!-- 0.01 -->\n    <g style=\"fill: #ffffff\" transform=\"translate(302.722813 127.554375)scale(0.12 -0.12)\">\n     <use xlink:href=\"#DejaVuSans-30\"/>\n     <use xlink:href=\"#DejaVuSans-2e\" x=\"63.623047\"/>\n     <use xlink:href=\"#DejaVuSans-30\" x=\"95.410156\"/>\n     <use xlink:href=\"#DejaVuSans-31\" x=\"159.033203\"/>\n    </g>\n   </g>\n   <g id=\"text_55\">\n    <!-- 0.02 -->\n    <g style=\"fill: #ffffff\" transform=\"translate(336.202813 127.554375)scale(0.12 -0.12)\">\n     <use xlink:href=\"#DejaVuSans-30\"/>\n     <use xlink:href=\"#DejaVuSans-2e\" x=\"63.623047\"/>\n     <use xlink:href=\"#DejaVuSans-30\" x=\"95.410156\"/>\n     <use xlink:href=\"#DejaVuSans-32\" x=\"159.033203\"/>\n    </g>\n   </g>\n   <g id=\"text_56\">\n    <!-- -0.01 -->\n    <g style=\"fill: #ffffff\" transform=\"translate(367.518125 127.554375)scale(0.12 -0.12)\">\n     <use xlink:href=\"#DejaVuSans-2d\"/>\n     <use xlink:href=\"#DejaVuSans-30\" x=\"36.083984\"/>\n     <use xlink:href=\"#DejaVuSans-2e\" x=\"99.707031\"/>\n     <use xlink:href=\"#DejaVuSans-30\" x=\"131.494141\"/>\n     <use xlink:href=\"#DejaVuSans-31\" x=\"195.117188\"/>\n    </g>\n   </g>\n   <g id=\"text_57\">\n    <!-- 0.01 -->\n    <g style=\"fill: #ffffff\" transform=\"translate(403.162813 127.554375)scale(0.12 -0.12)\">\n     <use xlink:href=\"#DejaVuSans-30\"/>\n     <use xlink:href=\"#DejaVuSans-2e\" x=\"63.623047\"/>\n     <use xlink:href=\"#DejaVuSans-30\" x=\"95.410156\"/>\n     <use xlink:href=\"#DejaVuSans-31\" x=\"159.033203\"/>\n    </g>\n   </g>\n   <g id=\"text_58\">\n    <!-- 0.10 -->\n    <g style=\"fill: #ffffff\" transform=\"translate(436.642813 127.554375)scale(0.12 -0.12)\">\n     <use xlink:href=\"#DejaVuSans-30\"/>\n     <use xlink:href=\"#DejaVuSans-2e\" x=\"63.623047\"/>\n     <use xlink:href=\"#DejaVuSans-31\" x=\"95.410156\"/>\n     <use xlink:href=\"#DejaVuSans-30\" x=\"159.033203\"/>\n    </g>\n   </g>\n   <g id=\"text_59\">\n    <!-- 0.16 -->\n    <g style=\"fill: #ffffff\" transform=\"translate(470.122813 127.554375)scale(0.12 -0.12)\">\n     <use xlink:href=\"#DejaVuSans-30\"/>\n     <use xlink:href=\"#DejaVuSans-2e\" x=\"63.623047\"/>\n     <use xlink:href=\"#DejaVuSans-31\" x=\"95.410156\"/>\n     <use xlink:href=\"#DejaVuSans-36\" x=\"159.033203\"/>\n    </g>\n   </g>\n   <g id=\"text_60\">\n    <!-- 0.18 -->\n    <g style=\"fill: #ffffff\" transform=\"translate(503.602813 127.554375)scale(0.12 -0.12)\">\n     <use xlink:href=\"#DejaVuSans-30\"/>\n     <use xlink:href=\"#DejaVuSans-2e\" x=\"63.623047\"/>\n     <use xlink:href=\"#DejaVuSans-31\" x=\"95.410156\"/>\n     <use xlink:href=\"#DejaVuSans-38\" x=\"159.033203\"/>\n    </g>\n   </g>\n   <g id=\"text_61\">\n    <!-- -0.03 -->\n    <g style=\"fill: #ffffff\" transform=\"translate(133.158125 168.324375)scale(0.12 -0.12)\">\n     <use xlink:href=\"#DejaVuSans-2d\"/>\n     <use xlink:href=\"#DejaVuSans-30\" x=\"36.083984\"/>\n     <use xlink:href=\"#DejaVuSans-2e\" x=\"99.707031\"/>\n     <use xlink:href=\"#DejaVuSans-30\" x=\"131.494141\"/>\n     <use xlink:href=\"#DejaVuSans-33\" x=\"195.117188\"/>\n    </g>\n   </g>\n   <g id=\"text_62\">\n    <!-- 0.06 -->\n    <g style=\"fill: #ffffff\" transform=\"translate(168.802812 168.324375)scale(0.12 -0.12)\">\n     <use xlink:href=\"#DejaVuSans-30\"/>\n     <use xlink:href=\"#DejaVuSans-2e\" x=\"63.623047\"/>\n     <use xlink:href=\"#DejaVuSans-30\" x=\"95.410156\"/>\n     <use xlink:href=\"#DejaVuSans-36\" x=\"159.033203\"/>\n    </g>\n   </g>\n   <g id=\"text_63\">\n    <!-- -0.21 -->\n    <g style=\"fill: #ffffff\" transform=\"translate(200.118125 168.324375)scale(0.12 -0.12)\">\n     <use xlink:href=\"#DejaVuSans-2d\"/>\n     <use xlink:href=\"#DejaVuSans-30\" x=\"36.083984\"/>\n     <use xlink:href=\"#DejaVuSans-2e\" x=\"99.707031\"/>\n     <use xlink:href=\"#DejaVuSans-32\" x=\"131.494141\"/>\n     <use xlink:href=\"#DejaVuSans-31\" x=\"195.117188\"/>\n    </g>\n   </g>\n   <g id=\"text_64\">\n    <!-- 1.00 -->\n    <g style=\"fill: #262626\" transform=\"translate(235.762812 168.324375)scale(0.12 -0.12)\">\n     <use xlink:href=\"#DejaVuSans-31\"/>\n     <use xlink:href=\"#DejaVuSans-2e\" x=\"63.623047\"/>\n     <use xlink:href=\"#DejaVuSans-30\" x=\"95.410156\"/>\n     <use xlink:href=\"#DejaVuSans-30\" x=\"159.033203\"/>\n    </g>\n   </g>\n   <g id=\"text_65\">\n    <!-- -0.09 -->\n    <g style=\"fill: #ffffff\" transform=\"translate(267.078125 168.324375)scale(0.12 -0.12)\">\n     <use xlink:href=\"#DejaVuSans-2d\"/>\n     <use xlink:href=\"#DejaVuSans-30\" x=\"36.083984\"/>\n     <use xlink:href=\"#DejaVuSans-2e\" x=\"99.707031\"/>\n     <use xlink:href=\"#DejaVuSans-30\" x=\"131.494141\"/>\n     <use xlink:href=\"#DejaVuSans-39\" x=\"195.117188\"/>\n    </g>\n   </g>\n   <g id=\"text_66\">\n    <!-- -0.03 -->\n    <g style=\"fill: #ffffff\" transform=\"translate(300.558125 168.324375)scale(0.12 -0.12)\">\n     <use xlink:href=\"#DejaVuSans-2d\"/>\n     <use xlink:href=\"#DejaVuSans-30\" x=\"36.083984\"/>\n     <use xlink:href=\"#DejaVuSans-2e\" x=\"99.707031\"/>\n     <use xlink:href=\"#DejaVuSans-30\" x=\"131.494141\"/>\n     <use xlink:href=\"#DejaVuSans-33\" x=\"195.117188\"/>\n    </g>\n   </g>\n   <g id=\"text_67\">\n    <!-- -0.00 -->\n    <g style=\"fill: #ffffff\" transform=\"translate(334.038125 168.324375)scale(0.12 -0.12)\">\n     <use xlink:href=\"#DejaVuSans-2d\"/>\n     <use xlink:href=\"#DejaVuSans-30\" x=\"36.083984\"/>\n     <use xlink:href=\"#DejaVuSans-2e\" x=\"99.707031\"/>\n     <use xlink:href=\"#DejaVuSans-30\" x=\"131.494141\"/>\n     <use xlink:href=\"#DejaVuSans-30\" x=\"195.117188\"/>\n    </g>\n   </g>\n   <g id=\"text_68\">\n    <!-- 0.04 -->\n    <g style=\"fill: #ffffff\" transform=\"translate(369.682813 168.324375)scale(0.12 -0.12)\">\n     <use xlink:href=\"#DejaVuSans-30\"/>\n     <use xlink:href=\"#DejaVuSans-2e\" x=\"63.623047\"/>\n     <use xlink:href=\"#DejaVuSans-30\" x=\"95.410156\"/>\n     <use xlink:href=\"#DejaVuSans-34\" x=\"159.033203\"/>\n    </g>\n   </g>\n   <g id=\"text_69\">\n    <!-- -0.04 -->\n    <g style=\"fill: #ffffff\" transform=\"translate(400.998125 168.324375)scale(0.12 -0.12)\">\n     <use xlink:href=\"#DejaVuSans-2d\"/>\n     <use xlink:href=\"#DejaVuSans-30\" x=\"36.083984\"/>\n     <use xlink:href=\"#DejaVuSans-2e\" x=\"99.707031\"/>\n     <use xlink:href=\"#DejaVuSans-30\" x=\"131.494141\"/>\n     <use xlink:href=\"#DejaVuSans-34\" x=\"195.117188\"/>\n    </g>\n   </g>\n   <g id=\"text_70\">\n    <!-- -0.15 -->\n    <g style=\"fill: #ffffff\" transform=\"translate(434.478125 168.324375)scale(0.12 -0.12)\">\n     <use xlink:href=\"#DejaVuSans-2d\"/>\n     <use xlink:href=\"#DejaVuSans-30\" x=\"36.083984\"/>\n     <use xlink:href=\"#DejaVuSans-2e\" x=\"99.707031\"/>\n     <use xlink:href=\"#DejaVuSans-31\" x=\"131.494141\"/>\n     <use xlink:href=\"#DejaVuSans-35\" x=\"195.117188\"/>\n    </g>\n   </g>\n   <g id=\"text_71\">\n    <!-- -0.01 -->\n    <g style=\"fill: #ffffff\" transform=\"translate(467.958125 168.324375)scale(0.12 -0.12)\">\n     <use xlink:href=\"#DejaVuSans-2d\"/>\n     <use xlink:href=\"#DejaVuSans-30\" x=\"36.083984\"/>\n     <use xlink:href=\"#DejaVuSans-2e\" x=\"99.707031\"/>\n     <use xlink:href=\"#DejaVuSans-30\" x=\"131.494141\"/>\n     <use xlink:href=\"#DejaVuSans-31\" x=\"195.117188\"/>\n    </g>\n   </g>\n   <g id=\"text_72\">\n    <!-- -0.27 -->\n    <g style=\"fill: #ffffff\" transform=\"translate(501.438125 168.324375)scale(0.12 -0.12)\">\n     <use xlink:href=\"#DejaVuSans-2d\"/>\n     <use xlink:href=\"#DejaVuSans-30\" x=\"36.083984\"/>\n     <use xlink:href=\"#DejaVuSans-2e\" x=\"99.707031\"/>\n     <use xlink:href=\"#DejaVuSans-32\" x=\"131.494141\"/>\n     <use xlink:href=\"#DejaVuSans-37\" x=\"195.117188\"/>\n    </g>\n   </g>\n   <g id=\"text_73\">\n    <!-- -0.06 -->\n    <g style=\"fill: #ffffff\" transform=\"translate(133.158125 209.094375)scale(0.12 -0.12)\">\n     <use xlink:href=\"#DejaVuSans-2d\"/>\n     <use xlink:href=\"#DejaVuSans-30\" x=\"36.083984\"/>\n     <use xlink:href=\"#DejaVuSans-2e\" x=\"99.707031\"/>\n     <use xlink:href=\"#DejaVuSans-30\" x=\"131.494141\"/>\n     <use xlink:href=\"#DejaVuSans-36\" x=\"195.117188\"/>\n    </g>\n   </g>\n   <g id=\"text_74\">\n    <!-- 0.19 -->\n    <g style=\"fill: #ffffff\" transform=\"translate(168.802812 209.094375)scale(0.12 -0.12)\">\n     <use xlink:href=\"#DejaVuSans-30\"/>\n     <use xlink:href=\"#DejaVuSans-2e\" x=\"63.623047\"/>\n     <use xlink:href=\"#DejaVuSans-31\" x=\"95.410156\"/>\n     <use xlink:href=\"#DejaVuSans-39\" x=\"159.033203\"/>\n    </g>\n   </g>\n   <g id=\"text_75\">\n    <!-- 0.02 -->\n    <g style=\"fill: #ffffff\" transform=\"translate(202.282813 209.094375)scale(0.12 -0.12)\">\n     <use xlink:href=\"#DejaVuSans-30\"/>\n     <use xlink:href=\"#DejaVuSans-2e\" x=\"63.623047\"/>\n     <use xlink:href=\"#DejaVuSans-30\" x=\"95.410156\"/>\n     <use xlink:href=\"#DejaVuSans-32\" x=\"159.033203\"/>\n    </g>\n   </g>\n   <g id=\"text_76\">\n    <!-- -0.09 -->\n    <g style=\"fill: #ffffff\" transform=\"translate(233.598125 209.094375)scale(0.12 -0.12)\">\n     <use xlink:href=\"#DejaVuSans-2d\"/>\n     <use xlink:href=\"#DejaVuSans-30\" x=\"36.083984\"/>\n     <use xlink:href=\"#DejaVuSans-2e\" x=\"99.707031\"/>\n     <use xlink:href=\"#DejaVuSans-30\" x=\"131.494141\"/>\n     <use xlink:href=\"#DejaVuSans-39\" x=\"195.117188\"/>\n    </g>\n   </g>\n   <g id=\"text_77\">\n    <!-- 1.00 -->\n    <g style=\"fill: #262626\" transform=\"translate(269.242813 209.094375)scale(0.12 -0.12)\">\n     <use xlink:href=\"#DejaVuSans-31\"/>\n     <use xlink:href=\"#DejaVuSans-2e\" x=\"63.623047\"/>\n     <use xlink:href=\"#DejaVuSans-30\" x=\"95.410156\"/>\n     <use xlink:href=\"#DejaVuSans-30\" x=\"159.033203\"/>\n    </g>\n   </g>\n   <g id=\"text_78\">\n    <!-- 0.14 -->\n    <g style=\"fill: #ffffff\" transform=\"translate(302.722813 209.094375)scale(0.12 -0.12)\">\n     <use xlink:href=\"#DejaVuSans-30\"/>\n     <use xlink:href=\"#DejaVuSans-2e\" x=\"63.623047\"/>\n     <use xlink:href=\"#DejaVuSans-31\" x=\"95.410156\"/>\n     <use xlink:href=\"#DejaVuSans-34\" x=\"159.033203\"/>\n    </g>\n   </g>\n   <g id=\"text_79\">\n    <!-- 0.11 -->\n    <g style=\"fill: #ffffff\" transform=\"translate(336.202813 209.094375)scale(0.12 -0.12)\">\n     <use xlink:href=\"#DejaVuSans-30\"/>\n     <use xlink:href=\"#DejaVuSans-2e\" x=\"63.623047\"/>\n     <use xlink:href=\"#DejaVuSans-31\" x=\"95.410156\"/>\n     <use xlink:href=\"#DejaVuSans-31\" x=\"159.033203\"/>\n    </g>\n   </g>\n   <g id=\"text_80\">\n    <!-- 0.09 -->\n    <g style=\"fill: #ffffff\" transform=\"translate(369.682813 209.094375)scale(0.12 -0.12)\">\n     <use xlink:href=\"#DejaVuSans-30\"/>\n     <use xlink:href=\"#DejaVuSans-2e\" x=\"63.623047\"/>\n     <use xlink:href=\"#DejaVuSans-30\" x=\"95.410156\"/>\n     <use xlink:href=\"#DejaVuSans-39\" x=\"159.033203\"/>\n    </g>\n   </g>\n   <g id=\"text_81\">\n    <!-- 0.12 -->\n    <g style=\"fill: #ffffff\" transform=\"translate(403.162813 209.094375)scale(0.12 -0.12)\">\n     <use xlink:href=\"#DejaVuSans-30\"/>\n     <use xlink:href=\"#DejaVuSans-2e\" x=\"63.623047\"/>\n     <use xlink:href=\"#DejaVuSans-31\" x=\"95.410156\"/>\n     <use xlink:href=\"#DejaVuSans-32\" x=\"159.033203\"/>\n    </g>\n   </g>\n   <g id=\"text_82\">\n    <!-- -0.09 -->\n    <g style=\"fill: #ffffff\" transform=\"translate(434.478125 209.094375)scale(0.12 -0.12)\">\n     <use xlink:href=\"#DejaVuSans-2d\"/>\n     <use xlink:href=\"#DejaVuSans-30\" x=\"36.083984\"/>\n     <use xlink:href=\"#DejaVuSans-2e\" x=\"99.707031\"/>\n     <use xlink:href=\"#DejaVuSans-30\" x=\"131.494141\"/>\n     <use xlink:href=\"#DejaVuSans-39\" x=\"195.117188\"/>\n    </g>\n   </g>\n   <g id=\"text_83\">\n    <!-- -0.08 -->\n    <g style=\"fill: #ffffff\" transform=\"translate(467.958125 209.094375)scale(0.12 -0.12)\">\n     <use xlink:href=\"#DejaVuSans-2d\"/>\n     <use xlink:href=\"#DejaVuSans-30\" x=\"36.083984\"/>\n     <use xlink:href=\"#DejaVuSans-2e\" x=\"99.707031\"/>\n     <use xlink:href=\"#DejaVuSans-30\" x=\"131.494141\"/>\n     <use xlink:href=\"#DejaVuSans-38\" x=\"195.117188\"/>\n    </g>\n   </g>\n   <g id=\"text_84\">\n    <!-- -0.15 -->\n    <g style=\"fill: #ffffff\" transform=\"translate(501.438125 209.094375)scale(0.12 -0.12)\">\n     <use xlink:href=\"#DejaVuSans-2d\"/>\n     <use xlink:href=\"#DejaVuSans-30\" x=\"36.083984\"/>\n     <use xlink:href=\"#DejaVuSans-2e\" x=\"99.707031\"/>\n     <use xlink:href=\"#DejaVuSans-31\" x=\"131.494141\"/>\n     <use xlink:href=\"#DejaVuSans-35\" x=\"195.117188\"/>\n    </g>\n   </g>\n   <g id=\"text_85\">\n    <!-- -0.06 -->\n    <g style=\"fill: #ffffff\" transform=\"translate(133.158125 249.864375)scale(0.12 -0.12)\">\n     <use xlink:href=\"#DejaVuSans-2d\"/>\n     <use xlink:href=\"#DejaVuSans-30\" x=\"36.083984\"/>\n     <use xlink:href=\"#DejaVuSans-2e\" x=\"99.707031\"/>\n     <use xlink:href=\"#DejaVuSans-30\" x=\"131.494141\"/>\n     <use xlink:href=\"#DejaVuSans-36\" x=\"195.117188\"/>\n    </g>\n   </g>\n   <g id=\"text_86\">\n    <!-- 0.67 -->\n    <g style=\"fill: #262626\" transform=\"translate(168.802812 249.864375)scale(0.12 -0.12)\">\n     <use xlink:href=\"#DejaVuSans-30\"/>\n     <use xlink:href=\"#DejaVuSans-2e\" x=\"63.623047\"/>\n     <use xlink:href=\"#DejaVuSans-36\" x=\"95.410156\"/>\n     <use xlink:href=\"#DejaVuSans-37\" x=\"159.033203\"/>\n    </g>\n   </g>\n   <g id=\"text_87\">\n    <!-- 0.01 -->\n    <g style=\"fill: #ffffff\" transform=\"translate(202.282813 249.864375)scale(0.12 -0.12)\">\n     <use xlink:href=\"#DejaVuSans-30\"/>\n     <use xlink:href=\"#DejaVuSans-2e\" x=\"63.623047\"/>\n     <use xlink:href=\"#DejaVuSans-30\" x=\"95.410156\"/>\n     <use xlink:href=\"#DejaVuSans-31\" x=\"159.033203\"/>\n    </g>\n   </g>\n   <g id=\"text_88\">\n    <!-- -0.03 -->\n    <g style=\"fill: #ffffff\" transform=\"translate(233.598125 249.864375)scale(0.12 -0.12)\">\n     <use xlink:href=\"#DejaVuSans-2d\"/>\n     <use xlink:href=\"#DejaVuSans-30\" x=\"36.083984\"/>\n     <use xlink:href=\"#DejaVuSans-2e\" x=\"99.707031\"/>\n     <use xlink:href=\"#DejaVuSans-30\" x=\"131.494141\"/>\n     <use xlink:href=\"#DejaVuSans-33\" x=\"195.117188\"/>\n    </g>\n   </g>\n   <g id=\"text_89\">\n    <!-- 0.14 -->\n    <g style=\"fill: #ffffff\" transform=\"translate(269.242813 249.864375)scale(0.12 -0.12)\">\n     <use xlink:href=\"#DejaVuSans-30\"/>\n     <use xlink:href=\"#DejaVuSans-2e\" x=\"63.623047\"/>\n     <use xlink:href=\"#DejaVuSans-31\" x=\"95.410156\"/>\n     <use xlink:href=\"#DejaVuSans-34\" x=\"159.033203\"/>\n    </g>\n   </g>\n   <g id=\"text_90\">\n    <!-- 1.00 -->\n    <g style=\"fill: #262626\" transform=\"translate(302.722813 249.864375)scale(0.12 -0.12)\">\n     <use xlink:href=\"#DejaVuSans-31\"/>\n     <use xlink:href=\"#DejaVuSans-2e\" x=\"63.623047\"/>\n     <use xlink:href=\"#DejaVuSans-30\" x=\"95.410156\"/>\n     <use xlink:href=\"#DejaVuSans-30\" x=\"159.033203\"/>\n    </g>\n   </g>\n   <g id=\"text_91\">\n    <!-- 0.50 -->\n    <g style=\"fill: #ffffff\" transform=\"translate(336.202813 249.864375)scale(0.12 -0.12)\">\n     <use xlink:href=\"#DejaVuSans-30\"/>\n     <use xlink:href=\"#DejaVuSans-2e\" x=\"63.623047\"/>\n     <use xlink:href=\"#DejaVuSans-35\" x=\"95.410156\"/>\n     <use xlink:href=\"#DejaVuSans-30\" x=\"159.033203\"/>\n    </g>\n   </g>\n   <g id=\"text_92\">\n    <!-- 0.77 -->\n    <g style=\"fill: #262626\" transform=\"translate(369.682813 249.864375)scale(0.12 -0.12)\">\n     <use xlink:href=\"#DejaVuSans-30\"/>\n     <use xlink:href=\"#DejaVuSans-2e\" x=\"63.623047\"/>\n     <use xlink:href=\"#DejaVuSans-37\" x=\"95.410156\"/>\n     <use xlink:href=\"#DejaVuSans-37\" x=\"159.033203\"/>\n    </g>\n   </g>\n   <g id=\"text_93\">\n    <!-- 0.86 -->\n    <g style=\"fill: #262626\" transform=\"translate(403.162813 249.864375)scale(0.12 -0.12)\">\n     <use xlink:href=\"#DejaVuSans-30\"/>\n     <use xlink:href=\"#DejaVuSans-2e\" x=\"63.623047\"/>\n     <use xlink:href=\"#DejaVuSans-38\" x=\"95.410156\"/>\n     <use xlink:href=\"#DejaVuSans-36\" x=\"159.033203\"/>\n    </g>\n   </g>\n   <g id=\"text_94\">\n    <!-- -0.10 -->\n    <g style=\"fill: #ffffff\" transform=\"translate(434.478125 249.864375)scale(0.12 -0.12)\">\n     <use xlink:href=\"#DejaVuSans-2d\"/>\n     <use xlink:href=\"#DejaVuSans-30\" x=\"36.083984\"/>\n     <use xlink:href=\"#DejaVuSans-2e\" x=\"99.707031\"/>\n     <use xlink:href=\"#DejaVuSans-31\" x=\"131.494141\"/>\n     <use xlink:href=\"#DejaVuSans-30\" x=\"195.117188\"/>\n    </g>\n   </g>\n   <g id=\"text_95\">\n    <!-- -0.01 -->\n    <g style=\"fill: #ffffff\" transform=\"translate(467.958125 249.864375)scale(0.12 -0.12)\">\n     <use xlink:href=\"#DejaVuSans-2d\"/>\n     <use xlink:href=\"#DejaVuSans-30\" x=\"36.083984\"/>\n     <use xlink:href=\"#DejaVuSans-2e\" x=\"99.707031\"/>\n     <use xlink:href=\"#DejaVuSans-30\" x=\"131.494141\"/>\n     <use xlink:href=\"#DejaVuSans-31\" x=\"195.117188\"/>\n    </g>\n   </g>\n   <g id=\"text_96\">\n    <!-- -0.14 -->\n    <g style=\"fill: #ffffff\" transform=\"translate(501.438125 249.864375)scale(0.12 -0.12)\">\n     <use xlink:href=\"#DejaVuSans-2d\"/>\n     <use xlink:href=\"#DejaVuSans-30\" x=\"36.083984\"/>\n     <use xlink:href=\"#DejaVuSans-2e\" x=\"99.707031\"/>\n     <use xlink:href=\"#DejaVuSans-31\" x=\"131.494141\"/>\n     <use xlink:href=\"#DejaVuSans-34\" x=\"195.117188\"/>\n    </g>\n   </g>\n   <g id=\"text_97\">\n    <!-- -0.05 -->\n    <g style=\"fill: #ffffff\" transform=\"translate(133.158125 290.634375)scale(0.12 -0.12)\">\n     <use xlink:href=\"#DejaVuSans-2d\"/>\n     <use xlink:href=\"#DejaVuSans-30\" x=\"36.083984\"/>\n     <use xlink:href=\"#DejaVuSans-2e\" x=\"99.707031\"/>\n     <use xlink:href=\"#DejaVuSans-30\" x=\"131.494141\"/>\n     <use xlink:href=\"#DejaVuSans-35\" x=\"195.117188\"/>\n    </g>\n   </g>\n   <g id=\"text_98\">\n    <!-- 0.53 -->\n    <g style=\"fill: #ffffff\" transform=\"translate(168.802812 290.634375)scale(0.12 -0.12)\">\n     <use xlink:href=\"#DejaVuSans-30\"/>\n     <use xlink:href=\"#DejaVuSans-2e\" x=\"63.623047\"/>\n     <use xlink:href=\"#DejaVuSans-35\" x=\"95.410156\"/>\n     <use xlink:href=\"#DejaVuSans-33\" x=\"159.033203\"/>\n    </g>\n   </g>\n   <g id=\"text_99\">\n    <!-- 0.02 -->\n    <g style=\"fill: #ffffff\" transform=\"translate(202.282813 290.634375)scale(0.12 -0.12)\">\n     <use xlink:href=\"#DejaVuSans-30\"/>\n     <use xlink:href=\"#DejaVuSans-2e\" x=\"63.623047\"/>\n     <use xlink:href=\"#DejaVuSans-30\" x=\"95.410156\"/>\n     <use xlink:href=\"#DejaVuSans-32\" x=\"159.033203\"/>\n    </g>\n   </g>\n   <g id=\"text_100\">\n    <!-- -0.00 -->\n    <g style=\"fill: #ffffff\" transform=\"translate(233.598125 290.634375)scale(0.12 -0.12)\">\n     <use xlink:href=\"#DejaVuSans-2d\"/>\n     <use xlink:href=\"#DejaVuSans-30\" x=\"36.083984\"/>\n     <use xlink:href=\"#DejaVuSans-2e\" x=\"99.707031\"/>\n     <use xlink:href=\"#DejaVuSans-30\" x=\"131.494141\"/>\n     <use xlink:href=\"#DejaVuSans-30\" x=\"195.117188\"/>\n    </g>\n   </g>\n   <g id=\"text_101\">\n    <!-- 0.11 -->\n    <g style=\"fill: #ffffff\" transform=\"translate(269.242813 290.634375)scale(0.12 -0.12)\">\n     <use xlink:href=\"#DejaVuSans-30\"/>\n     <use xlink:href=\"#DejaVuSans-2e\" x=\"63.623047\"/>\n     <use xlink:href=\"#DejaVuSans-31\" x=\"95.410156\"/>\n     <use xlink:href=\"#DejaVuSans-31\" x=\"159.033203\"/>\n    </g>\n   </g>\n   <g id=\"text_102\">\n    <!-- 0.50 -->\n    <g style=\"fill: #ffffff\" transform=\"translate(302.722813 290.634375)scale(0.12 -0.12)\">\n     <use xlink:href=\"#DejaVuSans-30\"/>\n     <use xlink:href=\"#DejaVuSans-2e\" x=\"63.623047\"/>\n     <use xlink:href=\"#DejaVuSans-35\" x=\"95.410156\"/>\n     <use xlink:href=\"#DejaVuSans-30\" x=\"159.033203\"/>\n    </g>\n   </g>\n   <g id=\"text_103\">\n    <!-- 1.00 -->\n    <g style=\"fill: #262626\" transform=\"translate(336.202813 290.634375)scale(0.12 -0.12)\">\n     <use xlink:href=\"#DejaVuSans-31\"/>\n     <use xlink:href=\"#DejaVuSans-2e\" x=\"63.623047\"/>\n     <use xlink:href=\"#DejaVuSans-30\" x=\"95.410156\"/>\n     <use xlink:href=\"#DejaVuSans-30\" x=\"159.033203\"/>\n    </g>\n   </g>\n   <g id=\"text_104\">\n    <!-- 0.59 -->\n    <g style=\"fill: #262626\" transform=\"translate(369.682813 290.634375)scale(0.12 -0.12)\">\n     <use xlink:href=\"#DejaVuSans-30\"/>\n     <use xlink:href=\"#DejaVuSans-2e\" x=\"63.623047\"/>\n     <use xlink:href=\"#DejaVuSans-35\" x=\"95.410156\"/>\n     <use xlink:href=\"#DejaVuSans-39\" x=\"159.033203\"/>\n    </g>\n   </g>\n   <g id=\"text_105\">\n    <!-- 0.50 -->\n    <g style=\"fill: #ffffff\" transform=\"translate(403.162813 290.634375)scale(0.12 -0.12)\">\n     <use xlink:href=\"#DejaVuSans-30\"/>\n     <use xlink:href=\"#DejaVuSans-2e\" x=\"63.623047\"/>\n     <use xlink:href=\"#DejaVuSans-35\" x=\"95.410156\"/>\n     <use xlink:href=\"#DejaVuSans-30\" x=\"159.033203\"/>\n    </g>\n   </g>\n   <g id=\"text_106\">\n    <!-- -0.09 -->\n    <g style=\"fill: #ffffff\" transform=\"translate(434.478125 290.634375)scale(0.12 -0.12)\">\n     <use xlink:href=\"#DejaVuSans-2d\"/>\n     <use xlink:href=\"#DejaVuSans-30\" x=\"36.083984\"/>\n     <use xlink:href=\"#DejaVuSans-2e\" x=\"99.707031\"/>\n     <use xlink:href=\"#DejaVuSans-30\" x=\"131.494141\"/>\n     <use xlink:href=\"#DejaVuSans-39\" x=\"195.117188\"/>\n    </g>\n   </g>\n   <g id=\"text_107\">\n    <!-- 0.06 -->\n    <g style=\"fill: #ffffff\" transform=\"translate(470.122813 290.634375)scale(0.12 -0.12)\">\n     <use xlink:href=\"#DejaVuSans-30\"/>\n     <use xlink:href=\"#DejaVuSans-2e\" x=\"63.623047\"/>\n     <use xlink:href=\"#DejaVuSans-30\" x=\"95.410156\"/>\n     <use xlink:href=\"#DejaVuSans-36\" x=\"159.033203\"/>\n    </g>\n   </g>\n   <g id=\"text_108\">\n    <!-- -0.15 -->\n    <g style=\"fill: #ffffff\" transform=\"translate(501.438125 290.634375)scale(0.12 -0.12)\">\n     <use xlink:href=\"#DejaVuSans-2d\"/>\n     <use xlink:href=\"#DejaVuSans-30\" x=\"36.083984\"/>\n     <use xlink:href=\"#DejaVuSans-2e\" x=\"99.707031\"/>\n     <use xlink:href=\"#DejaVuSans-31\" x=\"131.494141\"/>\n     <use xlink:href=\"#DejaVuSans-35\" x=\"195.117188\"/>\n    </g>\n   </g>\n   <g id=\"text_109\">\n    <!-- -0.06 -->\n    <g style=\"fill: #ffffff\" transform=\"translate(133.158125 331.404375)scale(0.12 -0.12)\">\n     <use xlink:href=\"#DejaVuSans-2d\"/>\n     <use xlink:href=\"#DejaVuSans-30\" x=\"36.083984\"/>\n     <use xlink:href=\"#DejaVuSans-2e\" x=\"99.707031\"/>\n     <use xlink:href=\"#DejaVuSans-30\" x=\"131.494141\"/>\n     <use xlink:href=\"#DejaVuSans-36\" x=\"195.117188\"/>\n    </g>\n   </g>\n   <g id=\"text_110\">\n    <!-- 0.63 -->\n    <g style=\"fill: #262626\" transform=\"translate(168.802812 331.404375)scale(0.12 -0.12)\">\n     <use xlink:href=\"#DejaVuSans-30\"/>\n     <use xlink:href=\"#DejaVuSans-2e\" x=\"63.623047\"/>\n     <use xlink:href=\"#DejaVuSans-36\" x=\"95.410156\"/>\n     <use xlink:href=\"#DejaVuSans-33\" x=\"159.033203\"/>\n    </g>\n   </g>\n   <g id=\"text_111\">\n    <!-- -0.01 -->\n    <g style=\"fill: #ffffff\" transform=\"translate(200.118125 331.404375)scale(0.12 -0.12)\">\n     <use xlink:href=\"#DejaVuSans-2d\"/>\n     <use xlink:href=\"#DejaVuSans-30\" x=\"36.083984\"/>\n     <use xlink:href=\"#DejaVuSans-2e\" x=\"99.707031\"/>\n     <use xlink:href=\"#DejaVuSans-30\" x=\"131.494141\"/>\n     <use xlink:href=\"#DejaVuSans-31\" x=\"195.117188\"/>\n    </g>\n   </g>\n   <g id=\"text_112\">\n    <!-- 0.04 -->\n    <g style=\"fill: #ffffff\" transform=\"translate(235.762812 331.404375)scale(0.12 -0.12)\">\n     <use xlink:href=\"#DejaVuSans-30\"/>\n     <use xlink:href=\"#DejaVuSans-2e\" x=\"63.623047\"/>\n     <use xlink:href=\"#DejaVuSans-30\" x=\"95.410156\"/>\n     <use xlink:href=\"#DejaVuSans-34\" x=\"159.033203\"/>\n    </g>\n   </g>\n   <g id=\"text_113\">\n    <!-- 0.09 -->\n    <g style=\"fill: #ffffff\" transform=\"translate(269.242813 331.404375)scale(0.12 -0.12)\">\n     <use xlink:href=\"#DejaVuSans-30\"/>\n     <use xlink:href=\"#DejaVuSans-2e\" x=\"63.623047\"/>\n     <use xlink:href=\"#DejaVuSans-30\" x=\"95.410156\"/>\n     <use xlink:href=\"#DejaVuSans-39\" x=\"159.033203\"/>\n    </g>\n   </g>\n   <g id=\"text_114\">\n    <!-- 0.77 -->\n    <g style=\"fill: #262626\" transform=\"translate(302.722813 331.404375)scale(0.12 -0.12)\">\n     <use xlink:href=\"#DejaVuSans-30\"/>\n     <use xlink:href=\"#DejaVuSans-2e\" x=\"63.623047\"/>\n     <use xlink:href=\"#DejaVuSans-37\" x=\"95.410156\"/>\n     <use xlink:href=\"#DejaVuSans-37\" x=\"159.033203\"/>\n    </g>\n   </g>\n   <g id=\"text_115\">\n    <!-- 0.59 -->\n    <g style=\"fill: #262626\" transform=\"translate(336.202813 331.404375)scale(0.12 -0.12)\">\n     <use xlink:href=\"#DejaVuSans-30\"/>\n     <use xlink:href=\"#DejaVuSans-2e\" x=\"63.623047\"/>\n     <use xlink:href=\"#DejaVuSans-35\" x=\"95.410156\"/>\n     <use xlink:href=\"#DejaVuSans-39\" x=\"159.033203\"/>\n    </g>\n   </g>\n   <g id=\"text_116\">\n    <!-- 1.00 -->\n    <g style=\"fill: #262626\" transform=\"translate(369.682813 331.404375)scale(0.12 -0.12)\">\n     <use xlink:href=\"#DejaVuSans-31\"/>\n     <use xlink:href=\"#DejaVuSans-2e\" x=\"63.623047\"/>\n     <use xlink:href=\"#DejaVuSans-30\" x=\"95.410156\"/>\n     <use xlink:href=\"#DejaVuSans-30\" x=\"159.033203\"/>\n    </g>\n   </g>\n   <g id=\"text_117\">\n    <!-- 0.75 -->\n    <g style=\"fill: #262626\" transform=\"translate(403.162813 331.404375)scale(0.12 -0.12)\">\n     <use xlink:href=\"#DejaVuSans-30\"/>\n     <use xlink:href=\"#DejaVuSans-2e\" x=\"63.623047\"/>\n     <use xlink:href=\"#DejaVuSans-37\" x=\"95.410156\"/>\n     <use xlink:href=\"#DejaVuSans-35\" x=\"159.033203\"/>\n    </g>\n   </g>\n   <g id=\"text_118\">\n    <!-- -0.12 -->\n    <g style=\"fill: #ffffff\" transform=\"translate(434.478125 331.404375)scale(0.12 -0.12)\">\n     <use xlink:href=\"#DejaVuSans-2d\"/>\n     <use xlink:href=\"#DejaVuSans-30\" x=\"36.083984\"/>\n     <use xlink:href=\"#DejaVuSans-2e\" x=\"99.707031\"/>\n     <use xlink:href=\"#DejaVuSans-31\" x=\"131.494141\"/>\n     <use xlink:href=\"#DejaVuSans-32\" x=\"195.117188\"/>\n    </g>\n   </g>\n   <g id=\"text_119\">\n    <!-- 0.03 -->\n    <g style=\"fill: #ffffff\" transform=\"translate(470.122813 331.404375)scale(0.12 -0.12)\">\n     <use xlink:href=\"#DejaVuSans-30\"/>\n     <use xlink:href=\"#DejaVuSans-2e\" x=\"63.623047\"/>\n     <use xlink:href=\"#DejaVuSans-30\" x=\"95.410156\"/>\n     <use xlink:href=\"#DejaVuSans-33\" x=\"159.033203\"/>\n    </g>\n   </g>\n   <g id=\"text_120\">\n    <!-- -0.21 -->\n    <g style=\"fill: #ffffff\" transform=\"translate(501.438125 331.404375)scale(0.12 -0.12)\">\n     <use xlink:href=\"#DejaVuSans-2d\"/>\n     <use xlink:href=\"#DejaVuSans-30\" x=\"36.083984\"/>\n     <use xlink:href=\"#DejaVuSans-2e\" x=\"99.707031\"/>\n     <use xlink:href=\"#DejaVuSans-32\" x=\"131.494141\"/>\n     <use xlink:href=\"#DejaVuSans-31\" x=\"195.117188\"/>\n    </g>\n   </g>\n   <g id=\"text_121\">\n    <!-- -0.04 -->\n    <g style=\"fill: #ffffff\" transform=\"translate(133.158125 372.174375)scale(0.12 -0.12)\">\n     <use xlink:href=\"#DejaVuSans-2d\"/>\n     <use xlink:href=\"#DejaVuSans-30\" x=\"36.083984\"/>\n     <use xlink:href=\"#DejaVuSans-2e\" x=\"99.707031\"/>\n     <use xlink:href=\"#DejaVuSans-30\" x=\"131.494141\"/>\n     <use xlink:href=\"#DejaVuSans-34\" x=\"195.117188\"/>\n    </g>\n   </g>\n   <g id=\"text_122\">\n    <!-- 0.61 -->\n    <g style=\"fill: #262626\" transform=\"translate(168.802812 372.174375)scale(0.12 -0.12)\">\n     <use xlink:href=\"#DejaVuSans-30\"/>\n     <use xlink:href=\"#DejaVuSans-2e\" x=\"63.623047\"/>\n     <use xlink:href=\"#DejaVuSans-36\" x=\"95.410156\"/>\n     <use xlink:href=\"#DejaVuSans-31\" x=\"159.033203\"/>\n    </g>\n   </g>\n   <g id=\"text_123\">\n    <!-- 0.01 -->\n    <g style=\"fill: #ffffff\" transform=\"translate(202.282813 372.174375)scale(0.12 -0.12)\">\n     <use xlink:href=\"#DejaVuSans-30\"/>\n     <use xlink:href=\"#DejaVuSans-2e\" x=\"63.623047\"/>\n     <use xlink:href=\"#DejaVuSans-30\" x=\"95.410156\"/>\n     <use xlink:href=\"#DejaVuSans-31\" x=\"159.033203\"/>\n    </g>\n   </g>\n   <g id=\"text_124\">\n    <!-- -0.04 -->\n    <g style=\"fill: #ffffff\" transform=\"translate(233.598125 372.174375)scale(0.12 -0.12)\">\n     <use xlink:href=\"#DejaVuSans-2d\"/>\n     <use xlink:href=\"#DejaVuSans-30\" x=\"36.083984\"/>\n     <use xlink:href=\"#DejaVuSans-2e\" x=\"99.707031\"/>\n     <use xlink:href=\"#DejaVuSans-30\" x=\"131.494141\"/>\n     <use xlink:href=\"#DejaVuSans-34\" x=\"195.117188\"/>\n    </g>\n   </g>\n   <g id=\"text_125\">\n    <!-- 0.12 -->\n    <g style=\"fill: #ffffff\" transform=\"translate(269.242813 372.174375)scale(0.12 -0.12)\">\n     <use xlink:href=\"#DejaVuSans-30\"/>\n     <use xlink:href=\"#DejaVuSans-2e\" x=\"63.623047\"/>\n     <use xlink:href=\"#DejaVuSans-31\" x=\"95.410156\"/>\n     <use xlink:href=\"#DejaVuSans-32\" x=\"159.033203\"/>\n    </g>\n   </g>\n   <g id=\"text_126\">\n    <!-- 0.86 -->\n    <g style=\"fill: #262626\" transform=\"translate(302.722813 372.174375)scale(0.12 -0.12)\">\n     <use xlink:href=\"#DejaVuSans-30\"/>\n     <use xlink:href=\"#DejaVuSans-2e\" x=\"63.623047\"/>\n     <use xlink:href=\"#DejaVuSans-38\" x=\"95.410156\"/>\n     <use xlink:href=\"#DejaVuSans-36\" x=\"159.033203\"/>\n    </g>\n   </g>\n   <g id=\"text_127\">\n    <!-- 0.50 -->\n    <g style=\"fill: #ffffff\" transform=\"translate(336.202813 372.174375)scale(0.12 -0.12)\">\n     <use xlink:href=\"#DejaVuSans-30\"/>\n     <use xlink:href=\"#DejaVuSans-2e\" x=\"63.623047\"/>\n     <use xlink:href=\"#DejaVuSans-35\" x=\"95.410156\"/>\n     <use xlink:href=\"#DejaVuSans-30\" x=\"159.033203\"/>\n    </g>\n   </g>\n   <g id=\"text_128\">\n    <!-- 0.75 -->\n    <g style=\"fill: #262626\" transform=\"translate(369.682813 372.174375)scale(0.12 -0.12)\">\n     <use xlink:href=\"#DejaVuSans-30\"/>\n     <use xlink:href=\"#DejaVuSans-2e\" x=\"63.623047\"/>\n     <use xlink:href=\"#DejaVuSans-37\" x=\"95.410156\"/>\n     <use xlink:href=\"#DejaVuSans-35\" x=\"159.033203\"/>\n    </g>\n   </g>\n   <g id=\"text_129\">\n    <!-- 1.00 -->\n    <g style=\"fill: #262626\" transform=\"translate(403.162813 372.174375)scale(0.12 -0.12)\">\n     <use xlink:href=\"#DejaVuSans-31\"/>\n     <use xlink:href=\"#DejaVuSans-2e\" x=\"63.623047\"/>\n     <use xlink:href=\"#DejaVuSans-30\" x=\"95.410156\"/>\n     <use xlink:href=\"#DejaVuSans-30\" x=\"159.033203\"/>\n    </g>\n   </g>\n   <g id=\"text_130\">\n    <!-- -0.11 -->\n    <g style=\"fill: #ffffff\" transform=\"translate(434.478125 372.174375)scale(0.12 -0.12)\">\n     <use xlink:href=\"#DejaVuSans-2d\"/>\n     <use xlink:href=\"#DejaVuSans-30\" x=\"36.083984\"/>\n     <use xlink:href=\"#DejaVuSans-2e\" x=\"99.707031\"/>\n     <use xlink:href=\"#DejaVuSans-31\" x=\"131.494141\"/>\n     <use xlink:href=\"#DejaVuSans-31\" x=\"195.117188\"/>\n    </g>\n   </g>\n   <g id=\"text_131\">\n    <!-- -0.00 -->\n    <g style=\"fill: #ffffff\" transform=\"translate(467.958125 372.174375)scale(0.12 -0.12)\">\n     <use xlink:href=\"#DejaVuSans-2d\"/>\n     <use xlink:href=\"#DejaVuSans-30\" x=\"36.083984\"/>\n     <use xlink:href=\"#DejaVuSans-2e\" x=\"99.707031\"/>\n     <use xlink:href=\"#DejaVuSans-30\" x=\"131.494141\"/>\n     <use xlink:href=\"#DejaVuSans-30\" x=\"195.117188\"/>\n    </g>\n   </g>\n   <g id=\"text_132\">\n    <!-- -0.15 -->\n    <g style=\"fill: #ffffff\" transform=\"translate(501.438125 372.174375)scale(0.12 -0.12)\">\n     <use xlink:href=\"#DejaVuSans-2d\"/>\n     <use xlink:href=\"#DejaVuSans-30\" x=\"36.083984\"/>\n     <use xlink:href=\"#DejaVuSans-2e\" x=\"99.707031\"/>\n     <use xlink:href=\"#DejaVuSans-31\" x=\"131.494141\"/>\n     <use xlink:href=\"#DejaVuSans-35\" x=\"195.117188\"/>\n    </g>\n   </g>\n   <g id=\"text_133\">\n    <!-- -0.47 -->\n    <g style=\"fill: #ffffff\" transform=\"translate(133.158125 412.944375)scale(0.12 -0.12)\">\n     <use xlink:href=\"#DejaVuSans-2d\"/>\n     <use xlink:href=\"#DejaVuSans-30\" x=\"36.083984\"/>\n     <use xlink:href=\"#DejaVuSans-2e\" x=\"99.707031\"/>\n     <use xlink:href=\"#DejaVuSans-34\" x=\"131.494141\"/>\n     <use xlink:href=\"#DejaVuSans-37\" x=\"195.117188\"/>\n    </g>\n   </g>\n   <g id=\"text_134\">\n    <!-- -0.12 -->\n    <g style=\"fill: #ffffff\" transform=\"translate(166.638125 412.944375)scale(0.12 -0.12)\">\n     <use xlink:href=\"#DejaVuSans-2d\"/>\n     <use xlink:href=\"#DejaVuSans-30\" x=\"36.083984\"/>\n     <use xlink:href=\"#DejaVuSans-2e\" x=\"99.707031\"/>\n     <use xlink:href=\"#DejaVuSans-31\" x=\"131.494141\"/>\n     <use xlink:href=\"#DejaVuSans-32\" x=\"195.117188\"/>\n    </g>\n   </g>\n   <g id=\"text_135\">\n    <!-- 0.10 -->\n    <g style=\"fill: #ffffff\" transform=\"translate(202.282813 412.944375)scale(0.12 -0.12)\">\n     <use xlink:href=\"#DejaVuSans-30\"/>\n     <use xlink:href=\"#DejaVuSans-2e\" x=\"63.623047\"/>\n     <use xlink:href=\"#DejaVuSans-31\" x=\"95.410156\"/>\n     <use xlink:href=\"#DejaVuSans-30\" x=\"159.033203\"/>\n    </g>\n   </g>\n   <g id=\"text_136\">\n    <!-- -0.15 -->\n    <g style=\"fill: #ffffff\" transform=\"translate(233.598125 412.944375)scale(0.12 -0.12)\">\n     <use xlink:href=\"#DejaVuSans-2d\"/>\n     <use xlink:href=\"#DejaVuSans-30\" x=\"36.083984\"/>\n     <use xlink:href=\"#DejaVuSans-2e\" x=\"99.707031\"/>\n     <use xlink:href=\"#DejaVuSans-31\" x=\"131.494141\"/>\n     <use xlink:href=\"#DejaVuSans-35\" x=\"195.117188\"/>\n    </g>\n   </g>\n   <g id=\"text_137\">\n    <!-- -0.09 -->\n    <g style=\"fill: #ffffff\" transform=\"translate(267.078125 412.944375)scale(0.12 -0.12)\">\n     <use xlink:href=\"#DejaVuSans-2d\"/>\n     <use xlink:href=\"#DejaVuSans-30\" x=\"36.083984\"/>\n     <use xlink:href=\"#DejaVuSans-2e\" x=\"99.707031\"/>\n     <use xlink:href=\"#DejaVuSans-30\" x=\"131.494141\"/>\n     <use xlink:href=\"#DejaVuSans-39\" x=\"195.117188\"/>\n    </g>\n   </g>\n   <g id=\"text_138\">\n    <!-- -0.10 -->\n    <g style=\"fill: #ffffff\" transform=\"translate(300.558125 412.944375)scale(0.12 -0.12)\">\n     <use xlink:href=\"#DejaVuSans-2d\"/>\n     <use xlink:href=\"#DejaVuSans-30\" x=\"36.083984\"/>\n     <use xlink:href=\"#DejaVuSans-2e\" x=\"99.707031\"/>\n     <use xlink:href=\"#DejaVuSans-31\" x=\"131.494141\"/>\n     <use xlink:href=\"#DejaVuSans-30\" x=\"195.117188\"/>\n    </g>\n   </g>\n   <g id=\"text_139\">\n    <!-- -0.09 -->\n    <g style=\"fill: #ffffff\" transform=\"translate(334.038125 412.944375)scale(0.12 -0.12)\">\n     <use xlink:href=\"#DejaVuSans-2d\"/>\n     <use xlink:href=\"#DejaVuSans-30\" x=\"36.083984\"/>\n     <use xlink:href=\"#DejaVuSans-2e\" x=\"99.707031\"/>\n     <use xlink:href=\"#DejaVuSans-30\" x=\"131.494141\"/>\n     <use xlink:href=\"#DejaVuSans-39\" x=\"195.117188\"/>\n    </g>\n   </g>\n   <g id=\"text_140\">\n    <!-- -0.12 -->\n    <g style=\"fill: #ffffff\" transform=\"translate(367.518125 412.944375)scale(0.12 -0.12)\">\n     <use xlink:href=\"#DejaVuSans-2d\"/>\n     <use xlink:href=\"#DejaVuSans-30\" x=\"36.083984\"/>\n     <use xlink:href=\"#DejaVuSans-2e\" x=\"99.707031\"/>\n     <use xlink:href=\"#DejaVuSans-31\" x=\"131.494141\"/>\n     <use xlink:href=\"#DejaVuSans-32\" x=\"195.117188\"/>\n    </g>\n   </g>\n   <g id=\"text_141\">\n    <!-- -0.11 -->\n    <g style=\"fill: #ffffff\" transform=\"translate(400.998125 412.944375)scale(0.12 -0.12)\">\n     <use xlink:href=\"#DejaVuSans-2d\"/>\n     <use xlink:href=\"#DejaVuSans-30\" x=\"36.083984\"/>\n     <use xlink:href=\"#DejaVuSans-2e\" x=\"99.707031\"/>\n     <use xlink:href=\"#DejaVuSans-31\" x=\"131.494141\"/>\n     <use xlink:href=\"#DejaVuSans-31\" x=\"195.117188\"/>\n    </g>\n   </g>\n   <g id=\"text_142\">\n    <!-- 1.00 -->\n    <g style=\"fill: #262626\" transform=\"translate(436.642813 412.944375)scale(0.12 -0.12)\">\n     <use xlink:href=\"#DejaVuSans-31\"/>\n     <use xlink:href=\"#DejaVuSans-2e\" x=\"63.623047\"/>\n     <use xlink:href=\"#DejaVuSans-30\" x=\"95.410156\"/>\n     <use xlink:href=\"#DejaVuSans-30\" x=\"159.033203\"/>\n    </g>\n   </g>\n   <g id=\"text_143\">\n    <!-- 0.04 -->\n    <g style=\"fill: #ffffff\" transform=\"translate(470.122813 412.944375)scale(0.12 -0.12)\">\n     <use xlink:href=\"#DejaVuSans-30\"/>\n     <use xlink:href=\"#DejaVuSans-2e\" x=\"63.623047\"/>\n     <use xlink:href=\"#DejaVuSans-30\" x=\"95.410156\"/>\n     <use xlink:href=\"#DejaVuSans-34\" x=\"159.033203\"/>\n    </g>\n   </g>\n   <g id=\"text_144\">\n    <!-- 0.57 -->\n    <g style=\"fill: #ffffff\" transform=\"translate(503.602813 412.944375)scale(0.12 -0.12)\">\n     <use xlink:href=\"#DejaVuSans-30\"/>\n     <use xlink:href=\"#DejaVuSans-2e\" x=\"63.623047\"/>\n     <use xlink:href=\"#DejaVuSans-35\" x=\"95.410156\"/>\n     <use xlink:href=\"#DejaVuSans-37\" x=\"159.033203\"/>\n    </g>\n   </g>\n   <g id=\"text_145\">\n    <!-- 0.06 -->\n    <g style=\"fill: #ffffff\" transform=\"translate(135.322812 453.714375)scale(0.12 -0.12)\">\n     <use xlink:href=\"#DejaVuSans-30\"/>\n     <use xlink:href=\"#DejaVuSans-2e\" x=\"63.623047\"/>\n     <use xlink:href=\"#DejaVuSans-30\" x=\"95.410156\"/>\n     <use xlink:href=\"#DejaVuSans-36\" x=\"159.033203\"/>\n    </g>\n   </g>\n   <g id=\"text_146\">\n    <!-- 0.08 -->\n    <g style=\"fill: #ffffff\" transform=\"translate(168.802812 453.714375)scale(0.12 -0.12)\">\n     <use xlink:href=\"#DejaVuSans-30\"/>\n     <use xlink:href=\"#DejaVuSans-2e\" x=\"63.623047\"/>\n     <use xlink:href=\"#DejaVuSans-30\" x=\"95.410156\"/>\n     <use xlink:href=\"#DejaVuSans-38\" x=\"159.033203\"/>\n    </g>\n   </g>\n   <g id=\"text_147\">\n    <!-- 0.16 -->\n    <g style=\"fill: #ffffff\" transform=\"translate(202.282813 453.714375)scale(0.12 -0.12)\">\n     <use xlink:href=\"#DejaVuSans-30\"/>\n     <use xlink:href=\"#DejaVuSans-2e\" x=\"63.623047\"/>\n     <use xlink:href=\"#DejaVuSans-31\" x=\"95.410156\"/>\n     <use xlink:href=\"#DejaVuSans-36\" x=\"159.033203\"/>\n    </g>\n   </g>\n   <g id=\"text_148\">\n    <!-- -0.01 -->\n    <g style=\"fill: #ffffff\" transform=\"translate(233.598125 453.714375)scale(0.12 -0.12)\">\n     <use xlink:href=\"#DejaVuSans-2d\"/>\n     <use xlink:href=\"#DejaVuSans-30\" x=\"36.083984\"/>\n     <use xlink:href=\"#DejaVuSans-2e\" x=\"99.707031\"/>\n     <use xlink:href=\"#DejaVuSans-30\" x=\"131.494141\"/>\n     <use xlink:href=\"#DejaVuSans-31\" x=\"195.117188\"/>\n    </g>\n   </g>\n   <g id=\"text_149\">\n    <!-- -0.08 -->\n    <g style=\"fill: #ffffff\" transform=\"translate(267.078125 453.714375)scale(0.12 -0.12)\">\n     <use xlink:href=\"#DejaVuSans-2d\"/>\n     <use xlink:href=\"#DejaVuSans-30\" x=\"36.083984\"/>\n     <use xlink:href=\"#DejaVuSans-2e\" x=\"99.707031\"/>\n     <use xlink:href=\"#DejaVuSans-30\" x=\"131.494141\"/>\n     <use xlink:href=\"#DejaVuSans-38\" x=\"195.117188\"/>\n    </g>\n   </g>\n   <g id=\"text_150\">\n    <!-- -0.01 -->\n    <g style=\"fill: #ffffff\" transform=\"translate(300.558125 453.714375)scale(0.12 -0.12)\">\n     <use xlink:href=\"#DejaVuSans-2d\"/>\n     <use xlink:href=\"#DejaVuSans-30\" x=\"36.083984\"/>\n     <use xlink:href=\"#DejaVuSans-2e\" x=\"99.707031\"/>\n     <use xlink:href=\"#DejaVuSans-30\" x=\"131.494141\"/>\n     <use xlink:href=\"#DejaVuSans-31\" x=\"195.117188\"/>\n    </g>\n   </g>\n   <g id=\"text_151\">\n    <!-- 0.06 -->\n    <g style=\"fill: #ffffff\" transform=\"translate(336.202813 453.714375)scale(0.12 -0.12)\">\n     <use xlink:href=\"#DejaVuSans-30\"/>\n     <use xlink:href=\"#DejaVuSans-2e\" x=\"63.623047\"/>\n     <use xlink:href=\"#DejaVuSans-30\" x=\"95.410156\"/>\n     <use xlink:href=\"#DejaVuSans-36\" x=\"159.033203\"/>\n    </g>\n   </g>\n   <g id=\"text_152\">\n    <!-- 0.03 -->\n    <g style=\"fill: #ffffff\" transform=\"translate(369.682813 453.714375)scale(0.12 -0.12)\">\n     <use xlink:href=\"#DejaVuSans-30\"/>\n     <use xlink:href=\"#DejaVuSans-2e\" x=\"63.623047\"/>\n     <use xlink:href=\"#DejaVuSans-30\" x=\"95.410156\"/>\n     <use xlink:href=\"#DejaVuSans-33\" x=\"159.033203\"/>\n    </g>\n   </g>\n   <g id=\"text_153\">\n    <!-- -0.00 -->\n    <g style=\"fill: #ffffff\" transform=\"translate(400.998125 453.714375)scale(0.12 -0.12)\">\n     <use xlink:href=\"#DejaVuSans-2d\"/>\n     <use xlink:href=\"#DejaVuSans-30\" x=\"36.083984\"/>\n     <use xlink:href=\"#DejaVuSans-2e\" x=\"99.707031\"/>\n     <use xlink:href=\"#DejaVuSans-30\" x=\"131.494141\"/>\n     <use xlink:href=\"#DejaVuSans-30\" x=\"195.117188\"/>\n    </g>\n   </g>\n   <g id=\"text_154\">\n    <!-- 0.04 -->\n    <g style=\"fill: #ffffff\" transform=\"translate(436.642813 453.714375)scale(0.12 -0.12)\">\n     <use xlink:href=\"#DejaVuSans-30\"/>\n     <use xlink:href=\"#DejaVuSans-2e\" x=\"63.623047\"/>\n     <use xlink:href=\"#DejaVuSans-30\" x=\"95.410156\"/>\n     <use xlink:href=\"#DejaVuSans-34\" x=\"159.033203\"/>\n    </g>\n   </g>\n   <g id=\"text_155\">\n    <!-- 1.00 -->\n    <g style=\"fill: #262626\" transform=\"translate(470.122813 453.714375)scale(0.12 -0.12)\">\n     <use xlink:href=\"#DejaVuSans-31\"/>\n     <use xlink:href=\"#DejaVuSans-2e\" x=\"63.623047\"/>\n     <use xlink:href=\"#DejaVuSans-30\" x=\"95.410156\"/>\n     <use xlink:href=\"#DejaVuSans-30\" x=\"159.033203\"/>\n    </g>\n   </g>\n   <g id=\"text_156\">\n    <!-- 0.10 -->\n    <g style=\"fill: #ffffff\" transform=\"translate(503.602813 453.714375)scale(0.12 -0.12)\">\n     <use xlink:href=\"#DejaVuSans-30\"/>\n     <use xlink:href=\"#DejaVuSans-2e\" x=\"63.623047\"/>\n     <use xlink:href=\"#DejaVuSans-31\" x=\"95.410156\"/>\n     <use xlink:href=\"#DejaVuSans-30\" x=\"159.033203\"/>\n    </g>\n   </g>\n   <g id=\"text_157\">\n    <!-- 0.10 -->\n    <g style=\"fill: #ffffff\" transform=\"translate(135.322812 494.484375)scale(0.12 -0.12)\">\n     <use xlink:href=\"#DejaVuSans-30\"/>\n     <use xlink:href=\"#DejaVuSans-2e\" x=\"63.623047\"/>\n     <use xlink:href=\"#DejaVuSans-31\" x=\"95.410156\"/>\n     <use xlink:href=\"#DejaVuSans-30\" x=\"159.033203\"/>\n    </g>\n   </g>\n   <g id=\"text_158\">\n    <!-- -0.19 -->\n    <g style=\"fill: #ffffff\" transform=\"translate(166.638125 494.484375)scale(0.12 -0.12)\">\n     <use xlink:href=\"#DejaVuSans-2d\"/>\n     <use xlink:href=\"#DejaVuSans-30\" x=\"36.083984\"/>\n     <use xlink:href=\"#DejaVuSans-2e\" x=\"99.707031\"/>\n     <use xlink:href=\"#DejaVuSans-31\" x=\"131.494141\"/>\n     <use xlink:href=\"#DejaVuSans-39\" x=\"195.117188\"/>\n    </g>\n   </g>\n   <g id=\"text_159\">\n    <!-- 0.18 -->\n    <g style=\"fill: #ffffff\" transform=\"translate(202.282813 494.484375)scale(0.12 -0.12)\">\n     <use xlink:href=\"#DejaVuSans-30\"/>\n     <use xlink:href=\"#DejaVuSans-2e\" x=\"63.623047\"/>\n     <use xlink:href=\"#DejaVuSans-31\" x=\"95.410156\"/>\n     <use xlink:href=\"#DejaVuSans-38\" x=\"159.033203\"/>\n    </g>\n   </g>\n   <g id=\"text_160\">\n    <!-- -0.27 -->\n    <g style=\"fill: #ffffff\" transform=\"translate(233.598125 494.484375)scale(0.12 -0.12)\">\n     <use xlink:href=\"#DejaVuSans-2d\"/>\n     <use xlink:href=\"#DejaVuSans-30\" x=\"36.083984\"/>\n     <use xlink:href=\"#DejaVuSans-2e\" x=\"99.707031\"/>\n     <use xlink:href=\"#DejaVuSans-32\" x=\"131.494141\"/>\n     <use xlink:href=\"#DejaVuSans-37\" x=\"195.117188\"/>\n    </g>\n   </g>\n   <g id=\"text_161\">\n    <!-- -0.15 -->\n    <g style=\"fill: #ffffff\" transform=\"translate(267.078125 494.484375)scale(0.12 -0.12)\">\n     <use xlink:href=\"#DejaVuSans-2d\"/>\n     <use xlink:href=\"#DejaVuSans-30\" x=\"36.083984\"/>\n     <use xlink:href=\"#DejaVuSans-2e\" x=\"99.707031\"/>\n     <use xlink:href=\"#DejaVuSans-31\" x=\"131.494141\"/>\n     <use xlink:href=\"#DejaVuSans-35\" x=\"195.117188\"/>\n    </g>\n   </g>\n   <g id=\"text_162\">\n    <!-- -0.14 -->\n    <g style=\"fill: #ffffff\" transform=\"translate(300.558125 494.484375)scale(0.12 -0.12)\">\n     <use xlink:href=\"#DejaVuSans-2d\"/>\n     <use xlink:href=\"#DejaVuSans-30\" x=\"36.083984\"/>\n     <use xlink:href=\"#DejaVuSans-2e\" x=\"99.707031\"/>\n     <use xlink:href=\"#DejaVuSans-31\" x=\"131.494141\"/>\n     <use xlink:href=\"#DejaVuSans-34\" x=\"195.117188\"/>\n    </g>\n   </g>\n   <g id=\"text_163\">\n    <!-- -0.15 -->\n    <g style=\"fill: #ffffff\" transform=\"translate(334.038125 494.484375)scale(0.12 -0.12)\">\n     <use xlink:href=\"#DejaVuSans-2d\"/>\n     <use xlink:href=\"#DejaVuSans-30\" x=\"36.083984\"/>\n     <use xlink:href=\"#DejaVuSans-2e\" x=\"99.707031\"/>\n     <use xlink:href=\"#DejaVuSans-31\" x=\"131.494141\"/>\n     <use xlink:href=\"#DejaVuSans-35\" x=\"195.117188\"/>\n    </g>\n   </g>\n   <g id=\"text_164\">\n    <!-- -0.21 -->\n    <g style=\"fill: #ffffff\" transform=\"translate(367.518125 494.484375)scale(0.12 -0.12)\">\n     <use xlink:href=\"#DejaVuSans-2d\"/>\n     <use xlink:href=\"#DejaVuSans-30\" x=\"36.083984\"/>\n     <use xlink:href=\"#DejaVuSans-2e\" x=\"99.707031\"/>\n     <use xlink:href=\"#DejaVuSans-32\" x=\"131.494141\"/>\n     <use xlink:href=\"#DejaVuSans-31\" x=\"195.117188\"/>\n    </g>\n   </g>\n   <g id=\"text_165\">\n    <!-- -0.15 -->\n    <g style=\"fill: #ffffff\" transform=\"translate(400.998125 494.484375)scale(0.12 -0.12)\">\n     <use xlink:href=\"#DejaVuSans-2d\"/>\n     <use xlink:href=\"#DejaVuSans-30\" x=\"36.083984\"/>\n     <use xlink:href=\"#DejaVuSans-2e\" x=\"99.707031\"/>\n     <use xlink:href=\"#DejaVuSans-31\" x=\"131.494141\"/>\n     <use xlink:href=\"#DejaVuSans-35\" x=\"195.117188\"/>\n    </g>\n   </g>\n   <g id=\"text_166\">\n    <!-- 0.57 -->\n    <g style=\"fill: #ffffff\" transform=\"translate(436.642813 494.484375)scale(0.12 -0.12)\">\n     <use xlink:href=\"#DejaVuSans-30\"/>\n     <use xlink:href=\"#DejaVuSans-2e\" x=\"63.623047\"/>\n     <use xlink:href=\"#DejaVuSans-35\" x=\"95.410156\"/>\n     <use xlink:href=\"#DejaVuSans-37\" x=\"159.033203\"/>\n    </g>\n   </g>\n   <g id=\"text_167\">\n    <!-- 0.10 -->\n    <g style=\"fill: #ffffff\" transform=\"translate(470.122813 494.484375)scale(0.12 -0.12)\">\n     <use xlink:href=\"#DejaVuSans-30\"/>\n     <use xlink:href=\"#DejaVuSans-2e\" x=\"63.623047\"/>\n     <use xlink:href=\"#DejaVuSans-31\" x=\"95.410156\"/>\n     <use xlink:href=\"#DejaVuSans-30\" x=\"159.033203\"/>\n    </g>\n   </g>\n   <g id=\"text_168\">\n    <!-- 1.00 -->\n    <g style=\"fill: #262626\" transform=\"translate(503.602813 494.484375)scale(0.12 -0.12)\">\n     <use xlink:href=\"#DejaVuSans-31\"/>\n     <use xlink:href=\"#DejaVuSans-2e\" x=\"63.623047\"/>\n     <use xlink:href=\"#DejaVuSans-30\" x=\"95.410156\"/>\n     <use xlink:href=\"#DejaVuSans-30\" x=\"159.033203\"/>\n    </g>\n   </g>\n   <g id=\"text_169\">\n    <!-- Correlations Heatmap -->\n    <g style=\"fill: #262626\" transform=\"translate(267.14375 16.318125)scale(0.12 -0.12)\">\n     <defs>\n      <path id=\"DejaVuSans-43\" d=\"M 4122 4306 \nL 4122 3641 \nQ 3803 3938 3442 4084 \nQ 3081 4231 2675 4231 \nQ 1875 4231 1450 3742 \nQ 1025 3253 1025 2328 \nQ 1025 1406 1450 917 \nQ 1875 428 2675 428 \nQ 3081 428 3442 575 \nQ 3803 722 4122 1019 \nL 4122 359 \nQ 3791 134 3420 21 \nQ 3050 -91 2638 -91 \nQ 1578 -91 968 557 \nQ 359 1206 359 2328 \nQ 359 3453 968 4101 \nQ 1578 4750 2638 4750 \nQ 3056 4750 3426 4639 \nQ 3797 4528 4122 4306 \nz\n\" transform=\"scale(0.015625)\"/>\n      <path id=\"DejaVuSans-20\" transform=\"scale(0.015625)\"/>\n      <path id=\"DejaVuSans-48\" d=\"M 628 4666 \nL 1259 4666 \nL 1259 2753 \nL 3553 2753 \nL 3553 4666 \nL 4184 4666 \nL 4184 0 \nL 3553 0 \nL 3553 2222 \nL 1259 2222 \nL 1259 0 \nL 628 0 \nL 628 4666 \nz\n\" transform=\"scale(0.015625)\"/>\n     </defs>\n     <use xlink:href=\"#DejaVuSans-43\"/>\n     <use xlink:href=\"#DejaVuSans-6f\" x=\"69.824219\"/>\n     <use xlink:href=\"#DejaVuSans-72\" x=\"131.005859\"/>\n     <use xlink:href=\"#DejaVuSans-72\" x=\"170.369141\"/>\n     <use xlink:href=\"#DejaVuSans-65\" x=\"209.232422\"/>\n     <use xlink:href=\"#DejaVuSans-6c\" x=\"270.755859\"/>\n     <use xlink:href=\"#DejaVuSans-61\" x=\"298.539062\"/>\n     <use xlink:href=\"#DejaVuSans-74\" x=\"359.818359\"/>\n     <use xlink:href=\"#DejaVuSans-69\" x=\"399.027344\"/>\n     <use xlink:href=\"#DejaVuSans-6f\" x=\"426.810547\"/>\n     <use xlink:href=\"#DejaVuSans-6e\" x=\"487.992188\"/>\n     <use xlink:href=\"#DejaVuSans-73\" x=\"551.371094\"/>\n     <use xlink:href=\"#DejaVuSans-20\" x=\"603.470703\"/>\n     <use xlink:href=\"#DejaVuSans-48\" x=\"635.257812\"/>\n     <use xlink:href=\"#DejaVuSans-65\" x=\"710.453125\"/>\n     <use xlink:href=\"#DejaVuSans-61\" x=\"771.976562\"/>\n     <use xlink:href=\"#DejaVuSans-74\" x=\"833.255859\"/>\n     <use xlink:href=\"#DejaVuSans-6d\" x=\"872.464844\"/>\n     <use xlink:href=\"#DejaVuSans-61\" x=\"969.876953\"/>\n     <use xlink:href=\"#DejaVuSans-70\" x=\"1031.15625\"/>\n    </g>\n   </g>\n  </g>\n  <g id=\"axes_2\">\n   <g id=\"patch_3\">\n    <path d=\"M 558.812188 511.558125 \nL 583.274188 511.558125 \nL 583.274188 22.318125 \nL 558.812188 22.318125 \nz\n\" style=\"fill: #eaeaf2\"/>\n   </g>\n   <g id=\"patch_4\">\n    <path clip-path=\"url(#p191ad91582)\" style=\"fill: #eaeaf2; stroke: #eaeaf2; stroke-width: 0.01; stroke-linejoin: miter\"/>\n   </g>\n   <g id=\"matplotlib.axis_3\">\n    <g id=\"ytick_13\">\n     <g id=\"line2d_1\">\n      <defs>\n       <path id=\"mcf1dcd1cc8\" d=\"M 0 0 \nL 6 0 \n\" style=\"stroke: #262626; stroke-width: 1.25\"/>\n      </defs>\n      <g>\n       <use xlink:href=\"#mcf1dcd1cc8\" x=\"583.274188\" y=\"487.225201\" style=\"fill: #262626; stroke: #262626; stroke-width: 1.25\"/>\n      </g>\n     </g>\n     <g id=\"text_170\">\n      <!-- −0.4 -->\n      <g style=\"fill: #262626\" transform=\"translate(592.774188 491.404341)scale(0.11 -0.11)\">\n       <defs>\n        <path id=\"DejaVuSans-2212\" d=\"M 678 2272 \nL 4684 2272 \nL 4684 1741 \nL 678 1741 \nL 678 2272 \nz\n\" transform=\"scale(0.015625)\"/>\n       </defs>\n       <use xlink:href=\"#DejaVuSans-2212\"/>\n       <use xlink:href=\"#DejaVuSans-30\" x=\"83.789062\"/>\n       <use xlink:href=\"#DejaVuSans-2e\" x=\"147.412109\"/>\n       <use xlink:href=\"#DejaVuSans-34\" x=\"179.199219\"/>\n      </g>\n     </g>\n    </g>\n    <g id=\"ytick_14\">\n     <g id=\"line2d_2\">\n      <g>\n       <use xlink:href=\"#mcf1dcd1cc8\" x=\"583.274188\" y=\"420.809904\" style=\"fill: #262626; stroke: #262626; stroke-width: 1.25\"/>\n      </g>\n     </g>\n     <g id=\"text_171\">\n      <!-- −0.2 -->\n      <g style=\"fill: #262626\" transform=\"translate(592.774188 424.989045)scale(0.11 -0.11)\">\n       <use xlink:href=\"#DejaVuSans-2212\"/>\n       <use xlink:href=\"#DejaVuSans-30\" x=\"83.789062\"/>\n       <use xlink:href=\"#DejaVuSans-2e\" x=\"147.412109\"/>\n       <use xlink:href=\"#DejaVuSans-32\" x=\"179.199219\"/>\n      </g>\n     </g>\n    </g>\n    <g id=\"ytick_15\">\n     <g id=\"line2d_3\">\n      <g>\n       <use xlink:href=\"#mcf1dcd1cc8\" x=\"583.274188\" y=\"354.394608\" style=\"fill: #262626; stroke: #262626; stroke-width: 1.25\"/>\n      </g>\n     </g>\n     <g id=\"text_172\">\n      <!-- 0.0 -->\n      <g style=\"fill: #262626\" transform=\"translate(592.774188 358.573748)scale(0.11 -0.11)\">\n       <use xlink:href=\"#DejaVuSans-30\"/>\n       <use xlink:href=\"#DejaVuSans-2e\" x=\"63.623047\"/>\n       <use xlink:href=\"#DejaVuSans-30\" x=\"95.410156\"/>\n      </g>\n     </g>\n    </g>\n    <g id=\"ytick_16\">\n     <g id=\"line2d_4\">\n      <g>\n       <use xlink:href=\"#mcf1dcd1cc8\" x=\"583.274188\" y=\"287.979311\" style=\"fill: #262626; stroke: #262626; stroke-width: 1.25\"/>\n      </g>\n     </g>\n     <g id=\"text_173\">\n      <!-- 0.2 -->\n      <g style=\"fill: #262626\" transform=\"translate(592.774188 292.158452)scale(0.11 -0.11)\">\n       <use xlink:href=\"#DejaVuSans-30\"/>\n       <use xlink:href=\"#DejaVuSans-2e\" x=\"63.623047\"/>\n       <use xlink:href=\"#DejaVuSans-32\" x=\"95.410156\"/>\n      </g>\n     </g>\n    </g>\n    <g id=\"ytick_17\">\n     <g id=\"line2d_5\">\n      <g>\n       <use xlink:href=\"#mcf1dcd1cc8\" x=\"583.274188\" y=\"221.564015\" style=\"fill: #262626; stroke: #262626; stroke-width: 1.25\"/>\n      </g>\n     </g>\n     <g id=\"text_174\">\n      <!-- 0.4 -->\n      <g style=\"fill: #262626\" transform=\"translate(592.774188 225.743155)scale(0.11 -0.11)\">\n       <use xlink:href=\"#DejaVuSans-30\"/>\n       <use xlink:href=\"#DejaVuSans-2e\" x=\"63.623047\"/>\n       <use xlink:href=\"#DejaVuSans-34\" x=\"95.410156\"/>\n      </g>\n     </g>\n    </g>\n    <g id=\"ytick_18\">\n     <g id=\"line2d_6\">\n      <g>\n       <use xlink:href=\"#mcf1dcd1cc8\" x=\"583.274188\" y=\"155.148718\" style=\"fill: #262626; stroke: #262626; stroke-width: 1.25\"/>\n      </g>\n     </g>\n     <g id=\"text_175\">\n      <!-- 0.6 -->\n      <g style=\"fill: #262626\" transform=\"translate(592.774188 159.327859)scale(0.11 -0.11)\">\n       <use xlink:href=\"#DejaVuSans-30\"/>\n       <use xlink:href=\"#DejaVuSans-2e\" x=\"63.623047\"/>\n       <use xlink:href=\"#DejaVuSans-36\" x=\"95.410156\"/>\n      </g>\n     </g>\n    </g>\n    <g id=\"ytick_19\">\n     <g id=\"line2d_7\">\n      <g>\n       <use xlink:href=\"#mcf1dcd1cc8\" x=\"583.274188\" y=\"88.733422\" style=\"fill: #262626; stroke: #262626; stroke-width: 1.25\"/>\n      </g>\n     </g>\n     <g id=\"text_176\">\n      <!-- 0.8 -->\n      <g style=\"fill: #262626\" transform=\"translate(592.774188 92.912562)scale(0.11 -0.11)\">\n       <use xlink:href=\"#DejaVuSans-30\"/>\n       <use xlink:href=\"#DejaVuSans-2e\" x=\"63.623047\"/>\n       <use xlink:href=\"#DejaVuSans-38\" x=\"95.410156\"/>\n      </g>\n     </g>\n    </g>\n    <g id=\"ytick_20\">\n     <g id=\"line2d_8\">\n      <g>\n       <use xlink:href=\"#mcf1dcd1cc8\" x=\"583.274188\" y=\"22.318125\" style=\"fill: #262626; stroke: #262626; stroke-width: 1.25\"/>\n      </g>\n     </g>\n     <g id=\"text_177\">\n      <!-- 1.0 -->\n      <g style=\"fill: #262626\" transform=\"translate(592.774188 26.497266)scale(0.11 -0.11)\">\n       <use xlink:href=\"#DejaVuSans-31\"/>\n       <use xlink:href=\"#DejaVuSans-2e\" x=\"63.623047\"/>\n       <use xlink:href=\"#DejaVuSans-30\" x=\"95.410156\"/>\n      </g>\n     </g>\n    </g>\n   </g>\n   <image xlink:href=\"data:image/png;base64,\niVBORw0KGgoAAAANSUhEUgAAABgAAAHpCAYAAACYzvzwAAACXklEQVR4nO2dwVEEMRAD7b0NjRDIPxSODNyvcZVU3QEwJUsaswsc+2f/ftcgz+QXX2utd+3ZGfMK9rNHB+gBMu5BwRGtgpimK9hPfIriPVh6ALiLkHd7HwD2ABlX4LJDVIA0KHDZAT5lIqYIUQFy49L3iM7MK/jGK5geYYoQFSA2GbHJSL4CY4rkm+yyQ941K8AUMe/XJgM3mjw7QA+Q8V3UsK7jV0WBB/GrwmVH6AFS0IP8N7+miMj3wGWHGFOkwgN7cMYeIBVvW2YH2APkxg8oRr++MWX0ANEDRA8QPUB8b4rk96DgiPIVuOwIPUD0ANEDpECBKcIBo59IshqOSAWIRUP0ACnwIF+BKSJUgPiuArFoiAoQU4SMK8gfYIoQFSBe+ohFQ24omH3nZYqQihTNDjBFSIEHDQpmt2l+TPMHFMQ0PkUF37bkp0gFhD1ACjy48KSvyWdufGr67ABXBVKQogIFyxSdubGL9OCMHiDzv0zplUkYU6QgRfkeuK6JCwqGB+gBUqFgeMBTcEQqOJMf03kF9oC44EH8uwp7QNgDZNwDjwhx2SGmCFEBogLEXYQ0eDB96XtEhEVDGjzYf6MD9ACxB4g9QN5PvgcFPZhNUUHRPpoMuK6RimVnis7c2EV6cOZGk+M9GL7RGo4oXoHfthB6gFR4kK6g4MqM96DgRvPSBwqecPKfMvNXhVcmYQ+Qil0UryDeAy99ouEZLT6mpojwKRMpWNemiNADpEDBM/1nkwVHNDzgxqU/O+BG0dL/MW1DivI9SFfQ0IN0BQ09mJ1RYfLsjHyTxxX8Azi+jtRBdWkRAAAAAElFTkSuQmCC\" id=\"image4fc3292ed5\" transform=\"scale(1 -1)translate(0 -489)\" x=\"559\" y=\"-22\" width=\"24\" height=\"489\"/>\n   <g id=\"LineCollection_1\"/>\n   <g id=\"patch_5\">\n    <path d=\"M 558.812188 511.558125 \nL 571.043188 511.558125 \nL 583.274188 511.558125 \nL 583.274188 22.318125 \nL 571.043188 22.318125 \nL 558.812188 22.318125 \nL 558.812188 511.558125 \nz\n\" style=\"fill: none\"/>\n   </g>\n  </g>\n </g>\n <defs>\n  <clipPath id=\"p377deadf4e\">\n   <rect x=\"131.942187\" y=\"22.318125\" width=\"401.76\" height=\"489.24\"/>\n  </clipPath>\n  <clipPath id=\"p191ad91582\">\n   <rect x=\"558.812188\" y=\"22.318125\" width=\"24.462\" height=\"489.24\"/>\n  </clipPath>\n </defs>\n</svg>\n",
      "text/plain": [
       "<Figure size 648x648 with 2 Axes>"
      ]
     },
     "metadata": {},
     "output_type": "display_data"
    }
   ],
   "source": [
    "# Draw correlation heatmap\n",
    "corrs = np.corrcoef(df_clean[num_vars].values.T)\n",
    "sns.set(rc={'figure.figsize':(9,9)})\n",
    "sns.heatmap(corrs, cmap='viridis', annot=True, fmt='.2f', xticklabels=num_vars, yticklabels=num_vars).set_title('Correlations Heatmap');"
   ]
  },
  {
   "cell_type": "markdown",
   "metadata": {},
   "source": [
    "In particular, the accommodation, bathroom, bedroom and bed correlate with the price of the listing. There seems to be no relevant correlation with the number of reviews, the rating of them or the reviews per month."
   ]
  },
  {
   "cell_type": "markdown",
   "metadata": {},
   "source": [
    "#### 3. In what time frame do the hosts respond?"
   ]
  },
  {
   "cell_type": "code",
   "execution_count": 75,
   "metadata": {},
   "outputs": [
    {
     "data": {
      "text/plain": [
       "1     381189\n",
       "3     216206\n",
       "24    121131\n",
       "96     66239\n",
       "48      9166\n",
       "Name: host_response_time, dtype: int64"
      ]
     },
     "execution_count": 75,
     "metadata": {},
     "output_type": "execute_result"
    }
   ],
   "source": [
    "df_clean.host_response_time.value_counts()"
   ]
  },
  {
   "cell_type": "code",
   "execution_count": 78,
   "metadata": {},
   "outputs": [
    {
     "data": {
      "image/png": "[encoded data removed]",
      "image/svg+xml": "<?xml version=\"1.0\" encoding=\"utf-8\" standalone=\"no\"?>\n<!DOCTYPE svg PUBLIC \"-//W3C//DTD SVG 1.1//EN\"\n  \"http://www.w3.org/Graphics/SVG/1.1/DTD/svg11.dtd\">\n<svg xmlns:xlink=\"http://www.w3.org/1999/xlink\" width=\"583.70625pt\" height=\"554.517812pt\" viewBox=\"0 0 583.70625 554.517812\" xmlns=\"http://www.w3.org/2000/svg\" version=\"1.1\">\n <metadata>\n  <rdf:RDF xmlns:dc=\"http://purl.org/dc/elements/1.1/\" xmlns:cc=\"http://creativecommons.org/ns#\" xmlns:rdf=\"http://www.w3.org/1999/02/22-rdf-syntax-ns#\">\n   <cc:Work>\n    <dc:type rdf:resource=\"http://purl.org/dc/dcmitype/StillImage\"/>\n    <dc:date>2021-11-21T12:27:34.143411</dc:date>\n    <dc:format>image/svg+xml</dc:format>\n    <dc:creator>\n     <cc:Agent>\n      <dc:title>Matplotlib v3.5.0rc1, https://matplotlib.org/</dc:title>\n     </cc:Agent>\n    </dc:creator>\n   </cc:Work>\n  </rdf:RDF>\n </metadata>\n <defs>\n  <style type=\"text/css\">*{stroke-linejoin: round; stroke-linecap: butt}</style>\n </defs>\n <g id=\"figure_1\">\n  <g id=\"patch_1\">\n   <path d=\"M 0 554.517812 \nL 583.70625 554.517812 \nL 583.70625 0 \nL 0 0 \nz\n\" style=\"fill: #ffffff\"/>\n  </g>\n  <g id=\"axes_1\">\n   <g id=\"patch_2\">\n    <path d=\"M 74.30625 511.558125 \nL 576.50625 511.558125 \nL 576.50625 22.318125 \nL 74.30625 22.318125 \nz\n\" style=\"fill: #eaeaf2\"/>\n   </g>\n   <g id=\"matplotlib.axis_1\">\n    <g id=\"xtick_1\">\n     <g id=\"text_1\">\n      <!-- 1 -->\n      <g style=\"fill: #262626\" transform=\"translate(121.026875 529.416406)scale(0.11 -0.11)\">\n       <defs>\n        <path id=\"DejaVuSans-31\" d=\"M 794 531 \nL 1825 531 \nL 1825 4091 \nL 703 3866 \nL 703 4441 \nL 1819 4666 \nL 2450 4666 \nL 2450 531 \nL 3481 531 \nL 3481 0 \nL 794 0 \nL 794 531 \nz\n\" transform=\"scale(0.015625)\"/>\n       </defs>\n       <use xlink:href=\"#DejaVuSans-31\"/>\n      </g>\n     </g>\n    </g>\n    <g id=\"xtick_2\">\n     <g id=\"text_2\">\n      <!-- 3 -->\n      <g style=\"fill: #262626\" transform=\"translate(221.466875 529.416406)scale(0.11 -0.11)\">\n       <defs>\n        <path id=\"DejaVuSans-33\" d=\"M 2597 2516 \nQ 3050 2419 3304 2112 \nQ 3559 1806 3559 1356 \nQ 3559 666 3084 287 \nQ 2609 -91 1734 -91 \nQ 1441 -91 1130 -33 \nQ 819 25 488 141 \nL 488 750 \nQ 750 597 1062 519 \nQ 1375 441 1716 441 \nQ 2309 441 2620 675 \nQ 2931 909 2931 1356 \nQ 2931 1769 2642 2001 \nQ 2353 2234 1838 2234 \nL 1294 2234 \nL 1294 2753 \nL 1863 2753 \nQ 2328 2753 2575 2939 \nQ 2822 3125 2822 3475 \nQ 2822 3834 2567 4026 \nQ 2313 4219 1838 4219 \nQ 1578 4219 1281 4162 \nQ 984 4106 628 3988 \nL 628 4550 \nQ 988 4650 1302 4700 \nQ 1616 4750 1894 4750 \nQ 2613 4750 3031 4423 \nQ 3450 4097 3450 3541 \nQ 3450 3153 3228 2886 \nQ 3006 2619 2597 2516 \nz\n\" transform=\"scale(0.015625)\"/>\n       </defs>\n       <use xlink:href=\"#DejaVuSans-33\"/>\n      </g>\n     </g>\n    </g>\n    <g id=\"xtick_3\">\n     <g id=\"text_3\">\n      <!-- 24 -->\n      <g style=\"fill: #262626\" transform=\"translate(318.4075 529.416406)scale(0.11 -0.11)\">\n       <defs>\n        <path id=\"DejaVuSans-32\" d=\"M 1228 531 \nL 3431 531 \nL 3431 0 \nL 469 0 \nL 469 531 \nQ 828 903 1448 1529 \nQ 2069 2156 2228 2338 \nQ 2531 2678 2651 2914 \nQ 2772 3150 2772 3378 \nQ 2772 3750 2511 3984 \nQ 2250 4219 1831 4219 \nQ 1534 4219 1204 4116 \nQ 875 4013 500 3803 \nL 500 4441 \nQ 881 4594 1212 4672 \nQ 1544 4750 1819 4750 \nQ 2544 4750 2975 4387 \nQ 3406 4025 3406 3419 \nQ 3406 3131 3298 2873 \nQ 3191 2616 2906 2266 \nQ 2828 2175 2409 1742 \nQ 1991 1309 1228 531 \nz\n\" transform=\"scale(0.015625)\"/>\n        <path id=\"DejaVuSans-34\" d=\"M 2419 4116 \nL 825 1625 \nL 2419 1625 \nL 2419 4116 \nz\nM 2253 4666 \nL 3047 4666 \nL 3047 1625 \nL 3713 1625 \nL 3713 1100 \nL 3047 1100 \nL 3047 0 \nL 2419 0 \nL 2419 1100 \nL 313 1100 \nL 313 1709 \nL 2253 4666 \nz\n\" transform=\"scale(0.015625)\"/>\n       </defs>\n       <use xlink:href=\"#DejaVuSans-32\"/>\n       <use xlink:href=\"#DejaVuSans-34\" x=\"63.623047\"/>\n      </g>\n     </g>\n    </g>\n    <g id=\"xtick_4\">\n     <g id=\"text_4\">\n      <!-- 48 -->\n      <g style=\"fill: #262626\" transform=\"translate(418.8475 529.416406)scale(0.11 -0.11)\">\n       <defs>\n        <path id=\"DejaVuSans-38\" d=\"M 2034 2216 \nQ 1584 2216 1326 1975 \nQ 1069 1734 1069 1313 \nQ 1069 891 1326 650 \nQ 1584 409 2034 409 \nQ 2484 409 2743 651 \nQ 3003 894 3003 1313 \nQ 3003 1734 2745 1975 \nQ 2488 2216 2034 2216 \nz\nM 1403 2484 \nQ 997 2584 770 2862 \nQ 544 3141 544 3541 \nQ 544 4100 942 4425 \nQ 1341 4750 2034 4750 \nQ 2731 4750 3128 4425 \nQ 3525 4100 3525 3541 \nQ 3525 3141 3298 2862 \nQ 3072 2584 2669 2484 \nQ 3125 2378 3379 2068 \nQ 3634 1759 3634 1313 \nQ 3634 634 3220 271 \nQ 2806 -91 2034 -91 \nQ 1263 -91 848 271 \nQ 434 634 434 1313 \nQ 434 1759 690 2068 \nQ 947 2378 1403 2484 \nz\nM 1172 3481 \nQ 1172 3119 1398 2916 \nQ 1625 2713 2034 2713 \nQ 2441 2713 2670 2916 \nQ 2900 3119 2900 3481 \nQ 2900 3844 2670 4047 \nQ 2441 4250 2034 4250 \nQ 1625 4250 1398 4047 \nQ 1172 3844 1172 3481 \nz\n\" transform=\"scale(0.015625)\"/>\n       </defs>\n       <use xlink:href=\"#DejaVuSans-34\"/>\n       <use xlink:href=\"#DejaVuSans-38\" x=\"63.623047\"/>\n      </g>\n     </g>\n    </g>\n    <g id=\"xtick_5\">\n     <g id=\"text_5\">\n      <!-- 96 -->\n      <g style=\"fill: #262626\" transform=\"translate(519.2875 529.416406)scale(0.11 -0.11)\">\n       <defs>\n        <path id=\"DejaVuSans-39\" d=\"M 703 97 \nL 703 672 \nQ 941 559 1184 500 \nQ 1428 441 1663 441 \nQ 2288 441 2617 861 \nQ 2947 1281 2994 2138 \nQ 2813 1869 2534 1725 \nQ 2256 1581 1919 1581 \nQ 1219 1581 811 2004 \nQ 403 2428 403 3163 \nQ 403 3881 828 4315 \nQ 1253 4750 1959 4750 \nQ 2769 4750 3195 4129 \nQ 3622 3509 3622 2328 \nQ 3622 1225 3098 567 \nQ 2575 -91 1691 -91 \nQ 1453 -91 1209 -44 \nQ 966 3 703 97 \nz\nM 1959 2075 \nQ 2384 2075 2632 2365 \nQ 2881 2656 2881 3163 \nQ 2881 3666 2632 3958 \nQ 2384 4250 1959 4250 \nQ 1534 4250 1286 3958 \nQ 1038 3666 1038 3163 \nQ 1038 2656 1286 2365 \nQ 1534 2075 1959 2075 \nz\n\" transform=\"scale(0.015625)\"/>\n        <path id=\"DejaVuSans-36\" d=\"M 2113 2584 \nQ 1688 2584 1439 2293 \nQ 1191 2003 1191 1497 \nQ 1191 994 1439 701 \nQ 1688 409 2113 409 \nQ 2538 409 2786 701 \nQ 3034 994 3034 1497 \nQ 3034 2003 2786 2293 \nQ 2538 2584 2113 2584 \nz\nM 3366 4563 \nL 3366 3988 \nQ 3128 4100 2886 4159 \nQ 2644 4219 2406 4219 \nQ 1781 4219 1451 3797 \nQ 1122 3375 1075 2522 \nQ 1259 2794 1537 2939 \nQ 1816 3084 2150 3084 \nQ 2853 3084 3261 2657 \nQ 3669 2231 3669 1497 \nQ 3669 778 3244 343 \nQ 2819 -91 2113 -91 \nQ 1303 -91 875 529 \nQ 447 1150 447 2328 \nQ 447 3434 972 4092 \nQ 1497 4750 2381 4750 \nQ 2619 4750 2861 4703 \nQ 3103 4656 3366 4563 \nz\n\" transform=\"scale(0.015625)\"/>\n       </defs>\n       <use xlink:href=\"#DejaVuSans-39\"/>\n       <use xlink:href=\"#DejaVuSans-36\" x=\"63.623047\"/>\n      </g>\n     </g>\n    </g>\n    <g id=\"text_6\">\n     <!-- Host Response Time in h -->\n     <g style=\"fill: #262626\" transform=\"translate(251.348437 544.822187)scale(0.12 -0.12)\">\n      <defs>\n       <path id=\"DejaVuSans-48\" d=\"M 628 4666 \nL 1259 4666 \nL 1259 2753 \nL 3553 2753 \nL 3553 4666 \nL 4184 4666 \nL 4184 0 \nL 3553 0 \nL 3553 2222 \nL 1259 2222 \nL 1259 0 \nL 628 0 \nL 628 4666 \nz\n\" transform=\"scale(0.015625)\"/>\n       <path id=\"DejaVuSans-6f\" d=\"M 1959 3097 \nQ 1497 3097 1228 2736 \nQ 959 2375 959 1747 \nQ 959 1119 1226 758 \nQ 1494 397 1959 397 \nQ 2419 397 2687 759 \nQ 2956 1122 2956 1747 \nQ 2956 2369 2687 2733 \nQ 2419 3097 1959 3097 \nz\nM 1959 3584 \nQ 2709 3584 3137 3096 \nQ 3566 2609 3566 1747 \nQ 3566 888 3137 398 \nQ 2709 -91 1959 -91 \nQ 1206 -91 779 398 \nQ 353 888 353 1747 \nQ 353 2609 779 3096 \nQ 1206 3584 1959 3584 \nz\n\" transform=\"scale(0.015625)\"/>\n       <path id=\"DejaVuSans-73\" d=\"M 2834 3397 \nL 2834 2853 \nQ 2591 2978 2328 3040 \nQ 2066 3103 1784 3103 \nQ 1356 3103 1142 2972 \nQ 928 2841 928 2578 \nQ 928 2378 1081 2264 \nQ 1234 2150 1697 2047 \nL 1894 2003 \nQ 2506 1872 2764 1633 \nQ 3022 1394 3022 966 \nQ 3022 478 2636 193 \nQ 2250 -91 1575 -91 \nQ 1294 -91 989 -36 \nQ 684 19 347 128 \nL 347 722 \nQ 666 556 975 473 \nQ 1284 391 1588 391 \nQ 1994 391 2212 530 \nQ 2431 669 2431 922 \nQ 2431 1156 2273 1281 \nQ 2116 1406 1581 1522 \nL 1381 1569 \nQ 847 1681 609 1914 \nQ 372 2147 372 2553 \nQ 372 3047 722 3315 \nQ 1072 3584 1716 3584 \nQ 2034 3584 2315 3537 \nQ 2597 3491 2834 3397 \nz\n\" transform=\"scale(0.015625)\"/>\n       <path id=\"DejaVuSans-74\" d=\"M 1172 4494 \nL 1172 3500 \nL 2356 3500 \nL 2356 3053 \nL 1172 3053 \nL 1172 1153 \nQ 1172 725 1289 603 \nQ 1406 481 1766 481 \nL 2356 481 \nL 2356 0 \nL 1766 0 \nQ 1100 0 847 248 \nQ 594 497 594 1153 \nL 594 3053 \nL 172 3053 \nL 172 3500 \nL 594 3500 \nL 594 4494 \nL 1172 4494 \nz\n\" transform=\"scale(0.015625)\"/>\n       <path id=\"DejaVuSans-20\" transform=\"scale(0.015625)\"/>\n       <path id=\"DejaVuSans-52\" d=\"M 2841 2188 \nQ 3044 2119 3236 1894 \nQ 3428 1669 3622 1275 \nL 4263 0 \nL 3584 0 \nL 2988 1197 \nQ 2756 1666 2539 1819 \nQ 2322 1972 1947 1972 \nL 1259 1972 \nL 1259 0 \nL 628 0 \nL 628 4666 \nL 2053 4666 \nQ 2853 4666 3247 4331 \nQ 3641 3997 3641 3322 \nQ 3641 2881 3436 2590 \nQ 3231 2300 2841 2188 \nz\nM 1259 4147 \nL 1259 2491 \nL 2053 2491 \nQ 2509 2491 2742 2702 \nQ 2975 2913 2975 3322 \nQ 2975 3731 2742 3939 \nQ 2509 4147 2053 4147 \nL 1259 4147 \nz\n\" transform=\"scale(0.015625)\"/>\n       <path id=\"DejaVuSans-65\" d=\"M 3597 1894 \nL 3597 1613 \nL 953 1613 \nQ 991 1019 1311 708 \nQ 1631 397 2203 397 \nQ 2534 397 2845 478 \nQ 3156 559 3463 722 \nL 3463 178 \nQ 3153 47 2828 -22 \nQ 2503 -91 2169 -91 \nQ 1331 -91 842 396 \nQ 353 884 353 1716 \nQ 353 2575 817 3079 \nQ 1281 3584 2069 3584 \nQ 2775 3584 3186 3129 \nQ 3597 2675 3597 1894 \nz\nM 3022 2063 \nQ 3016 2534 2758 2815 \nQ 2500 3097 2075 3097 \nQ 1594 3097 1305 2825 \nQ 1016 2553 972 2059 \nL 3022 2063 \nz\n\" transform=\"scale(0.015625)\"/>\n       <path id=\"DejaVuSans-70\" d=\"M 1159 525 \nL 1159 -1331 \nL 581 -1331 \nL 581 3500 \nL 1159 3500 \nL 1159 2969 \nQ 1341 3281 1617 3432 \nQ 1894 3584 2278 3584 \nQ 2916 3584 3314 3078 \nQ 3713 2572 3713 1747 \nQ 3713 922 3314 415 \nQ 2916 -91 2278 -91 \nQ 1894 -91 1617 61 \nQ 1341 213 1159 525 \nz\nM 3116 1747 \nQ 3116 2381 2855 2742 \nQ 2594 3103 2138 3103 \nQ 1681 3103 1420 2742 \nQ 1159 2381 1159 1747 \nQ 1159 1113 1420 752 \nQ 1681 391 2138 391 \nQ 2594 391 2855 752 \nQ 3116 1113 3116 1747 \nz\n\" transform=\"scale(0.015625)\"/>\n       <path id=\"DejaVuSans-6e\" d=\"M 3513 2113 \nL 3513 0 \nL 2938 0 \nL 2938 2094 \nQ 2938 2591 2744 2837 \nQ 2550 3084 2163 3084 \nQ 1697 3084 1428 2787 \nQ 1159 2491 1159 1978 \nL 1159 0 \nL 581 0 \nL 581 3500 \nL 1159 3500 \nL 1159 2956 \nQ 1366 3272 1645 3428 \nQ 1925 3584 2291 3584 \nQ 2894 3584 3203 3211 \nQ 3513 2838 3513 2113 \nz\n\" transform=\"scale(0.015625)\"/>\n       <path id=\"DejaVuSans-54\" d=\"M -19 4666 \nL 3928 4666 \nL 3928 4134 \nL 2272 4134 \nL 2272 0 \nL 1638 0 \nL 1638 4134 \nL -19 4134 \nL -19 4666 \nz\n\" transform=\"scale(0.015625)\"/>\n       <path id=\"DejaVuSans-69\" d=\"M 603 3500 \nL 1178 3500 \nL 1178 0 \nL 603 0 \nL 603 3500 \nz\nM 603 4863 \nL 1178 4863 \nL 1178 4134 \nL 603 4134 \nL 603 4863 \nz\n\" transform=\"scale(0.015625)\"/>\n       <path id=\"DejaVuSans-6d\" d=\"M 3328 2828 \nQ 3544 3216 3844 3400 \nQ 4144 3584 4550 3584 \nQ 5097 3584 5394 3201 \nQ 5691 2819 5691 2113 \nL 5691 0 \nL 5113 0 \nL 5113 2094 \nQ 5113 2597 4934 2840 \nQ 4756 3084 4391 3084 \nQ 3944 3084 3684 2787 \nQ 3425 2491 3425 1978 \nL 3425 0 \nL 2847 0 \nL 2847 2094 \nQ 2847 2600 2669 2842 \nQ 2491 3084 2119 3084 \nQ 1678 3084 1418 2786 \nQ 1159 2488 1159 1978 \nL 1159 0 \nL 581 0 \nL 581 3500 \nL 1159 3500 \nL 1159 2956 \nQ 1356 3278 1631 3431 \nQ 1906 3584 2284 3584 \nQ 2666 3584 2933 3390 \nQ 3200 3197 3328 2828 \nz\n\" transform=\"scale(0.015625)\"/>\n       <path id=\"DejaVuSans-68\" d=\"M 3513 2113 \nL 3513 0 \nL 2938 0 \nL 2938 2094 \nQ 2938 2591 2744 2837 \nQ 2550 3084 2163 3084 \nQ 1697 3084 1428 2787 \nQ 1159 2491 1159 1978 \nL 1159 0 \nL 581 0 \nL 581 4863 \nL 1159 4863 \nL 1159 2956 \nQ 1366 3272 1645 3428 \nQ 1925 3584 2291 3584 \nQ 2894 3584 3203 3211 \nQ 3513 2838 3513 2113 \nz\n\" transform=\"scale(0.015625)\"/>\n      </defs>\n      <use xlink:href=\"#DejaVuSans-48\"/>\n      <use xlink:href=\"#DejaVuSans-6f\" x=\"75.195312\"/>\n      <use xlink:href=\"#DejaVuSans-73\" x=\"136.376953\"/>\n      <use xlink:href=\"#DejaVuSans-74\" x=\"188.476562\"/>\n      <use xlink:href=\"#DejaVuSans-20\" x=\"227.685547\"/>\n      <use xlink:href=\"#DejaVuSans-52\" x=\"259.472656\"/>\n      <use xlink:href=\"#DejaVuSans-65\" x=\"324.455078\"/>\n      <use xlink:href=\"#DejaVuSans-73\" x=\"385.978516\"/>\n      <use xlink:href=\"#DejaVuSans-70\" x=\"438.078125\"/>\n      <use xlink:href=\"#DejaVuSans-6f\" x=\"501.554688\"/>\n      <use xlink:href=\"#DejaVuSans-6e\" x=\"562.736328\"/>\n      <use xlink:href=\"#DejaVuSans-73\" x=\"626.115234\"/>\n      <use xlink:href=\"#DejaVuSans-65\" x=\"678.214844\"/>\n      <use xlink:href=\"#DejaVuSans-20\" x=\"739.738281\"/>\n      <use xlink:href=\"#DejaVuSans-54\" x=\"771.525391\"/>\n      <use xlink:href=\"#DejaVuSans-69\" x=\"829.484375\"/>\n      <use xlink:href=\"#DejaVuSans-6d\" x=\"857.267578\"/>\n      <use xlink:href=\"#DejaVuSans-65\" x=\"954.679688\"/>\n      <use xlink:href=\"#DejaVuSans-20\" x=\"1016.203125\"/>\n      <use xlink:href=\"#DejaVuSans-69\" x=\"1047.990234\"/>\n      <use xlink:href=\"#DejaVuSans-6e\" x=\"1075.773438\"/>\n      <use xlink:href=\"#DejaVuSans-20\" x=\"1139.152344\"/>\n      <use xlink:href=\"#DejaVuSans-68\" x=\"1170.939453\"/>\n     </g>\n    </g>\n   </g>\n   <g id=\"matplotlib.axis_2\">\n    <g id=\"ytick_1\">\n     <g id=\"line2d_1\">\n      <path d=\"M 74.30625 511.558125 \nL 576.50625 511.558125 \n\" clip-path=\"url(#p65f6bc6511)\" style=\"fill: none; stroke: #ffffff; stroke-linecap: round\"/>\n     </g>\n     <g id=\"text_7\">\n      <!-- 0 -->\n      <g style=\"fill: #262626\" transform=\"translate(57.8075 515.737266)scale(0.11 -0.11)\">\n       <defs>\n        <path id=\"DejaVuSans-30\" d=\"M 2034 4250 \nQ 1547 4250 1301 3770 \nQ 1056 3291 1056 2328 \nQ 1056 1369 1301 889 \nQ 1547 409 2034 409 \nQ 2525 409 2770 889 \nQ 3016 1369 3016 2328 \nQ 3016 3291 2770 3770 \nQ 2525 4250 2034 4250 \nz\nM 2034 4750 \nQ 2819 4750 3233 4129 \nQ 3647 3509 3647 2328 \nQ 3647 1150 3233 529 \nQ 2819 -91 2034 -91 \nQ 1250 -91 836 529 \nQ 422 1150 422 2328 \nQ 422 3509 836 4129 \nQ 1250 4750 2034 4750 \nz\n\" transform=\"scale(0.015625)\"/>\n       </defs>\n       <use xlink:href=\"#DejaVuSans-30\"/>\n      </g>\n     </g>\n    </g>\n    <g id=\"ytick_2\">\n     <g id=\"line2d_2\">\n      <path d=\"M 74.30625 450.441086 \nL 576.50625 450.441086 \n\" clip-path=\"url(#p65f6bc6511)\" style=\"fill: none; stroke: #ffffff; stroke-linecap: round\"/>\n     </g>\n     <g id=\"text_8\">\n      <!-- 50000 -->\n      <g style=\"fill: #262626\" transform=\"translate(29.8125 454.620227)scale(0.11 -0.11)\">\n       <defs>\n        <path id=\"DejaVuSans-35\" d=\"M 691 4666 \nL 3169 4666 \nL 3169 4134 \nL 1269 4134 \nL 1269 2991 \nQ 1406 3038 1543 3061 \nQ 1681 3084 1819 3084 \nQ 2600 3084 3056 2656 \nQ 3513 2228 3513 1497 \nQ 3513 744 3044 326 \nQ 2575 -91 1722 -91 \nQ 1428 -91 1123 -41 \nQ 819 9 494 109 \nL 494 744 \nQ 775 591 1075 516 \nQ 1375 441 1709 441 \nQ 2250 441 2565 725 \nQ 2881 1009 2881 1497 \nQ 2881 1984 2565 2268 \nQ 2250 2553 1709 2553 \nQ 1456 2553 1204 2497 \nQ 953 2441 691 2322 \nL 691 4666 \nz\n\" transform=\"scale(0.015625)\"/>\n       </defs>\n       <use xlink:href=\"#DejaVuSans-35\"/>\n       <use xlink:href=\"#DejaVuSans-30\" x=\"63.623047\"/>\n       <use xlink:href=\"#DejaVuSans-30\" x=\"127.246094\"/>\n       <use xlink:href=\"#DejaVuSans-30\" x=\"190.869141\"/>\n       <use xlink:href=\"#DejaVuSans-30\" x=\"254.492188\"/>\n      </g>\n     </g>\n    </g>\n    <g id=\"ytick_3\">\n     <g id=\"line2d_3\">\n      <path d=\"M 74.30625 389.324048 \nL 576.50625 389.324048 \n\" clip-path=\"url(#p65f6bc6511)\" style=\"fill: none; stroke: #ffffff; stroke-linecap: round\"/>\n     </g>\n     <g id=\"text_9\">\n      <!-- 100000 -->\n      <g style=\"fill: #262626\" transform=\"translate(22.81375 393.503188)scale(0.11 -0.11)\">\n       <use xlink:href=\"#DejaVuSans-31\"/>\n       <use xlink:href=\"#DejaVuSans-30\" x=\"63.623047\"/>\n       <use xlink:href=\"#DejaVuSans-30\" x=\"127.246094\"/>\n       <use xlink:href=\"#DejaVuSans-30\" x=\"190.869141\"/>\n       <use xlink:href=\"#DejaVuSans-30\" x=\"254.492188\"/>\n       <use xlink:href=\"#DejaVuSans-30\" x=\"318.115234\"/>\n      </g>\n     </g>\n    </g>\n    <g id=\"ytick_4\">\n     <g id=\"line2d_4\">\n      <path d=\"M 74.30625 328.207009 \nL 576.50625 328.207009 \n\" clip-path=\"url(#p65f6bc6511)\" style=\"fill: none; stroke: #ffffff; stroke-linecap: round\"/>\n     </g>\n     <g id=\"text_10\">\n      <!-- 150000 -->\n      <g style=\"fill: #262626\" transform=\"translate(22.81375 332.38615)scale(0.11 -0.11)\">\n       <use xlink:href=\"#DejaVuSans-31\"/>\n       <use xlink:href=\"#DejaVuSans-35\" x=\"63.623047\"/>\n       <use xlink:href=\"#DejaVuSans-30\" x=\"127.246094\"/>\n       <use xlink:href=\"#DejaVuSans-30\" x=\"190.869141\"/>\n       <use xlink:href=\"#DejaVuSans-30\" x=\"254.492188\"/>\n       <use xlink:href=\"#DejaVuSans-30\" x=\"318.115234\"/>\n      </g>\n     </g>\n    </g>\n    <g id=\"ytick_5\">\n     <g id=\"line2d_5\">\n      <path d=\"M 74.30625 267.08997 \nL 576.50625 267.08997 \n\" clip-path=\"url(#p65f6bc6511)\" style=\"fill: none; stroke: #ffffff; stroke-linecap: round\"/>\n     </g>\n     <g id=\"text_11\">\n      <!-- 200000 -->\n      <g style=\"fill: #262626\" transform=\"translate(22.81375 271.269111)scale(0.11 -0.11)\">\n       <use xlink:href=\"#DejaVuSans-32\"/>\n       <use xlink:href=\"#DejaVuSans-30\" x=\"63.623047\"/>\n       <use xlink:href=\"#DejaVuSans-30\" x=\"127.246094\"/>\n       <use xlink:href=\"#DejaVuSans-30\" x=\"190.869141\"/>\n       <use xlink:href=\"#DejaVuSans-30\" x=\"254.492188\"/>\n       <use xlink:href=\"#DejaVuSans-30\" x=\"318.115234\"/>\n      </g>\n     </g>\n    </g>\n    <g id=\"ytick_6\">\n     <g id=\"line2d_6\">\n      <path d=\"M 74.30625 205.972932 \nL 576.50625 205.972932 \n\" clip-path=\"url(#p65f6bc6511)\" style=\"fill: none; stroke: #ffffff; stroke-linecap: round\"/>\n     </g>\n     <g id=\"text_12\">\n      <!-- 250000 -->\n      <g style=\"fill: #262626\" transform=\"translate(22.81375 210.152072)scale(0.11 -0.11)\">\n       <use xlink:href=\"#DejaVuSans-32\"/>\n       <use xlink:href=\"#DejaVuSans-35\" x=\"63.623047\"/>\n       <use xlink:href=\"#DejaVuSans-30\" x=\"127.246094\"/>\n       <use xlink:href=\"#DejaVuSans-30\" x=\"190.869141\"/>\n       <use xlink:href=\"#DejaVuSans-30\" x=\"254.492188\"/>\n       <use xlink:href=\"#DejaVuSans-30\" x=\"318.115234\"/>\n      </g>\n     </g>\n    </g>\n    <g id=\"ytick_7\">\n     <g id=\"line2d_7\">\n      <path d=\"M 74.30625 144.855893 \nL 576.50625 144.855893 \n\" clip-path=\"url(#p65f6bc6511)\" style=\"fill: none; stroke: #ffffff; stroke-linecap: round\"/>\n     </g>\n     <g id=\"text_13\">\n      <!-- 300000 -->\n      <g style=\"fill: #262626\" transform=\"translate(22.81375 149.035034)scale(0.11 -0.11)\">\n       <use xlink:href=\"#DejaVuSans-33\"/>\n       <use xlink:href=\"#DejaVuSans-30\" x=\"63.623047\"/>\n       <use xlink:href=\"#DejaVuSans-30\" x=\"127.246094\"/>\n       <use xlink:href=\"#DejaVuSans-30\" x=\"190.869141\"/>\n       <use xlink:href=\"#DejaVuSans-30\" x=\"254.492188\"/>\n       <use xlink:href=\"#DejaVuSans-30\" x=\"318.115234\"/>\n      </g>\n     </g>\n    </g>\n    <g id=\"ytick_8\">\n     <g id=\"line2d_8\">\n      <path d=\"M 74.30625 83.738854 \nL 576.50625 83.738854 \n\" clip-path=\"url(#p65f6bc6511)\" style=\"fill: none; stroke: #ffffff; stroke-linecap: round\"/>\n     </g>\n     <g id=\"text_14\">\n      <!-- 350000 -->\n      <g style=\"fill: #262626\" transform=\"translate(22.81375 87.917995)scale(0.11 -0.11)\">\n       <use xlink:href=\"#DejaVuSans-33\"/>\n       <use xlink:href=\"#DejaVuSans-35\" x=\"63.623047\"/>\n       <use xlink:href=\"#DejaVuSans-30\" x=\"127.246094\"/>\n       <use xlink:href=\"#DejaVuSans-30\" x=\"190.869141\"/>\n       <use xlink:href=\"#DejaVuSans-30\" x=\"254.492188\"/>\n       <use xlink:href=\"#DejaVuSans-30\" x=\"318.115234\"/>\n      </g>\n     </g>\n    </g>\n    <g id=\"ytick_9\">\n     <g id=\"line2d_9\">\n      <path d=\"M 74.30625 22.621816 \nL 576.50625 22.621816 \n\" clip-path=\"url(#p65f6bc6511)\" style=\"fill: none; stroke: #ffffff; stroke-linecap: round\"/>\n     </g>\n     <g id=\"text_15\">\n      <!-- 400000 -->\n      <g style=\"fill: #262626\" transform=\"translate(22.81375 26.800956)scale(0.11 -0.11)\">\n       <use xlink:href=\"#DejaVuSans-34\"/>\n       <use xlink:href=\"#DejaVuSans-30\" x=\"63.623047\"/>\n       <use xlink:href=\"#DejaVuSans-30\" x=\"127.246094\"/>\n       <use xlink:href=\"#DejaVuSans-30\" x=\"190.869141\"/>\n       <use xlink:href=\"#DejaVuSans-30\" x=\"254.492188\"/>\n       <use xlink:href=\"#DejaVuSans-30\" x=\"318.115234\"/>\n      </g>\n     </g>\n    </g>\n    <g id=\"text_16\">\n     <!-- Number of Responses -->\n     <g style=\"fill: #262626\" transform=\"translate(16.318125 332.580937)rotate(-90)scale(0.12 -0.12)\">\n      <defs>\n       <path id=\"DejaVuSans-4e\" d=\"M 628 4666 \nL 1478 4666 \nL 3547 763 \nL 3547 4666 \nL 4159 4666 \nL 4159 0 \nL 3309 0 \nL 1241 3903 \nL 1241 0 \nL 628 0 \nL 628 4666 \nz\n\" transform=\"scale(0.015625)\"/>\n       <path id=\"DejaVuSans-75\" d=\"M 544 1381 \nL 544 3500 \nL 1119 3500 \nL 1119 1403 \nQ 1119 906 1312 657 \nQ 1506 409 1894 409 \nQ 2359 409 2629 706 \nQ 2900 1003 2900 1516 \nL 2900 3500 \nL 3475 3500 \nL 3475 0 \nL 2900 0 \nL 2900 538 \nQ 2691 219 2414 64 \nQ 2138 -91 1772 -91 \nQ 1169 -91 856 284 \nQ 544 659 544 1381 \nz\nM 1991 3584 \nL 1991 3584 \nz\n\" transform=\"scale(0.015625)\"/>\n       <path id=\"DejaVuSans-62\" d=\"M 3116 1747 \nQ 3116 2381 2855 2742 \nQ 2594 3103 2138 3103 \nQ 1681 3103 1420 2742 \nQ 1159 2381 1159 1747 \nQ 1159 1113 1420 752 \nQ 1681 391 2138 391 \nQ 2594 391 2855 752 \nQ 3116 1113 3116 1747 \nz\nM 1159 2969 \nQ 1341 3281 1617 3432 \nQ 1894 3584 2278 3584 \nQ 2916 3584 3314 3078 \nQ 3713 2572 3713 1747 \nQ 3713 922 3314 415 \nQ 2916 -91 2278 -91 \nQ 1894 -91 1617 61 \nQ 1341 213 1159 525 \nL 1159 0 \nL 581 0 \nL 581 4863 \nL 1159 4863 \nL 1159 2969 \nz\n\" transform=\"scale(0.015625)\"/>\n       <path id=\"DejaVuSans-72\" d=\"M 2631 2963 \nQ 2534 3019 2420 3045 \nQ 2306 3072 2169 3072 \nQ 1681 3072 1420 2755 \nQ 1159 2438 1159 1844 \nL 1159 0 \nL 581 0 \nL 581 3500 \nL 1159 3500 \nL 1159 2956 \nQ 1341 3275 1631 3429 \nQ 1922 3584 2338 3584 \nQ 2397 3584 2469 3576 \nQ 2541 3569 2628 3553 \nL 2631 2963 \nz\n\" transform=\"scale(0.015625)\"/>\n       <path id=\"DejaVuSans-66\" d=\"M 2375 4863 \nL 2375 4384 \nL 1825 4384 \nQ 1516 4384 1395 4259 \nQ 1275 4134 1275 3809 \nL 1275 3500 \nL 2222 3500 \nL 2222 3053 \nL 1275 3053 \nL 1275 0 \nL 697 0 \nL 697 3053 \nL 147 3053 \nL 147 3500 \nL 697 3500 \nL 697 3744 \nQ 697 4328 969 4595 \nQ 1241 4863 1831 4863 \nL 2375 4863 \nz\n\" transform=\"scale(0.015625)\"/>\n      </defs>\n      <use xlink:href=\"#DejaVuSans-4e\"/>\n      <use xlink:href=\"#DejaVuSans-75\" x=\"74.804688\"/>\n      <use xlink:href=\"#DejaVuSans-6d\" x=\"138.183594\"/>\n      <use xlink:href=\"#DejaVuSans-62\" x=\"235.595703\"/>\n      <use xlink:href=\"#DejaVuSans-65\" x=\"299.072266\"/>\n      <use xlink:href=\"#DejaVuSans-72\" x=\"360.595703\"/>\n      <use xlink:href=\"#DejaVuSans-20\" x=\"401.708984\"/>\n      <use xlink:href=\"#DejaVuSans-6f\" x=\"433.496094\"/>\n      <use xlink:href=\"#DejaVuSans-66\" x=\"494.677734\"/>\n      <use xlink:href=\"#DejaVuSans-20\" x=\"529.882812\"/>\n      <use xlink:href=\"#DejaVuSans-52\" x=\"561.669922\"/>\n      <use xlink:href=\"#DejaVuSans-65\" x=\"626.652344\"/>\n      <use xlink:href=\"#DejaVuSans-73\" x=\"688.175781\"/>\n      <use xlink:href=\"#DejaVuSans-70\" x=\"740.275391\"/>\n      <use xlink:href=\"#DejaVuSans-6f\" x=\"803.751953\"/>\n      <use xlink:href=\"#DejaVuSans-6e\" x=\"864.933594\"/>\n      <use xlink:href=\"#DejaVuSans-73\" x=\"928.3125\"/>\n      <use xlink:href=\"#DejaVuSans-65\" x=\"980.412109\"/>\n      <use xlink:href=\"#DejaVuSans-73\" x=\"1041.935547\"/>\n     </g>\n    </g>\n   </g>\n   <g id=\"patch_3\">\n    <path d=\"M 84.35025 511.558125 \nL 164.70225 511.558125 \nL 164.70225 247.280716 \nL 84.35025 247.280716 \nz\n\" clip-path=\"url(#p65f6bc6511)\" style=\"fill: #5875a4; stroke: #ffffff; stroke-linejoin: miter\"/>\n   </g>\n   <g id=\"patch_4\">\n    <path d=\"M 184.79025 511.558125 \nL 265.14225 511.558125 \nL 265.14225 45.615268 \nL 184.79025 45.615268 \nz\n\" clip-path=\"url(#p65f6bc6511)\" style=\"fill: #cc8963; stroke: #ffffff; stroke-linejoin: miter\"/>\n   </g>\n   <g id=\"patch_5\">\n    <path d=\"M 285.23025 511.558125 \nL 365.58225 511.558125 \nL 365.58225 430.591494 \nL 285.23025 430.591494 \nz\n\" clip-path=\"url(#p65f6bc6511)\" style=\"fill: #5f9e6e; stroke: #ffffff; stroke-linejoin: miter\"/>\n   </g>\n   <g id=\"patch_6\">\n    <path d=\"M 385.67025 511.558125 \nL 466.02225 511.558125 \nL 466.02225 500.354149 \nL 385.67025 500.354149 \nz\n\" clip-path=\"url(#p65f6bc6511)\" style=\"fill: #b55d60; stroke: #ffffff; stroke-linejoin: miter\"/>\n   </g>\n   <g id=\"patch_7\">\n    <path d=\"M 486.11025 511.558125 \nL 566.46225 511.558125 \nL 566.46225 363.494765 \nL 486.11025 363.494765 \nz\n\" clip-path=\"url(#p65f6bc6511)\" style=\"fill: #857aab; stroke: #ffffff; stroke-linejoin: miter\"/>\n   </g>\n   <g id=\"line2d_10\">\n    <path clip-path=\"url(#p65f6bc6511)\" style=\"fill: none; stroke: #424242; stroke-width: 2.7; stroke-linecap: round\"/>\n   </g>\n   <g id=\"line2d_11\">\n    <path clip-path=\"url(#p65f6bc6511)\" style=\"fill: none; stroke: #424242; stroke-width: 2.7; stroke-linecap: round\"/>\n   </g>\n   <g id=\"line2d_12\">\n    <path clip-path=\"url(#p65f6bc6511)\" style=\"fill: none; stroke: #424242; stroke-width: 2.7; stroke-linecap: round\"/>\n   </g>\n   <g id=\"line2d_13\">\n    <path clip-path=\"url(#p65f6bc6511)\" style=\"fill: none; stroke: #424242; stroke-width: 2.7; stroke-linecap: round\"/>\n   </g>\n   <g id=\"line2d_14\">\n    <path clip-path=\"url(#p65f6bc6511)\" style=\"fill: none; stroke: #424242; stroke-width: 2.7; stroke-linecap: round\"/>\n   </g>\n   <g id=\"patch_8\">\n    <path d=\"M 74.30625 511.558125 \nL 74.30625 22.318125 \n\" style=\"fill: none; stroke: #ffffff; stroke-width: 1.25; stroke-linejoin: miter; stroke-linecap: square\"/>\n   </g>\n   <g id=\"patch_9\">\n    <path d=\"M 576.50625 511.558125 \nL 576.50625 22.318125 \n\" style=\"fill: none; stroke: #ffffff; stroke-width: 1.25; stroke-linejoin: miter; stroke-linecap: square\"/>\n   </g>\n   <g id=\"patch_10\">\n    <path d=\"M 74.30625 511.558125 \nL 576.50625 511.558125 \n\" style=\"fill: none; stroke: #ffffff; stroke-width: 1.25; stroke-linejoin: miter; stroke-linecap: square\"/>\n   </g>\n   <g id=\"patch_11\">\n    <path d=\"M 74.30625 22.318125 \nL 576.50625 22.318125 \n\" style=\"fill: none; stroke: #ffffff; stroke-width: 1.25; stroke-linejoin: miter; stroke-linecap: square\"/>\n   </g>\n   <g id=\"text_17\">\n    <!-- Number of Host Responses -->\n    <g style=\"fill: #262626\" transform=\"translate(244.195312 16.318125)scale(0.12 -0.12)\">\n     <use xlink:href=\"#DejaVuSans-4e\"/>\n     <use xlink:href=\"#DejaVuSans-75\" x=\"74.804688\"/>\n     <use xlink:href=\"#DejaVuSans-6d\" x=\"138.183594\"/>\n     <use xlink:href=\"#DejaVuSans-62\" x=\"235.595703\"/>\n     <use xlink:href=\"#DejaVuSans-65\" x=\"299.072266\"/>\n     <use xlink:href=\"#DejaVuSans-72\" x=\"360.595703\"/>\n     <use xlink:href=\"#DejaVuSans-20\" x=\"401.708984\"/>\n     <use xlink:href=\"#DejaVuSans-6f\" x=\"433.496094\"/>\n     <use xlink:href=\"#DejaVuSans-66\" x=\"494.677734\"/>\n     <use xlink:href=\"#DejaVuSans-20\" x=\"529.882812\"/>\n     <use xlink:href=\"#DejaVuSans-48\" x=\"561.669922\"/>\n     <use xlink:href=\"#DejaVuSans-6f\" x=\"636.865234\"/>\n     <use xlink:href=\"#DejaVuSans-73\" x=\"698.046875\"/>\n     <use xlink:href=\"#DejaVuSans-74\" x=\"750.146484\"/>\n     <use xlink:href=\"#DejaVuSans-20\" x=\"789.355469\"/>\n     <use xlink:href=\"#DejaVuSans-52\" x=\"821.142578\"/>\n     <use xlink:href=\"#DejaVuSans-65\" x=\"886.125\"/>\n     <use xlink:href=\"#DejaVuSans-73\" x=\"947.648438\"/>\n     <use xlink:href=\"#DejaVuSans-70\" x=\"999.748047\"/>\n     <use xlink:href=\"#DejaVuSans-6f\" x=\"1063.224609\"/>\n     <use xlink:href=\"#DejaVuSans-6e\" x=\"1124.40625\"/>\n     <use xlink:href=\"#DejaVuSans-73\" x=\"1187.785156\"/>\n     <use xlink:href=\"#DejaVuSans-65\" x=\"1239.884766\"/>\n     <use xlink:href=\"#DejaVuSans-73\" x=\"1301.408203\"/>\n    </g>\n   </g>\n  </g>\n </g>\n <defs>\n  <clipPath id=\"p65f6bc6511\">\n   <rect x=\"74.30625\" y=\"22.318125\" width=\"502.2\" height=\"489.24\"/>\n  </clipPath>\n </defs>\n</svg>\n",
      "text/plain": [
       "<Figure size 648x648 with 1 Axes>"
      ]
     },
     "metadata": {},
     "output_type": "display_data"
    }
   ],
   "source": [
    "sns.barplot(x=df_clean.host_response_time.unique(), y=df_clean.host_response_time.value_counts())\n",
    "plt.xlabel('Host Response Time in h')\n",
    "plt.ylabel('Number of Responses')\n",
    "plt.title('Number of Host Responses')\n",
    "plt.savefig('host_responses_count');"
   ]
  },
  {
   "cell_type": "markdown",
   "metadata": {},
   "source": [
    "Most hosts respond to requests in a timely manner. Few take more than a day or a few days, with some taking significantly longer to respond."
   ]
  },
  {
   "cell_type": "markdown",
   "metadata": {},
   "source": [
    "### Machine Learning"
   ]
  },
  {
   "cell_type": "code",
   "execution_count": 46,
   "metadata": {},
   "outputs": [
    {
     "data": {
      "text/plain": [
       "Index(['zipcode', 'property_type', 'room_type', 'cancellation_policy'], dtype='object')"
      ]
     },
     "execution_count": 46,
     "metadata": {},
     "output_type": "execute_result"
    }
   ],
   "source": [
    "# Dummy the categorical variables\n",
    "cat_vars = df_clean.select_dtypes(include=['object']).copy().columns\n",
    "cat_vars"
   ]
  },
  {
   "cell_type": "code",
   "execution_count": 47,
   "metadata": {},
   "outputs": [],
   "source": [
    "for var in cat_vars:\n",
    "    # for each cat add dummy var, drop original column\n",
    "    df_clean = pd.concat([df_clean.drop(var, axis=1), pd.get_dummies(df_clean[var], prefix=var, prefix_sep='_', drop_first=True, dummy_na=True)], axis=1)"
   ]
  },
  {
   "cell_type": "code",
   "execution_count": 48,
   "metadata": {},
   "outputs": [],
   "source": [
    "# Split into explanatory and response variables\n",
    "X = df_clean.drop(columns='price_x')\n",
    "y = df_clean['price_x']"
   ]
  },
  {
   "cell_type": "code",
   "execution_count": 49,
   "metadata": {},
   "outputs": [],
   "source": [
    "# Split into train and test\n",
    "X_train, X_test, y_train, y_test = train_test_split(X, y, test_size = 0.3, random_state = 42)"
   ]
  },
  {
   "cell_type": "code",
   "execution_count": 50,
   "metadata": {},
   "outputs": [
    {
     "name": "stderr",
     "output_type": "stream",
     "text": [
      "/usr/lib64/python3.10/site-packages/sklearn/linear_model/_base.py:141: FutureWarning: 'normalize' was deprecated in version 1.0 and will be removed in 1.2.\n",
      "If you wish to scale the data, use Pipeline with a StandardScaler in a preprocessing stage. To reproduce the previous behavior:\n",
      "\n",
      "from sklearn.pipeline import make_pipeline\n",
      "\n",
      "model = make_pipeline(StandardScaler(with_mean=False), LinearRegression())\n",
      "\n",
      "If you wish to pass a sample_weight parameter, you need to pass it as a fit parameter to each step of the pipeline as follows:\n",
      "\n",
      "kwargs = {s[0] + '__sample_weight': sample_weight for s in model.steps}\n",
      "model.fit(X, y, **kwargs)\n",
      "\n",
      "\n",
      "  warnings.warn(\n"
     ]
    }
   ],
   "source": [
    "# Instantiate\n",
    "lm_model = LinearRegression(normalize=True);\n",
    "\n",
    "# Fit\n",
    "lm_model.fit(X_train, y_train);"
   ]
  },
  {
   "cell_type": "code",
   "execution_count": 51,
   "metadata": {},
   "outputs": [],
   "source": [
    "#Predict using your model\n",
    "y_test_preds = lm_model.predict(X_test)\n",
    "y_train_preds = lm_model.predict(X_train)"
   ]
  },
  {
   "cell_type": "code",
   "execution_count": 52,
   "metadata": {},
   "outputs": [],
   "source": [
    "#Score using your model\n",
    "test_score = r2_score(y_test, y_test_preds)\n",
    "train_score = r2_score(y_train, y_train_preds)"
   ]
  },
  {
   "cell_type": "code",
   "execution_count": 53,
   "metadata": {},
   "outputs": [
    {
     "name": "stdout",
     "output_type": "stream",
     "text": [
      "The r^2 on the training data was 0.6277481070461097.  The r^2 on the test data was 0.6290503391083058.\n"
     ]
    }
   ],
   "source": [
    "#Print training and testing score\n",
    "print(\"The r^2 on the training data was {}.  The r^2 on the test data was {}.\".format(train_score, test_score))"
   ]
  },
  {
   "cell_type": "markdown",
   "metadata": {},
   "source": [
    "## Appendix\n",
    "\n",
    "### I. Sources\n",
    "- [Kaggle](https://www.kaggle.com/airbnb/seattle)  for the dataset\n",
    "- Udacity with necessary code and knowledge\n",
    "- Stackoverflow for [custom color palettes](https://stackoverflow.com/questions/50192121/custom-color-palette-intervals-in-seaborn-heatmap) and [approach to missing data](https://stackoverflow.com/questions/37366717/pandas-print-column-name-with-missing-values)\n"
   ]
  },
  {
   "cell_type": "markdown",
   "metadata": {},
   "source": []
  }
 ],
 "metadata": {
  "interpreter": {
   "hash": "e7370f93d1d0cde622a1f8e1c04877d8463912d04d973331ad4851f04de6915a"
  },
  "kernelspec": {
   "display_name": "Python 3.10.0 64-bit",
   "name": "python3"
  },
  "language_info": {
   "codemirror_mode": {
    "name": "ipython",
    "version": 3
   },
   "file_extension": ".py",
   "mimetype": "text/x-python",
   "name": "python",
   "nbconvert_exporter": "python",
   "pygments_lexer": "ipython3",
   "version": "3.10.0"
  }
 },
 "nbformat": 4,
 "nbformat_minor": 2
}
